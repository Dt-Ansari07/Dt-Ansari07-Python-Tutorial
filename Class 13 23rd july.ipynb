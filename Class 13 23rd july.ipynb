{
 "cells": [
  {
   "cell_type": "markdown",
   "id": "6faaf07f-040d-432b-9282-c01dd6cff1ec",
   "metadata": {},
   "source": [
    "# Class 13th July 23rd"
   ]
  },
  {
   "cell_type": "code",
   "execution_count": 6,
   "id": "f49115a2-eb08-44d2-a166-5fd741277737",
   "metadata": {},
   "outputs": [
    {
     "name": "stdout",
     "output_type": "stream",
     "text": [
      "[0.0, 0.5, 1.0, 1.5]\n"
     ]
    }
   ],
   "source": [
    "# Q15. \n",
    "L = [0.5 * x for x in range(4)]\n",
    "print(L)"
   ]
  },
  {
   "cell_type": "code",
   "execution_count": 8,
   "id": "134c8fd5-5d73-487b-b9d3-213a48bc15db",
   "metadata": {},
   "outputs": [
    {
     "name": "stdout",
     "output_type": "stream",
     "text": [
      "['', 'a', 'aa', 'aaa']\n"
     ]
    }
   ],
   "source": [
    "# Q16.\n",
    "L = ['a' * x for x in range(4)]\n",
    "print(L)"
   ]
  },
  {
   "cell_type": "code",
   "execution_count": 10,
   "id": "19af9193-fdf0-4b7b-a8cc-960b6e4c7fb1",
   "metadata": {},
   "outputs": [
    {
     "name": "stdout",
     "output_type": "stream",
     "text": [
      "None\n"
     ]
    }
   ],
   "source": [
    "# Q30.\n",
    "T = [1,2,3,4]\n",
    "T1 = [5,6,7]\n",
    "L = T.append(T1)\n",
    "print(L)"
   ]
  },
  {
   "cell_type": "code",
   "execution_count": 12,
   "id": "9cf10513-6752-4258-9558-e5cdd8af9af6",
   "metadata": {},
   "outputs": [
    {
     "name": "stdout",
     "output_type": "stream",
     "text": [
      "5\n"
     ]
    }
   ],
   "source": [
    "L = [1,2,3,4,5,6,7,8,9,10]\n",
    "print(L[L[3]])\n",
    "\n",
    "\n",
    "#L[3]-----4\n",
    "# L[4]------5  answer"
   ]
  },
  {
   "cell_type": "code",
   "execution_count": 18,
   "id": "476a44af-c191-4aa1-8655-0edcdc650769",
   "metadata": {},
   "outputs": [
    {
     "name": "stdout",
     "output_type": "stream",
     "text": [
      "[23, 45, 65, 'Monitor', 32, 3]\n"
     ]
    }
   ],
   "source": [
    "L = [23,45,65,32,3]\n",
    "L.insert(L[4],'Monitor')\n",
    "print(L)"
   ]
  },
  {
   "cell_type": "markdown",
   "id": "f9752688-8f0f-43c7-be49-5e56ab9b54e4",
   "metadata": {},
   "source": [
    "# Python - String\n",
    "\n",
    "In Python, string is an immutable sequence data type. It is the sequence of Unicode characters wrapped inside single, double, or triple quotes.\n",
    "\n",
    " \n",
    "\n",
    "'This is a string in Python' # string in single quotes\n",
    "\n",
    "\"This is a string in Python\" # string in double quotes\n",
    "\n",
    "'''This is a string in Python''' # string in triple quotes\n",
    "\n",
    "\"\"\"This is a string in Python\"\"\" # string in triple double-quotes"
   ]
  },
  {
   "cell_type": "code",
   "execution_count": 24,
   "id": "6cefc995-80bb-4338-b4b3-5cf05f415a2b",
   "metadata": {},
   "outputs": [
    {
     "name": "stdout",
     "output_type": "stream",
     "text": [
      "This is a string in Python\n",
      "This is a string in Python\n"
     ]
    }
   ],
   "source": [
    "str1 = 'This is a string in Python'\n",
    "print(str1)\n",
    "\n",
    "str2 = \"This is a string in Python\"\n",
    "print(str2)"
   ]
  },
  {
   "cell_type": "code",
   "execution_count": 28,
   "id": "1c4d0e69-9ccc-4127-8c91-7ce0faffb63d",
   "metadata": {},
   "outputs": [
    {
     "name": "stdout",
     "output_type": "stream",
     "text": [
      " This is \n",
      "the second\n",
      "Milti-line\n",
      "string.\n",
      " This is \n",
      "the second\n",
      "Milti-line\n",
      "string.\n"
     ]
    }
   ],
   "source": [
    "str1 = ''' This is \n",
    "the second\n",
    "Milti-line\n",
    "string.'''\n",
    "print(str1)\n",
    "\n",
    "str2 = \"\"\" This is \n",
    "the second\n",
    "Milti-line\n",
    "string.\"\"\"\n",
    "print(str2)"
   ]
  },
  {
   "cell_type": "code",
   "execution_count": 30,
   "id": "f6149a76-49e5-4786-b42b-0da9b82e9f3a",
   "metadata": {},
   "outputs": [
    {
     "name": "stdout",
     "output_type": "stream",
     "text": [
      "5\n"
     ]
    }
   ],
   "source": [
    "greet = 'Hello'\n",
    "n = len(greet) # return 5\n",
    "print(n)"
   ]
  },
  {
   "cell_type": "markdown",
   "id": "1cf4d33b-50f9-4d18-8cef-eee513d81c85",
   "metadata": {},
   "source": [
    "A sequence is defined as an ordered collection of items. Hence, a string is an ordered collection of characters. The sequence uses an index, starting with zero to fetch a certain item (a character in case of a string) from it."
   ]
  },
  {
   "cell_type": "code",
   "execution_count": 33,
   "id": "5e0cccc2-cc28-4530-88f3-df582d7e1a52",
   "metadata": {},
   "outputs": [
    {
     "name": "stdout",
     "output_type": "stream",
     "text": [
      "h\n",
      "e\n",
      "l\n",
      "l\n",
      "o\n"
     ]
    },
    {
     "ename": "IndexError",
     "evalue": "string index out of range",
     "output_type": "error",
     "traceback": [
      "\u001b[1;31m---------------------------------------------------------------------------\u001b[0m",
      "\u001b[1;31mIndexError\u001b[0m                                Traceback (most recent call last)",
      "Cell \u001b[1;32mIn[33], line 7\u001b[0m\n\u001b[0;32m      5\u001b[0m \u001b[38;5;28mprint\u001b[39m(greet[\u001b[38;5;241m3\u001b[39m])\n\u001b[0;32m      6\u001b[0m \u001b[38;5;28mprint\u001b[39m(greet[\u001b[38;5;241m4\u001b[39m])\n\u001b[1;32m----> 7\u001b[0m \u001b[38;5;28mprint\u001b[39m(greet[\u001b[38;5;241m5\u001b[39m])\n",
      "\u001b[1;31mIndexError\u001b[0m: string index out of range"
     ]
    }
   ],
   "source": [
    "greet = 'hello'\n",
    "print(greet[0])\n",
    "print(greet[1])\n",
    "print(greet[2])\n",
    "print(greet[3])\n",
    "print(greet[4])\n",
    "print(greet[5])   #IndexError: string index out of range"
   ]
  },
  {
   "cell_type": "code",
   "execution_count": 37,
   "id": "dfc33aee-afbb-403a-8c96-cb25c49fafbe",
   "metadata": {},
   "outputs": [
    {
     "name": "stdout",
     "output_type": "stream",
     "text": [
      "h\n",
      "e\n",
      "l\n",
      "l\n",
      "o\n",
      "h\n"
     ]
    }
   ],
   "source": [
    "greet = 'hello'\n",
    "print(greet[-5])\n",
    "print(greet[-4])\n",
    "print(greet[-3])\n",
    "print(greet[-2])\n",
    "print(greet[-1])\n",
    "print(greet[0])"
   ]
  },
  {
   "cell_type": "markdown",
   "id": "26a2b70a-93b2-4417-8664-f8f2ccbd8d3f",
   "metadata": {},
   "source": [
    "The string is an immutable object. Hence, it is not possible to modify it. \n",
    "The attempt to assign different characters at a certain index results in errors."
   ]
  },
  {
   "cell_type": "code",
   "execution_count": 67,
   "id": "60271ae1-5af0-4dac-aa4c-20d11a6e26b7",
   "metadata": {},
   "outputs": [
    {
     "ename": "TypeError",
     "evalue": "'str' object does not support item assignment",
     "output_type": "error",
     "traceback": [
      "\u001b[1;31m---------------------------------------------------------------------------\u001b[0m",
      "\u001b[1;31mTypeError\u001b[0m                                 Traceback (most recent call last)",
      "Cell \u001b[1;32mIn[67], line 2\u001b[0m\n\u001b[0;32m      1\u001b[0m greet \u001b[38;5;241m=\u001b[39m \u001b[38;5;124m'\u001b[39m\u001b[38;5;124mhello\u001b[39m\u001b[38;5;124m'\u001b[39m\n\u001b[1;32m----> 2\u001b[0m greet[\u001b[38;5;241m0\u001b[39m] \u001b[38;5;241m=\u001b[39m \u001b[38;5;124m'\u001b[39m\u001b[38;5;124mA\u001b[39m\u001b[38;5;124m'\u001b[39m\n",
      "\u001b[1;31mTypeError\u001b[0m: 'str' object does not support item assignment"
     ]
    }
   ],
   "source": [
    "greet = 'hello'\n",
    "greet[0] = 'A' #TypeError: 'str' object does not support item assignment"
   ]
  },
  {
   "cell_type": "code",
   "execution_count": 51,
   "id": "7016a9c2-f372-4fe8-ab3f-628f00e23265",
   "metadata": {},
   "outputs": [
    {
     "name": "stdout",
     "output_type": "stream",
     "text": [
      "<class 'str'>\n",
      "-10\n",
      "True\n"
     ]
    }
   ],
   "source": [
    "# Use the str() function to convert a number to a string.\n",
    "\n",
    "# Example: str()\n",
    "s = str(100)\n",
    "print(type(s))   #'100'\n",
    "\n",
    "s = str(-10)\n",
    "print(s)  #'-10'\n",
    "\n",
    "s = str(True)\n",
    "print(s)  #'True'"
   ]
  },
  {
   "cell_type": "markdown",
   "id": "5f675197-151d-44ba-9c3c-c0ebec4001cd",
   "metadata": {},
   "source": [
    "# Python capitalize() Method\n",
    "\n",
    "The capitalize() method returns the copy of the string with its first character capitalized and the rest of the letters lowercased.\n",
    "\n",
    "Syntax:\n",
    "string.capitalize()"
   ]
  },
  {
   "cell_type": "code",
   "execution_count": 53,
   "id": "76e28921-db27-4059-aee5-c7aa7ff0447f",
   "metadata": {},
   "outputs": [
    {
     "name": "stdout",
     "output_type": "stream",
     "text": [
      "New String: Hello world\n"
     ]
    }
   ],
   "source": [
    "a = 'hello world'\n",
    "print('New String:' , a.capitalize())"
   ]
  },
  {
   "cell_type": "markdown",
   "id": "1b146e1a-d14a-474a-8f5a-bd58cf89cb72",
   "metadata": {},
   "source": [
    "# Python String count() Method\n",
    "\n",
    "The count() method searches (case-sensitive) the specified substring in the given string and returns an integer indicating occurrences of the substring. By default, the counting begins from 0 index till the end of the string."
   ]
  },
  {
   "cell_type": "code",
   "execution_count": 11,
   "id": "1e834a7a-1829-48af-a0ca-849c7785a79b",
   "metadata": {},
   "outputs": [
    {
     "name": "stdout",
     "output_type": "stream",
     "text": [
      "Number of occurrences of \"Madrid\": 1\n",
      "Number of occurrences of \"madrid\": 0\n"
     ]
    }
   ],
   "source": [
    "mystr = 'Madrid is a Best institute for data Science Learning'\n",
    "\n",
    "total = mystr.count('Madrid')\n",
    "print('Number of occurrences of \"Madrid\":',total)\n",
    "\n",
    "total = mystr.count('madrid')\n",
    "print('Number of occurrences of \"madrid\":',total)"
   ]
  },
  {
   "cell_type": "markdown",
   "id": "fe0854bf-f093-4d2e-9557-4c3c176d4f76",
   "metadata": {},
   "source": [
    "# Python String endswith() Method\n",
    "\n",
    "The endswith() function returns True if a string ends with the specified suffix (case-sensitive), otherwise returns False."
   ]
  },
  {
   "cell_type": "code",
   "execution_count": 65,
   "id": "a559a5ca-0d08-4a4b-bc4a-942f1d9533cd",
   "metadata": {},
   "outputs": [
    {
     "name": "stdout",
     "output_type": "stream",
     "text": [
      "True\n",
      "True\n",
      "True\n",
      "True\n",
      "False\n"
     ]
    }
   ],
   "source": [
    "mystr = 'Python is a programming language.'\n",
    "print(mystr.endswith('.'))  # returns True\n",
    "print(mystr.endswith('age.'))  # returns True\n",
    "print(mystr.endswith('language.'))  # returns True\n",
    "print(mystr.endswith('programming language.'))  # returns True\n",
    "print(mystr.endswith('age'))  # returns False, . is missing"
   ]
  },
  {
   "cell_type": "markdown",
   "id": "94396aec-56d5-4e8f-8696-84259588cf08",
   "metadata": {},
   "source": [
    "# Python String find() Method\n",
    "\n",
    "The find() method returns the index of the first occurence of a substring in the given string (case-sensitive). If the substring is not found it returns -1.\n"
   ]
  },
  {
   "cell_type": "code",
   "execution_count": 73,
   "id": "79b39ee1-4d7d-4abe-960e-f7b6f2426e74",
   "metadata": {},
   "outputs": [
    {
     "name": "stdout",
     "output_type": "stream",
     "text": [
      "Index of 'H': 0\n",
      "Index of 'h': -1\n",
      "Index of 'e': 1\n",
      "Index of 'World': 6\n"
     ]
    }
   ],
   "source": [
    "greet = 'Hello World'\n",
    "print(\"Index of 'H':\", greet.find('H'))\n",
    "print(\"Index of 'h':\", greet.find('h'))  # returns -1 as 'h' not found\n",
    "print(\"Index of 'e':\", greet.find('e'))\n",
    "print(\"Index of 'World':\", greet.find('World'))"
   ]
  },
  {
   "cell_type": "markdown",
   "id": "77150111-c5ea-4c91-9110-6210ed412f68",
   "metadata": {},
   "source": [
    "# Difference btw find and index\n",
    "index returns error if not found and\n",
    "find returns -1 if not found"
   ]
  },
  {
   "cell_type": "markdown",
   "id": "fb3cab8e-18a5-40e0-ae6e-a866c60b3042",
   "metadata": {},
   "source": [
    "# Python String index() Method\r\n",
    "\r\n",
    "The index() method returns the index of the first occurence of a substring in the given string. It is same as the find() method except that if a substring is not found, then it raises an exceptio\n",
    "\r\n",
    "\r\n",
    "\r\n"
   ]
  },
  {
   "cell_type": "code",
   "execution_count": 16,
   "id": "6f21cb7f-7ce8-493b-bc9f-f0ee45d22961",
   "metadata": {
    "jp-MarkdownHeadingCollapsed": true
   },
   "outputs": [
    {
     "name": "stdout",
     "output_type": "stream",
     "text": [
      "Index of 'H': 0\n",
      "Index of 'e': 1\n",
      "Index of 'l': 2\n",
      "Index of 'World': 6\n"
     ]
    }
   ],
   "source": [
    "greet = 'Hello World'\n",
    "print(\"Index of 'H':\", greet.index('H'))\n",
    "print(\"Index of 'e':\", greet.index('e'))\n",
    "print(\"Index of 'l':\", greet.index('l'))\n",
    "print(\"Index of 'World':\", greet.index('World'))\r\n"
   ]
  },
  {
   "cell_type": "markdown",
   "id": "fe63b2cf-f7d5-437a-8415-a8c3d8cc0d65",
   "metadata": {},
   "source": [
    "# Python String isalnum() Method\n",
    "\n",
    "The isalnum() method returns True if all characters in the string are alphanumeric (either alphabets or numbers). If not, it returns False.\n",
    "\n",
    "\n",
    "Syntax:\n",
    "str.isalnum()"
   ]
  },
  {
   "cell_type": "code",
   "execution_count": 7,
   "id": "ee9532bf-a82f-4236-9657-9856d79503db",
   "metadata": {},
   "outputs": [
    {
     "name": "stdout",
     "output_type": "stream",
     "text": [
      "True\n",
      "True\n",
      "True\n",
      "False\n",
      "False\n"
     ]
    }
   ],
   "source": [
    "mystr = 'Hello123'\n",
    "print(mystr.isalnum())\n",
    "\n",
    "mystr = '12345'\n",
    "print(mystr.isalnum())\n",
    "\n",
    "mystr = 'Madrid'\n",
    "print(mystr.isalnum())\n",
    "\n",
    "mystr = 'Python is a programming Languag'\n",
    "print(mystr.isalnum())\n",
    "\n",
    "mystr = '#1'\n",
    "print(mystr.isalnum())"
   ]
  },
  {
   "cell_type": "markdown",
   "id": "976f0b80-a540-49be-9a8e-044eff274bfc",
   "metadata": {},
   "source": [
    "# Python String isdigit() Method\n",
    "\n",
    "The isdigit() method returns True if all characters in a string are digits or Unicode char of a digit. If not, it returns False.\n",
    "\n",
    "str.isdigit()\n",
    "\n",
    "\n"
   ]
  },
  {
   "cell_type": "code",
   "execution_count": 93,
   "id": "78ab3d7f-10dc-4014-b097-5a09402444bb",
   "metadata": {},
   "outputs": [
    {
     "name": "stdout",
     "output_type": "stream",
     "text": [
      "True\n",
      "False\n",
      "False\n"
     ]
    }
   ],
   "source": [
    "mystr = '12345'\n",
    "print(mystr.isdigit())\n",
    "\n",
    "mystr = '10.5'\n",
    "print(mystr.isdigit())\n",
    "\n",
    "mystr = 'python'\n",
    "print(mystr.isdigit())"
   ]
  },
  {
   "cell_type": "code",
   "execution_count": null,
   "id": "c54c319d-9d89-46da-bc94-d801d73474f4",
   "metadata": {},
   "outputs": [],
   "source": []
  }
 ],
 "metadata": {
  "kernelspec": {
   "display_name": "Python 3 (ipykernel)",
   "language": "python",
   "name": "python3"
  },
  "language_info": {
   "codemirror_mode": {
    "name": "ipython",
    "version": 3
   },
   "file_extension": ".py",
   "mimetype": "text/x-python",
   "name": "python",
   "nbconvert_exporter": "python",
   "pygments_lexer": "ipython3",
   "version": "3.12.4"
  }
 },
 "nbformat": 4,
 "nbformat_minor": 5
}
