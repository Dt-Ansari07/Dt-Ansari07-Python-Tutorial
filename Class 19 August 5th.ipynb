{
 "cells": [
  {
   "cell_type": "markdown",
   "id": "cfce3e8c-312a-4cb9-9a6c-d01fb8d87650",
   "metadata": {},
   "source": [
    "# Class 19th July August 5 - Topic Functions\n",
    "- Notes with Questions\n",
    "- Practice Questions - 16"
   ]
  },
  {
   "cell_type": "markdown",
   "id": "57538283-3d5c-4f3c-8535-4203bc41b9cd",
   "metadata": {},
   "source": [
    "# Functions\n",
    "A function is a block of organized code written to carry out a specified task.\n",
    "\n",
    "Functions help break our program into smaller and modular chunks for better readability.\n",
    "\n",
    "Information can be passed into a function as arguments.\n",
    "\n",
    "Parameters are specified after the function name inside the parentheses.\n",
    "\n",
    "We can add as many parameters as we want. Parameters must be separated with a comma.\n",
    "\n",
    "A function may or may not return data.\n",
    "\n",
    "In Python, a function is defined using the 'def' keyword."
   ]
  },
  {
   "cell_type": "markdown",
   "id": "8de3e1a0-d609-496e-80ab-fa92be3f6007",
   "metadata": {},
   "source": [
    "# Parameter VS Argument\n",
    "- A parameter is the variable listed inside the parantheses in the function definition.\n",
    "- An argument is the value that is sent to function when it is called."
   ]
  },
  {
   "cell_type": "markdown",
   "id": "9595f0bc-cded-44e7-a85d-bb3460cd3e57",
   "metadata": {},
   "source": [
    "- Built in fucntion:- Python defined functions that are readily available for use like min(), max(), sum(), print() etc.\n",
    "- User Defined Functions: Function that we define ourselves to perform a specific task.\n",
    "- Anonymous Functions: Functions that is defined without a name. Anonymous fucntions are also called as lambda functions. They are not declared with the 'def' keyword."
   ]
  },
  {
   "cell_type": "markdown",
   "id": "747a556b-8e65-4d01-bd8d-398ec00b3748",
   "metadata": {},
   "source": [
    "# Functions:-\n",
    "1. default\n",
    "2. argument\n",
    "3. return type\n",
    "4. placeholder argument\n",
    "5. args, kwargs"
   ]
  },
  {
   "cell_type": "markdown",
   "id": "19c6fef5-2443-4871-93bb-a7d82fa534fb",
   "metadata": {},
   "source": [
    "# 1. default"
   ]
  },
  {
   "cell_type": "raw",
   "id": "e7f38168-1c22-46cc-aa8e-e92784b004c1",
   "metadata": {},
   "source": [
    "Syntax:\n",
    "def function_name():    # Definition\n",
    "    logic / Statement\n",
    "\n",
    "\n",
    "function_name()    # Calling"
   ]
  },
  {
   "cell_type": "code",
   "execution_count": 25,
   "id": "674d06a0-4a63-41a9-a79c-defa867fae09",
   "metadata": {},
   "outputs": [],
   "source": [
    "# Some of two numbers\n",
    "\n",
    "def addition_oftwo():\n",
    "    a = int(input(\"Enter the number\"))\n",
    "    b = int(input(\"Enter the number\"))\n",
    "    c = a + b\n",
    "    print(\"the sum is \",c)"
   ]
  },
  {
   "cell_type": "code",
   "execution_count": 27,
   "id": "b8d3bff1-b985-4a50-b228-a51c781e95a0",
   "metadata": {},
   "outputs": [
    {
     "name": "stdin",
     "output_type": "stream",
     "text": [
      "Enter the number 45\n",
      "Enter the number 243\n"
     ]
    },
    {
     "name": "stdout",
     "output_type": "stream",
     "text": [
      "the sum is  288\n"
     ]
    }
   ],
   "source": [
    "addition_oftwo()"
   ]
  },
  {
   "cell_type": "code",
   "execution_count": 29,
   "id": "6a0bfaa3-69c9-4c87-a51c-d825995145d8",
   "metadata": {},
   "outputs": [],
   "source": [
    "def interest():\n",
    "    p = int(input(\"Enter the principle amount\"))\n",
    "    r = int(input(\"Enter the rate\"))\n",
    "    t = int(input(\"Enter the value of time\"))\n",
    "    si = p*r*t/100\n",
    "    print(\"The simple interest is \",si)"
   ]
  },
  {
   "cell_type": "code",
   "execution_count": 31,
   "id": "e1fbf75c-4d5b-4d60-86c9-8d1b0a1db1ec",
   "metadata": {},
   "outputs": [
    {
     "name": "stdin",
     "output_type": "stream",
     "text": [
      "Enter the principle amount 45000\n",
      "Enter the rate 6\n",
      "Enter the value of time 5\n"
     ]
    },
    {
     "name": "stdout",
     "output_type": "stream",
     "text": [
      "The simple interest is  13500.0\n"
     ]
    }
   ],
   "source": [
    "interest()"
   ]
  },
  {
   "cell_type": "code",
   "execution_count": 35,
   "id": "f3c9d0bc-f073-4d61-93f3-38f9c00fd238",
   "metadata": {},
   "outputs": [],
   "source": [
    "def check():\n",
    "    n = int(input(\"Enter the number\"))\n",
    "    if n%2==0:\n",
    "      print(\"Even Number\")\n",
    "    else: \n",
    "      print(\"Odd Number\")"
   ]
  },
  {
   "cell_type": "code",
   "execution_count": 37,
   "id": "79fb8d3e-a9ba-4f90-b288-4b7597d2b29c",
   "metadata": {},
   "outputs": [
    {
     "name": "stdin",
     "output_type": "stream",
     "text": [
      "Enter the number 45\n"
     ]
    },
    {
     "name": "stdout",
     "output_type": "stream",
     "text": [
      "Odd Number\n"
     ]
    }
   ],
   "source": [
    "check()"
   ]
  },
  {
   "cell_type": "code",
   "execution_count": 43,
   "id": "b06d865a-279c-42db-a255-93a35e2bffa1",
   "metadata": {},
   "outputs": [],
   "source": [
    "def fact():\n",
    "    n = int(input(\"Enter the number\"))\n",
    "    f = 1\n",
    "    for i in range(1,n+1):\n",
    "        f = f*i\n",
    "    print(\"the factorial is\",f)"
   ]
  },
  {
   "cell_type": "code",
   "execution_count": 53,
   "id": "177d4e86-a63f-420c-a44d-daf6e132cf3a",
   "metadata": {},
   "outputs": [
    {
     "name": "stdin",
     "output_type": "stream",
     "text": [
      "Enter the number 6\n"
     ]
    },
    {
     "name": "stdout",
     "output_type": "stream",
     "text": [
      "the factorial is 720\n"
     ]
    }
   ],
   "source": [
    "fact()"
   ]
  },
  {
   "cell_type": "code",
   "execution_count": 57,
   "id": "246530ea-e5b5-4c95-b541-4732f0cc97ee",
   "metadata": {},
   "outputs": [],
   "source": [
    "def prime():\n",
    "    n = int(input(\"Enter the number\"))\n",
    "    co = 0\n",
    "    for i in range(1,n+1):\n",
    "        if n%i==0:\n",
    "            co += 1\n",
    "    if co==2:\n",
    "      print(\"Prime Number\")\n",
    "    else:\n",
    "      print(\"Not Prime Number\")"
   ]
  },
  {
   "cell_type": "code",
   "execution_count": 59,
   "id": "008bdf9f-e6d0-49fa-a1ea-defb603f6b5e",
   "metadata": {},
   "outputs": [
    {
     "name": "stdin",
     "output_type": "stream",
     "text": [
      "Enter the number 34\n"
     ]
    },
    {
     "name": "stdout",
     "output_type": "stream",
     "text": [
      "Not Prime Number\n"
     ]
    }
   ],
   "source": [
    "prime()"
   ]
  },
  {
   "cell_type": "code",
   "execution_count": 75,
   "id": "969eb937-8ded-42e7-bac7-e576d5620483",
   "metadata": {},
   "outputs": [],
   "source": [
    "def reverse():\n",
    "    rev = 0\n",
    "    n = int(input(\"Enter the number\"))\n",
    "    while n>0:\n",
    "        rev = rev*10+n%10\n",
    "        n = n//10\n",
    "    print(\"Reverse is \",rev)2"
   ]
  },
  {
   "cell_type": "code",
   "execution_count": 77,
   "id": "24f506cf-af60-4d65-a8ca-cc88528ae140",
   "metadata": {},
   "outputs": [
    {
     "name": "stdin",
     "output_type": "stream",
     "text": [
      "Enter the number 34546\n"
     ]
    },
    {
     "name": "stdout",
     "output_type": "stream",
     "text": [
      "Reverse is  64543\n"
     ]
    }
   ],
   "source": [
    "reverse()"
   ]
  },
  {
   "cell_type": "markdown",
   "id": "ad844a53-d0c7-4d4f-9ba6-963119cee4d7",
   "metadata": {},
   "source": [
    "# 2. argument function"
   ]
  },
  {
   "cell_type": "raw",
   "id": "98a665d9-8908-461a-9f80-add794275a07",
   "metadata": {},
   "source": [
    "Syntax:\n",
    "def function_name(arg1,arg2...):\n",
    "       logic / statement\n",
    "\n",
    "fucntion_name(arg1,arg2)"
   ]
  },
  {
   "cell_type": "code",
   "execution_count": 86,
   "id": "6efcc7c1-b4da-43b4-8543-a21a4be02809",
   "metadata": {},
   "outputs": [],
   "source": [
    "def addition(a,b):\n",
    "    c = a+b\n",
    "    print(\"The sum is\",c)"
   ]
  },
  {
   "cell_type": "code",
   "execution_count": 88,
   "id": "99baa489-f277-4540-864e-c5b6d1fb87a6",
   "metadata": {},
   "outputs": [
    {
     "name": "stdout",
     "output_type": "stream",
     "text": [
      "The sum is 79\n"
     ]
    }
   ],
   "source": [
    "addition(34,45)"
   ]
  },
  {
   "cell_type": "code",
   "execution_count": 90,
   "id": "504d6f16-ea14-4662-a666-1ca27f8735ee",
   "metadata": {},
   "outputs": [
    {
     "name": "stdin",
     "output_type": "stream",
     "text": [
      "Enter the number 45\n",
      "Enter the number 67\n"
     ]
    },
    {
     "name": "stdout",
     "output_type": "stream",
     "text": [
      "The sum is 112\n"
     ]
    }
   ],
   "source": [
    "x=int(input(\"Enter the number\"))\n",
    "y=int(input(\"Enter the number\"))\n",
    "addition(x,y)"
   ]
  },
  {
   "cell_type": "code",
   "execution_count": 92,
   "id": "7924d7b2-c423-47dc-9e27-4ad6a3fb07e3",
   "metadata": {},
   "outputs": [],
   "source": [
    "def sim_interest(a,b,c):\n",
    "    si = a*b*c/100\n",
    "    print(\"The simple interest is\", si)"
   ]
  },
  {
   "cell_type": "code",
   "execution_count": 94,
   "id": "f73d8b14-01ec-437a-b915-323274810e79",
   "metadata": {},
   "outputs": [
    {
     "name": "stdout",
     "output_type": "stream",
     "text": [
      "The simple interest is 816.0\n"
     ]
    }
   ],
   "source": [
    "sim_interest(3400,4,6)"
   ]
  },
  {
   "cell_type": "code",
   "execution_count": 96,
   "id": "a8d070e2-4adf-4b4e-aaaf-fdabda591612",
   "metadata": {},
   "outputs": [
    {
     "name": "stdin",
     "output_type": "stream",
     "text": [
      "Enter the principle amount 45000\n",
      "Enter the rate 6\n",
      "Enter the time 5\n"
     ]
    },
    {
     "name": "stdout",
     "output_type": "stream",
     "text": [
      "The simple interest is 13500.0\n"
     ]
    }
   ],
   "source": [
    "p = int(input(\"Enter the principle amount\"))\n",
    "r = int(input(\"Enter the rate\"))\n",
    "t = int(input(\"Enter the time\"))\n",
    "\n",
    "sim_interest(p,r,t)"
   ]
  },
  {
   "cell_type": "code",
   "execution_count": 98,
   "id": "9300f160-f5a6-43de-894f-fb1cc91461c4",
   "metadata": {},
   "outputs": [],
   "source": [
    "def factorial(a):\n",
    "    n = int(input(\"Enter the number\"))\n",
    "    f = 1\n",
    "    for i in range(1,n+1):\n",
    "        f = f*i\n",
    "    print(\"the factorial is\",f)\n"
   ]
  },
  {
   "cell_type": "code",
   "execution_count": 104,
   "id": "2fb23b63-c8f1-4d98-b02c-96b327ae2fce",
   "metadata": {},
   "outputs": [
    {
     "name": "stdin",
     "output_type": "stream",
     "text": [
      "Enter the number 3\n"
     ]
    },
    {
     "name": "stdout",
     "output_type": "stream",
     "text": [
      "the factorial is 6\n"
     ]
    }
   ],
   "source": [
    "factorial(4)"
   ]
  },
  {
   "cell_type": "code",
   "execution_count": 116,
   "id": "d1fc03f4-4e6c-467a-86b7-05bae9f508ae",
   "metadata": {},
   "outputs": [],
   "source": [
    "def prime_a(n):\n",
    "    co = 0\n",
    "    for i in range(1,n+1):\n",
    "        if n%i==0:\n",
    "            co += 1\n",
    "    if co==2:\n",
    "      print(\"Prime Number\")\n",
    "    else:\n",
    "      print(\"Not Prime Number\")"
   ]
  },
  {
   "cell_type": "code",
   "execution_count": 118,
   "id": "10e3ecd0-d969-45c4-9700-ff6a53bd9619",
   "metadata": {},
   "outputs": [
    {
     "name": "stdout",
     "output_type": "stream",
     "text": [
      "Prime Number\n"
     ]
    }
   ],
   "source": [
    "prime_a(3)"
   ]
  },
  {
   "cell_type": "code",
   "execution_count": 120,
   "id": "78c13adc-caba-4f2b-82fd-ad8504af692e",
   "metadata": {},
   "outputs": [
    {
     "name": "stdin",
     "output_type": "stream",
     "text": [
      "Enter the number 45\n"
     ]
    },
    {
     "name": "stdout",
     "output_type": "stream",
     "text": [
      "Not Prime Number\n"
     ]
    }
   ],
   "source": [
    "n = int(input(\"Enter the number\"))\n",
    "prime_a(n)"
   ]
  },
  {
   "cell_type": "markdown",
   "id": "bcf3bb6f-9424-4ac8-af5f-f9b272b412c9",
   "metadata": {},
   "source": [
    "# Practice Questions"
   ]
  },
  {
   "cell_type": "code",
   "execution_count": 15,
   "id": "4e4140e0-291d-4dc6-a951-89adefe8fedc",
   "metadata": {},
   "outputs": [],
   "source": [
    "def average_3(a,b,c):\n",
    "    avg=(a+b+c)/3\n",
    "    print(\"the average is \",avg)"
   ]
  },
  {
   "cell_type": "code",
   "execution_count": 17,
   "id": "d379155c-febe-4e0b-8bfe-3b27fbeb6345",
   "metadata": {},
   "outputs": [
    {
     "name": "stdout",
     "output_type": "stream",
     "text": [
      "the average is  6.0\n"
     ]
    }
   ],
   "source": [
    "average_3(3,7,8)"
   ]
  },
  {
   "cell_type": "code",
   "execution_count": 19,
   "id": "68d6fad8-84fe-4b9f-9981-d054315ba39c",
   "metadata": {},
   "outputs": [
    {
     "name": "stdin",
     "output_type": "stream",
     "text": [
      "enter the first number 45\n",
      "enter the second number 67\n",
      "enter the third number 78\n"
     ]
    },
    {
     "name": "stdout",
     "output_type": "stream",
     "text": [
      "the average is  63.333333333333336\n"
     ]
    }
   ],
   "source": [
    "a=float(input(\"enter the first number\"))\n",
    "b=float(input(\"enter the second number\"))\n",
    "c=float(input(\"enter the third number\"))\n",
    "average_3(a,b,c)"
   ]
  },
  {
   "cell_type": "code",
   "execution_count": 21,
   "id": "ed59316c-324f-4c90-bdfc-bd387e1e797a",
   "metadata": {},
   "outputs": [],
   "source": [
    "def sqaure_root(n):\n",
    "    import math\n",
    "    sqrt_result = math.sqrt(n)\n",
    "    print(\"The result is\",sqrt_result)"
   ]
  },
  {
   "cell_type": "code",
   "execution_count": 23,
   "id": "df7fbae5-ad3c-4cd3-bae2-31767d2d5684",
   "metadata": {},
   "outputs": [
    {
     "name": "stdout",
     "output_type": "stream",
     "text": [
      "The result is 6.557438524302\n"
     ]
    }
   ],
   "source": [
    "sqaure_root(43)"
   ]
  },
  {
   "cell_type": "code",
   "execution_count": 25,
   "id": "be6a2dc8-8cf2-453a-8a31-0a835a63ec67",
   "metadata": {},
   "outputs": [
    {
     "name": "stdin",
     "output_type": "stream",
     "text": [
      "Enter the number:  44\n"
     ]
    },
    {
     "name": "stdout",
     "output_type": "stream",
     "text": [
      "The result is 6.6332495807108\n"
     ]
    }
   ],
   "source": [
    "n = float(input(\"Enter the number: \"))\n",
    "sqaure_root(n)"
   ]
  },
  {
   "cell_type": "code",
   "execution_count": 27,
   "id": "4221a622-5baf-4139-981c-9d9b09304102",
   "metadata": {},
   "outputs": [],
   "source": [
    "def exponent(a,b):\n",
    "    print(a**b)"
   ]
  },
  {
   "cell_type": "code",
   "execution_count": 29,
   "id": "471e8a55-7484-4524-bd89-acf0ac15170d",
   "metadata": {},
   "outputs": [
    {
     "name": "stdout",
     "output_type": "stream",
     "text": [
      "16\n"
     ]
    }
   ],
   "source": [
    "exponent(4,2)"
   ]
  },
  {
   "cell_type": "code",
   "execution_count": 31,
   "id": "32b301af-c6b6-4d61-9d61-e1299bdb13ac",
   "metadata": {},
   "outputs": [
    {
     "name": "stdin",
     "output_type": "stream",
     "text": [
      "enter the value of base 34\n",
      "enter the value of base 2\n"
     ]
    },
    {
     "name": "stdout",
     "output_type": "stream",
     "text": [
      "1156\n"
     ]
    }
   ],
   "source": [
    "a=int(input(\"enter the value of base\"))\n",
    "b=int(input(\"enter the value of base\"))\n",
    "exponent(a,b)"
   ]
  },
  {
   "cell_type": "code",
   "execution_count": 33,
   "id": "eb32cb98-bf27-4b7f-aad5-9001e3811ecf",
   "metadata": {},
   "outputs": [],
   "source": [
    "def checkp_n_z(n):\n",
    "    if n>0:\n",
    "        print(\"+ve number\")\n",
    "    if n<0:\n",
    "        print(\"-ve number\")\n",
    "    if n==0:\n",
    "        print(\"Number is Zero\")"
   ]
  },
  {
   "cell_type": "code",
   "execution_count": 45,
   "id": "d85e8827-a4ae-41fd-b580-a40ed289ce13",
   "metadata": {},
   "outputs": [
    {
     "name": "stdout",
     "output_type": "stream",
     "text": [
      "+ve number\n"
     ]
    }
   ],
   "source": [
    "checkp_n_z(5)"
   ]
  },
  {
   "cell_type": "code",
   "execution_count": 53,
   "id": "b7c53c3c-7b93-4ce1-85c4-e1ddbaad3f35",
   "metadata": {},
   "outputs": [
    {
     "name": "stdin",
     "output_type": "stream",
     "text": [
      "enter the number -7\n"
     ]
    },
    {
     "name": "stdout",
     "output_type": "stream",
     "text": [
      "-ve number\n"
     ]
    }
   ],
   "source": [
    "n=int(input(\"enter the number\"))\n",
    "checkp_n_z(n)"
   ]
  },
  {
   "cell_type": "code",
   "execution_count": 75,
   "id": "42f1b262-a3c0-453f-9978-d34ccdbbd27a",
   "metadata": {},
   "outputs": [],
   "source": [
    "def year(y):\n",
    "    if y%4==0:\n",
    "        print(\"Leap Year\")\n",
    "    else:\n",
    "        print(\"Ordinary Year\")"
   ]
  },
  {
   "cell_type": "code",
   "execution_count": 77,
   "id": "9215fcb6-bc64-4372-9b3f-2893d409a59c",
   "metadata": {},
   "outputs": [
    {
     "name": "stdout",
     "output_type": "stream",
     "text": [
      "Leap Year\n"
     ]
    }
   ],
   "source": [
    "year(2024)"
   ]
  },
  {
   "cell_type": "code",
   "execution_count": 87,
   "id": "c7111c6e-02d0-4c19-a6a6-3e1e44e30ff6",
   "metadata": {},
   "outputs": [
    {
     "name": "stdin",
     "output_type": "stream",
     "text": [
      "enter the number 5550\n"
     ]
    },
    {
     "name": "stdout",
     "output_type": "stream",
     "text": [
      "Ordinary Year\n"
     ]
    }
   ],
   "source": [
    "y=int(input(\"enter the number\"))\n",
    "year(y)"
   ]
  },
  {
   "cell_type": "code",
   "execution_count": 93,
   "id": "a97cf561-9b67-4ab7-a26e-0712afc985b0",
   "metadata": {},
   "outputs": [],
   "source": [
    "def adult(a):\n",
    "    if a >= 18:\n",
    "        print(\"eligible to vote\")\n",
    "    else:\n",
    "        print(\"Not eligible\")"
   ]
  },
  {
   "cell_type": "code",
   "execution_count": 95,
   "id": "4426a6cf-f827-4050-ba3c-4eac054ae0c2",
   "metadata": {},
   "outputs": [
    {
     "name": "stdout",
     "output_type": "stream",
     "text": [
      "Not eligible\n"
     ]
    }
   ],
   "source": [
    "adult(12)"
   ]
  },
  {
   "cell_type": "code",
   "execution_count": 97,
   "id": "aa045a26-5b9d-4d24-ac86-76ca37b0bce4",
   "metadata": {},
   "outputs": [
    {
     "name": "stdin",
     "output_type": "stream",
     "text": [
      "enter the number 18\n"
     ]
    },
    {
     "name": "stdout",
     "output_type": "stream",
     "text": [
      "eligible to vote\n"
     ]
    }
   ],
   "source": [
    "a=int(input(\"enter the number\"))\n",
    "adult(a)"
   ]
  },
  {
   "cell_type": "code",
   "execution_count": 129,
   "id": "0461b818-181a-47c5-8e6d-799188834feb",
   "metadata": {},
   "outputs": [],
   "source": [
    "def weekday(day):\n",
    "    if  day==1:\n",
    "        print(\"SUN\")\n",
    "    elif day==2:\n",
    "        print(\"MON\")\n",
    "    elif day==3:\n",
    "        print(\"TUE\")\n",
    "    elif day==4:\n",
    "        print(\"WED\")\n",
    "    elif day==5:\n",
    "        print(\"THUR\")\n",
    "    elif day==6:\n",
    "        print(\"FRI\")\n",
    "    elif day==7:\n",
    "        print(\"SAT\")\n",
    "    else:\n",
    "        print(\"invalid\")"
   ]
  },
  {
   "cell_type": "code",
   "execution_count": 131,
   "id": "22814e9c-60e6-4e6d-ad14-a8207f476329",
   "metadata": {},
   "outputs": [
    {
     "name": "stdout",
     "output_type": "stream",
     "text": [
      "WED\n"
     ]
    }
   ],
   "source": [
    "weekday(4)"
   ]
  },
  {
   "cell_type": "code",
   "execution_count": 137,
   "id": "b0cdde97-4d25-454b-807d-c210a668a653",
   "metadata": {},
   "outputs": [
    {
     "name": "stdin",
     "output_type": "stream",
     "text": [
      "enter a number from 1-7 =  5\n"
     ]
    },
    {
     "name": "stdout",
     "output_type": "stream",
     "text": [
      "THUR\n"
     ]
    }
   ],
   "source": [
    "day=int(input(\"enter a number from 1-7 = \"))\n",
    "weekday(day)"
   ]
  },
  {
   "cell_type": "code",
   "execution_count": 141,
   "id": "a8eb7790-6d62-442b-ab7e-a066781eeb76",
   "metadata": {},
   "outputs": [],
   "source": [
    "def percentage(p,c,m,e,h):\n",
    "    s=p+c+m+e+h\n",
    "    per=s*100/500\n",
    "    if per>=60:\n",
    "        print(\"First Division\")\n",
    "    elif per>=45:\n",
    "        print(\"Second Division\")\n",
    "    elif per>33:\n",
    "        print(\"Third Divion\")\n",
    "    else:\n",
    "        print(\"FAIL\")"
   ]
  },
  {
   "cell_type": "code",
   "execution_count": 143,
   "id": "ae2bf0aa-2391-4e32-b0f5-2866b46550a2",
   "metadata": {},
   "outputs": [
    {
     "name": "stdout",
     "output_type": "stream",
     "text": [
      "First Division\n"
     ]
    }
   ],
   "source": [
    "percentage(45,56,76,54,99)"
   ]
  },
  {
   "cell_type": "code",
   "execution_count": 150,
   "id": "91e6a00a-bb89-4679-8d14-9fbbba0f26f9",
   "metadata": {},
   "outputs": [
    {
     "name": "stdin",
     "output_type": "stream",
     "text": [
      "enter the marks of physics 45\n",
      "enter the marks of chemistry 56\n",
      "enter the marks of maths 12\n",
      "enter the marks of english 34\n",
      "enter the marks of hindi 87\n"
     ]
    },
    {
     "name": "stdout",
     "output_type": "stream",
     "text": [
      "Second Division\n"
     ]
    }
   ],
   "source": [
    "p=float(input(\"enter the marks of physics\"))\n",
    "c=float(input(\"enter the marks of chemistry\"))\n",
    "m=float(input(\"enter the marks of maths\"))\n",
    "e=float(input(\"enter the marks of english\"))\n",
    "h=float(input(\"enter the marks of hindi\"))\n",
    "percentage(p,c,m,e,h)"
   ]
  },
  {
   "cell_type": "code",
   "execution_count": 156,
   "id": "ff8c5079-fd68-4e2a-8856-7361d3e72f21",
   "metadata": {},
   "outputs": [],
   "source": [
    "def greatest(num1,num2,num3):\n",
    "    if num1>num2:\n",
    "        if num3>num2:\n",
    "            print(\"num1 is greatest\",num1)\n",
    "        else:\n",
    "            print(\"num3 is greatest\",num3)\n",
    "    else:\n",
    "        print(\"num2 is greatest\",num2)"
   ]
  },
  {
   "cell_type": "code",
   "execution_count": 162,
   "id": "1abab700-2d42-482b-8d3a-32262dcc254e",
   "metadata": {},
   "outputs": [
    {
     "name": "stdout",
     "output_type": "stream",
     "text": [
      "num1 is greatest 24\n"
     ]
    }
   ],
   "source": [
    "greatest(24,6,54)"
   ]
  },
  {
   "cell_type": "code",
   "execution_count": 218,
   "id": "fd547dd9-4e4e-4eb9-856a-77f714b331ed",
   "metadata": {},
   "outputs": [],
   "source": [
    "def vowel(c):\n",
    "    if c=='a' or c=='e' or c=='i' or c=='o' or c=='u':\n",
    "        print(\"vowel\") \n",
    "    elif c=='A' or c=='E' or c=='I' or c=='O' or c=='U':\n",
    "        print(\"Vowel\")\n",
    "    else:\n",
    "        print(\"consonant\")"
   ]
  },
  {
   "cell_type": "code",
   "execution_count": 240,
   "id": "8658b3e7-2a1b-46a9-b868-7996c56c0df5",
   "metadata": {},
   "outputs": [
    {
     "name": "stdout",
     "output_type": "stream",
     "text": [
      "consonant\n"
     ]
    }
   ],
   "source": [
    "vowel('B')"
   ]
  },
  {
   "cell_type": "code",
   "execution_count": 258,
   "id": "23f520cc-ef2b-49e2-8f18-cc4de0fd1303",
   "metadata": {},
   "outputs": [],
   "source": [
    "def Vowel(ch):\n",
    "    if ch in ['a','A','e','E','i','I','o','O','u','U']:\n",
    "        print(\"Vowel\")\n",
    "    else:\n",
    "        print(\"Consonant\")"
   ]
  },
  {
   "cell_type": "code",
   "execution_count": 260,
   "id": "f858b2be-79a6-4537-bbbd-d40bbe2aaba7",
   "metadata": {},
   "outputs": [
    {
     "name": "stdout",
     "output_type": "stream",
     "text": [
      "Consonant\n"
     ]
    }
   ],
   "source": [
    "Vowel('H')"
   ]
  },
  {
   "cell_type": "code",
   "execution_count": 264,
   "id": "edaefcfe-9bd4-4f32-ae3e-2dc2c1a76292",
   "metadata": {},
   "outputs": [
    {
     "name": "stdin",
     "output_type": "stream",
     "text": [
      "enter an alphabet t\n"
     ]
    },
    {
     "name": "stdout",
     "output_type": "stream",
     "text": [
      "Consonant\n"
     ]
    }
   ],
   "source": [
    "ch=input(\"enter an alphabet\")\n",
    "\n",
    "Vowel(ch)"
   ]
  },
  {
   "cell_type": "code",
   "execution_count": 266,
   "id": "3cd870ea-2f5b-4126-931b-10d323a42977",
   "metadata": {},
   "outputs": [],
   "source": [
    "def signal(color):\n",
    "    if color in ['r','R']:\n",
    "        print(\"STOP\")\n",
    "    elif color in ['y','Y']:\n",
    "        print(\"Get Ready\")\n",
    "    elif color in ['g','G']:\n",
    "        print(\"Move Forward\")\n",
    "    else:\n",
    "        print(\"Pay Chalaan\")"
   ]
  },
  {
   "cell_type": "code",
   "execution_count": 282,
   "id": "6acaeffc-bdcd-4efa-b68d-f746e570523f",
   "metadata": {},
   "outputs": [
    {
     "name": "stdout",
     "output_type": "stream",
     "text": [
      "Move Forward\n"
     ]
    }
   ],
   "source": [
    "signal('G')"
   ]
  },
  {
   "cell_type": "code",
   "execution_count": 276,
   "id": "ed0228e5-f3b4-4fc3-bbac-074cb30e8f20",
   "metadata": {},
   "outputs": [],
   "source": [
    "def signal_2(ch):\n",
    "    if ch=='r' or ch=='R':\n",
    "         print(\"STOP\")\n",
    "    elif ch=='y' or ch=='Y':\n",
    "         print(\"Get Ready\")\n",
    "    elif ch=='g' or ch=='G':\n",
    "        print(\"Move Forward\")\n",
    "    else:\n",
    "        print(\"Pay Chalaan\")"
   ]
  },
  {
   "cell_type": "code",
   "execution_count": 284,
   "id": "73959e70-dcf3-4569-b1a6-42132d7f0380",
   "metadata": {},
   "outputs": [
    {
     "name": "stdout",
     "output_type": "stream",
     "text": [
      "Pay Chalaan\n"
     ]
    }
   ],
   "source": [
    "signal('H')"
   ]
  },
  {
   "cell_type": "code",
   "execution_count": 324,
   "id": "b21bb02e-f4fa-43e1-ab77-9e19dba35327",
   "metadata": {},
   "outputs": [],
   "source": [
    "def basic_calculator(a,b):\n",
    "    print(\"1.ADD\")\n",
    "    print(\"2.SUB\")\n",
    "    print(\"3.MUL\")\n",
    "    print(\"4.DIV\")\n",
    "    choice=int(input(\"enter the choice from above\"))\n",
    "    if choice==1:\n",
    "        print(\"the sum is\",a+b)\n",
    "    elif choice==2:\n",
    "        print(\"the sub is\",a-b)\n",
    "    elif choice==3:\n",
    "        print(\"the mul is\",a*b)\n",
    "    elif choice==4:\n",
    "        print(\"the div is\",a/b)\n",
    "    else:\n",
    "        print(\"invalid choice\")"
   ]
  },
  {
   "cell_type": "code",
   "execution_count": 326,
   "id": "7187711d-33c0-4ce5-9216-273ac5353d1f",
   "metadata": {},
   "outputs": [
    {
     "name": "stdout",
     "output_type": "stream",
     "text": [
      "1.ADD\n",
      "2.SUB\n",
      "3.MUL\n",
      "4.DIV\n"
     ]
    },
    {
     "name": "stdin",
     "output_type": "stream",
     "text": [
      "enter the choice from above 1\n"
     ]
    },
    {
     "name": "stdout",
     "output_type": "stream",
     "text": [
      "the sum is 7\n"
     ]
    }
   ],
   "source": [
    "basic_calculator(2,5)"
   ]
  },
  {
   "cell_type": "code",
   "execution_count": 330,
   "id": "8970d1a2-73f4-443b-abbc-debc9888382e",
   "metadata": {},
   "outputs": [
    {
     "name": "stdin",
     "output_type": "stream",
     "text": [
      "enter the number 34\n",
      "enter the number 45\n"
     ]
    },
    {
     "name": "stdout",
     "output_type": "stream",
     "text": [
      "1.ADD\n",
      "2.SUB\n",
      "3.MUL\n",
      "4.DIV\n"
     ]
    },
    {
     "name": "stdin",
     "output_type": "stream",
     "text": [
      "enter the choice from above 4\n"
     ]
    },
    {
     "name": "stdout",
     "output_type": "stream",
     "text": [
      "the div is 0.7555555555555555\n"
     ]
    }
   ],
   "source": [
    "a = int(input(\"enter the number\"))\n",
    "b = int(input(\"enter the number\"))\n",
    "basic_calculator(a,b)"
   ]
  },
  {
   "cell_type": "code",
   "execution_count": 344,
   "id": "f3a13a11-cd6b-440d-948c-8ee79c5eebcb",
   "metadata": {},
   "outputs": [],
   "source": [
    "def area(length,breadth):\n",
    "    if length==breadth:\n",
    "        print(\"it is a sqaure\")\n",
    "        print(\"the area of square is\",length**2)\n",
    "    else:\n",
    "        print(\"it is a rectangle\")\n",
    "        print(\"the area of rectangle is\",length*breadth)"
   ]
  },
  {
   "cell_type": "code",
   "execution_count": 346,
   "id": "f8979b55-285d-4e71-9c80-fd769539f826",
   "metadata": {},
   "outputs": [
    {
     "name": "stdout",
     "output_type": "stream",
     "text": [
      "it is a rectangle\n",
      "the area of rectangle is 1530\n"
     ]
    }
   ],
   "source": [
    "area(34,45)"
   ]
  },
  {
   "cell_type": "code",
   "execution_count": 350,
   "id": "a65ea5aa-8886-4b55-867a-3dae51581bc4",
   "metadata": {},
   "outputs": [
    {
     "name": "stdin",
     "output_type": "stream",
     "text": [
      "enter length 45\n",
      "enter breadth 45\n"
     ]
    },
    {
     "name": "stdout",
     "output_type": "stream",
     "text": [
      "it is a sqaure\n",
      "the area of square is 2025\n"
     ]
    }
   ],
   "source": [
    "length=int(input(\"enter length\"))\n",
    "breadth=int(input(\"enter breadth\"))\n",
    "\n",
    "area(length,breadth)"
   ]
  },
  {
   "cell_type": "code",
   "execution_count": 353,
   "id": "1e7c09e3-3ecb-4d83-9a7b-49e1abd2da8a",
   "metadata": {},
   "outputs": [],
   "source": [
    "def absolute(n):\n",
    "    if n<0:\n",
    "        print(n*-1)\n",
    "    else:\n",
    "        print(n)"
   ]
  },
  {
   "cell_type": "code",
   "execution_count": 355,
   "id": "79342047-5d06-40b5-98f3-a65b65a5d091",
   "metadata": {},
   "outputs": [
    {
     "name": "stdout",
     "output_type": "stream",
     "text": [
      "3\n"
     ]
    }
   ],
   "source": [
    "absolute(-3)"
   ]
  },
  {
   "cell_type": "code",
   "execution_count": null,
   "id": "2e15ea5e-2ca5-4d96-a02c-cc2116964866",
   "metadata": {},
   "outputs": [],
   "source": []
  }
 ],
 "metadata": {
  "kernelspec": {
   "display_name": "Python 3 (ipykernel)",
   "language": "python",
   "name": "python3"
  },
  "language_info": {
   "codemirror_mode": {
    "name": "ipython",
    "version": 3
   },
   "file_extension": ".py",
   "mimetype": "text/x-python",
   "name": "python",
   "nbconvert_exporter": "python",
   "pygments_lexer": "ipython3",
   "version": "3.12.4"
  }
 },
 "nbformat": 4,
 "nbformat_minor": 5
}
