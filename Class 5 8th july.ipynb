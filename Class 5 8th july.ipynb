{
 "cells": [
  {
   "cell_type": "markdown",
   "id": "4c5c036e-862c-43c4-bdb9-d9f42b2f3ab9",
   "metadata": {},
   "source": [
    "# Class 5th July 8\n",
    "- Checking Leap Year or Ordinary Year\n",
    "- Age Comparison\n",
    "- if elif ladder form\n",
    "- Greatest among three number\n",
    "- Check Vowel and Consonant\n",
    "- Traffic Light"
   ]
  },
  {
   "cell_type": "code",
   "execution_count": 1,
   "id": "1ce2c30d-29dd-47af-a9e1-1a473c03d481",
   "metadata": {},
   "outputs": [
    {
     "name": "stdin",
     "output_type": "stream",
     "text": [
      "enter the year 44\n"
     ]
    },
    {
     "name": "stdout",
     "output_type": "stream",
     "text": [
      "Leap Year\n"
     ]
    }
   ],
   "source": [
    "year=int(input(\"enter the year\"))\n",
    "if year%4==0:\n",
    "    print(\"Leap Year\")\n",
    "else:\n",
    "    print(\"Ordinary Year\")"
   ]
  },
  {
   "cell_type": "code",
   "execution_count": 9,
   "id": "51044b1f-99f3-4594-956f-b60c73858897",
   "metadata": {},
   "outputs": [
    {
     "name": "stdin",
     "output_type": "stream",
     "text": [
      "enter the age 20\n"
     ]
    },
    {
     "name": "stdout",
     "output_type": "stream",
     "text": [
      "eligible to vote\n"
     ]
    }
   ],
   "source": [
    "age=int(input(\"enter the age\"))\n",
    "if age>=18:\n",
    "    print(\"eligible to vote\")\n",
    "else:\n",
    "    print(\"Not eligible\")"
   ]
  },
  {
   "cell_type": "markdown",
   "id": "f76131b8-00d5-44af-8d60-20f073d650fb",
   "metadata": {},
   "source": [
    "# if elif ladder form"
   ]
  },
  {
   "cell_type": "code",
   "execution_count": 15,
   "id": "a69fb424-8cd3-4b42-812e-54d44e3dffa1",
   "metadata": {},
   "outputs": [
    {
     "name": "stdin",
     "output_type": "stream",
     "text": [
      "enter a number from 1-7 5\n"
     ]
    },
    {
     "name": "stdout",
     "output_type": "stream",
     "text": [
      "THUR\n"
     ]
    }
   ],
   "source": [
    "day=int(input(\"enter a number from 1-7\"))\n",
    "if  day==1:\n",
    "    print(\"SUN\")\n",
    "elif day==2:\n",
    "    print(\"MON\")\n",
    "elif day==3:\n",
    "    print(\"TUE\")\n",
    "elif day==4:\n",
    "    print(\"WED\")\n",
    "elif day==5:\n",
    "    print(\"THUR\")\n",
    "elif day==6:\n",
    "    print(\"FRI\")\n",
    "elif day==7:\n",
    "    print(\"SAT\")\n",
    "else:\n",
    "    print(\"invalid\")"
   ]
  },
  {
   "cell_type": "code",
   "execution_count": 17,
   "id": "e78ba00b-4210-41bc-bff6-ca5e11d81bfc",
   "metadata": {},
   "outputs": [
    {
     "name": "stdin",
     "output_type": "stream",
     "text": [
      "enter the marks 66\n",
      "enter the marks 78\n",
      "enter the marks 34\n",
      "enter the marks 90\n",
      "enter the marks 87\n"
     ]
    },
    {
     "name": "stdout",
     "output_type": "stream",
     "text": [
      "First Division\n"
     ]
    }
   ],
   "source": [
    "p=float(input(\"enter the marks\"))\n",
    "c=float(input(\"enter the marks\"))\n",
    "m=float(input(\"enter the marks\"))\n",
    "e=float(input(\"enter the marks\"))\n",
    "h=float(input(\"enter the marks\"))\n",
    "s=p+c+m+e+h\n",
    "per=s*100/500\n",
    "if per>=60:\n",
    "    print(\"First Division\")\n",
    "elif per>=45:\n",
    "    print(\"Second Division\")\n",
    "elif per>33:\n",
    "    print(\"Third Divion\")\n",
    "else:\n",
    "    print(\"FAIL\")\n"
   ]
  },
  {
   "cell_type": "code",
   "execution_count": 19,
   "id": "93ec07e3-b49f-4869-a5ff-5fbab0275278",
   "metadata": {},
   "outputs": [
    {
     "name": "stdin",
     "output_type": "stream",
     "text": [
      "enter the no. 45\n",
      "enter the no. 32\n",
      "enter the no. 66\n"
     ]
    },
    {
     "name": "stdout",
     "output_type": "stream",
     "text": [
      "66  is greatest\n"
     ]
    }
   ],
   "source": [
    "#Greatest among three numbers\n",
    "\n",
    "a=int(input(\"enter the no.\"))\n",
    "b=int(input(\"enter the no.\"))\n",
    "c=int(input(\"enter the no.\"))\n",
    "if a>b and a>c:\n",
    "    pringt(a,\" is greatest\")\n",
    "elif b>a and b>c:\n",
    "    print(b,\" is greatest\")\n",
    "else:\n",
    "    print(c,\" is greatest\")\n"
   ]
  },
  {
   "cell_type": "code",
   "execution_count": 5,
   "id": "1525743e-abab-453b-b456-a8b56b1d453c",
   "metadata": {},
   "outputs": [
    {
     "name": "stdin",
     "output_type": "stream",
     "text": [
      "enter an alphabet I\n"
     ]
    },
    {
     "name": "stdout",
     "output_type": "stream",
     "text": [
      "Vowel\n"
     ]
    }
   ],
   "source": [
    "#check vowel or consonant\n",
    "ch=input(\"enter an alphabet\")\n",
    "\n",
    "if ch=='a' or ch=='e' or ch=='i' or ch=='o' or ch=='u':\n",
    "    print(\"vowel\") \n",
    "elif ch=='A' or ch=='E' or ch=='I' or ch=='O' or ch=='U':\n",
    "    print(\"Vowel\")\n",
    "# NOTE: Small Letters will give \"vowel\" and capital letters will give \"Vowel\"\n",
    "else:\n",
    "    print(\"Consonant\")"
   ]
  },
  {
   "cell_type": "code",
   "execution_count": 25,
   "id": "ff098a24-d607-4af5-979c-1f614d31f583",
   "metadata": {},
   "outputs": [
    {
     "name": "stdin",
     "output_type": "stream",
     "text": [
      "enter an alphabet I\n"
     ]
    },
    {
     "name": "stdout",
     "output_type": "stream",
     "text": [
      "Vowel\n"
     ]
    }
   ],
   "source": [
    "#check vowel or consonant\n",
    "ch=input(\"enter an alphabet\")\n",
    "\n",
    "if ch in ['a','A','e','E','i','I','o','O','u','U']:\n",
    "    print(\"Vowel\")\n",
    "else:\n",
    "    print(\"Consonant\")"
   ]
  },
  {
   "cell_type": "code",
   "execution_count": 31,
   "id": "6c1fe461-745f-4579-a3fd-804e90cf19b6",
   "metadata": {},
   "outputs": [
    {
     "name": "stdin",
     "output_type": "stream",
     "text": [
      "enter color code like \n",
      " r for Red \n",
      " g for green \n",
      " y for yellow \n",
      " Y\n"
     ]
    },
    {
     "name": "stdout",
     "output_type": "stream",
     "text": [
      "Get Ready\n"
     ]
    }
   ],
   "source": [
    "#Traffic Light \n",
    "ch=input(\"enter color code like \\n r for Red \\n g for green \\n y for yellow \\n\")\n",
    "\n",
    "if ch=='r' or ch=='R':\n",
    "         print(\"STOP\")\n",
    "elif ch=='y' or ch=='Y':\n",
    "         print(\"Get Ready\")\n",
    "elif ch=='g' or ch=='G':\n",
    "        print(\"Move Forward\")\n",
    "else:\n",
    "    print(\"Pay Chalaan\")"
   ]
  },
  {
   "cell_type": "code",
   "execution_count": null,
   "id": "9b5b238e-3cb7-4d1a-a6b6-9c7088b11e65",
   "metadata": {},
   "outputs": [],
   "source": []
  }
 ],
 "metadata": {
  "kernelspec": {
   "display_name": "Python 3 (ipykernel)",
   "language": "python",
   "name": "python3"
  },
  "language_info": {
   "codemirror_mode": {
    "name": "ipython",
    "version": 3
   },
   "file_extension": ".py",
   "mimetype": "text/x-python",
   "name": "python",
   "nbconvert_exporter": "python",
   "pygments_lexer": "ipython3",
   "version": "3.12.4"
  }
 },
 "nbformat": 4,
 "nbformat_minor": 5
}
