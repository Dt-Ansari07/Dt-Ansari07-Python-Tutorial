{
 "cells": [
  {
   "cell_type": "markdown",
   "id": "6b2033e3-e58b-4498-adbc-4fe7ea39303e",
   "metadata": {},
   "source": [
    "# Class 4nd July 4\n",
    "- Average of three numbers (Using Runtime value)\n",
    "- Finding Percentage (Using Runtime value)\n",
    "- Finding Square root of a number (Using \"math.sqrt(n)\"\" Function)\n",
    "- Exponent (Power)\n",
    "- Checking Sign of Number (Negative, Positive, Zero)\n",
    "- Even | Odd"
   ]
  },
  {
   "cell_type": "code",
   "execution_count": 5,
   "id": "cfc54afb-ecad-456d-99bf-4765c8c8eaf5",
   "metadata": {},
   "outputs": [
    {
     "name": "stdin",
     "output_type": "stream",
     "text": [
      "enter the first number 456.6\n",
      "enter the second number 675\n",
      "enter the third number 55\n"
     ]
    },
    {
     "name": "stdout",
     "output_type": "stream",
     "text": [
      "the average is  395.5333333333333\n"
     ]
    }
   ],
   "source": [
    "#Average of three number (Using Runtime Value)\n",
    "\n",
    "a=float(input(\"enter the first number\"))\n",
    "b=float(input(\"enter the second number\"))\n",
    "c=float(input(\"enter the third number\"))\n",
    "avg=(a+b+c)/3\n",
    "print(\"the average is \",avg)"
   ]
  },
  {
   "cell_type": "code",
   "execution_count": 17,
   "id": "ae12d0ef-3674-4fcb-9c7c-9f98afcfa732",
   "metadata": {},
   "outputs": [
    {
     "name": "stdin",
     "output_type": "stream",
     "text": [
      "enter the marks of maths 67\n",
      "enter the marks of chemistry 65.5\n",
      "enter the marks of physics 83\n",
      "enter the marks of Computer Science 92\n",
      "enter the marks of biology 85\n"
     ]
    },
    {
     "name": "stdout",
     "output_type": "stream",
     "text": [
      "the percetage is  78.5\n"
     ]
    }
   ],
   "source": [
    "#Finding Percentage (Using Runtime Value)\n",
    "\n",
    "m=float(input(\"enter the marks of maths\"))\n",
    "c=float(input(\"enter the marks of chemistry\"))\n",
    "p=float(input(\"enter the marks of physics\"))\n",
    "s=float(input(\"enter the marks of Computer Science\"))\n",
    "b=float(input(\"enter the marks of biology\"))\n",
    "f=m+c+p+s+b\n",
    "per=f*100/500\n",
    "print(\"the percetage is \",per)"
   ]
  },
  {
   "cell_type": "code",
   "execution_count": 5,
   "id": "fbf673da-a814-478a-8211-96e73b41de69",
   "metadata": {},
   "outputs": [
    {
     "name": "stdin",
     "output_type": "stream",
     "text": [
      "Enter the number:  55\n"
     ]
    },
    {
     "name": "stdout",
     "output_type": "stream",
     "text": [
      "The result is 7.416198487095663\n"
     ]
    }
   ],
   "source": [
    "# Find the square root of a number\n",
    "\n",
    "import math\n",
    "\n",
    "# Get the number from the user\n",
    "n = float(input(\"Enter the number: \"))\n",
    "# Calculate the square root\n",
    "sqrt_result = math.sqrt(n)\n",
    "# Print the calculated square root\n",
    "print(\"The result is\", sqrt_result)"
   ]
  },
  {
   "cell_type": "code",
   "execution_count": 43,
   "id": "ffdb7662-3f07-4ace-9bf9-4494bac7248c",
   "metadata": {},
   "outputs": [
    {
     "name": "stdin",
     "output_type": "stream",
     "text": [
      "enter the value of base 45\n",
      "enter the value of exponent 2\n"
     ]
    },
    {
     "name": "stdout",
     "output_type": "stream",
     "text": [
      "2025\n",
      "2025\n",
      "2025.0\n"
     ]
    }
   ],
   "source": [
    "#A^B=? (Using Runtime Value)\n",
    "\n",
    "a=int(input(\"enter the value of base\"))\n",
    "b=int(input(\"enter the value of exponent\"))\n",
    "print(a**b)\n",
    "print(pow(a,b))\n",
    "print(math.pow(a,b))"
   ]
  },
  {
   "cell_type": "code",
   "execution_count": 51,
   "id": "abd5c425-003f-4272-8a36-6881c0bbf737",
   "metadata": {},
   "outputs": [
    {
     "name": "stdin",
     "output_type": "stream",
     "text": [
      "enter the number 10\n"
     ]
    },
    {
     "name": "stdout",
     "output_type": "stream",
     "text": [
      "Correct\n"
     ]
    }
   ],
   "source": [
    "n=int(input(\"enter the number\"))\n",
    "if n==10:\n",
    "    print(\"Correct\")"
   ]
  },
  {
   "cell_type": "code",
   "execution_count": 59,
   "id": "447c0736-731e-4fd6-8a89-c718f6fc94bb",
   "metadata": {},
   "outputs": [
    {
     "name": "stdin",
     "output_type": "stream",
     "text": [
      "enter the number -5\n"
     ]
    },
    {
     "name": "stdout",
     "output_type": "stream",
     "text": [
      "-ve number\n"
     ]
    }
   ],
   "source": [
    "#check a number is +ve, -ve or zero\n",
    "\n",
    "n=int(input(\"enter the number\"))\n",
    "if n>0:\n",
    "    print(\"+ve number\")\n",
    "if n<0:\n",
    "    print(\"-ve number\")\n",
    "if n==0:\n",
    "    print(\"Number is zero\")"
   ]
  },
  {
   "cell_type": "code",
   "execution_count": 7,
   "id": "ea51c30e-5ac5-4560-8dc0-2c3880267d04",
   "metadata": {},
   "outputs": [
    {
     "name": "stdin",
     "output_type": "stream",
     "text": [
      "enter the number 9\n"
     ]
    },
    {
     "name": "stdout",
     "output_type": "stream",
     "text": [
      "+ve number\n"
     ]
    }
   ],
   "source": [
    "# Check if a number is positive, negative, or zero (Repeated Cell)\n",
    "n=int(input(\"enter the number\"))\n",
    "if n>0:\n",
    "    print(\"+ve number\")\n",
    "if n<0:\n",
    "    print(\"-ve number\")\n",
    "if n==0:\n",
    "    print(\"Number is zero\")"
   ]
  },
  {
   "cell_type": "code",
   "execution_count": 9,
   "id": "ee767be1-2008-4f51-b2ca-d5a9fd62de23",
   "metadata": {},
   "outputs": [
    {
     "name": "stdin",
     "output_type": "stream",
     "text": [
      "enter the number 0\n"
     ]
    },
    {
     "name": "stdout",
     "output_type": "stream",
     "text": [
      "Number is zero\n"
     ]
    }
   ],
   "source": [
    "# Check if a number is positive, negative, or zero (Repeated Cell)\n",
    "n=int(input(\"enter the number\"))\n",
    "if n>0:\n",
    "    print(\"+ve number\")\n",
    "if n<0:\n",
    "    print(\"-ve number\")\n",
    "if n==0:\n",
    "    print(\"Number is zero\")"
   ]
  },
  {
   "cell_type": "code",
   "execution_count": 11,
   "id": "71e1d3e6-79ef-4872-88d0-10ba75a9216f",
   "metadata": {},
   "outputs": [
    {
     "name": "stdin",
     "output_type": "stream",
     "text": [
      "enter the number 10\n"
     ]
    },
    {
     "name": "stdout",
     "output_type": "stream",
     "text": [
      "Correct\n"
     ]
    }
   ],
   "source": [
    "# Check if a number is equal to 10\n",
    "n=int(input(\"enter the number\"))\n",
    "if n==10:\n",
    "    print(\"Correct\")\n",
    "else:\n",
    "    print(\"incorrect\")"
   ]
  },
  {
   "cell_type": "code",
   "execution_count": 15,
   "id": "c328a529-53cf-4dbb-aa1f-33ca8d029326",
   "metadata": {},
   "outputs": [
    {
     "name": "stdin",
     "output_type": "stream",
     "text": [
      "Enter the number:  4\n"
     ]
    },
    {
     "name": "stdout",
     "output_type": "stream",
     "text": [
      "Even number\n"
     ]
    }
   ],
   "source": [
    "# Check if a number is even or odd\n",
    "\n",
    "n = int(input(\"Enter the number: \"))\n",
    "# Check if the number is even\n",
    "if n % 2 == 0:\n",
    "    print(\"Even number\")\n",
    "# Check if the number is odd\n",
    "else:\n",
    "    print(\"Odd number\")"
   ]
  },
  {
   "cell_type": "code",
   "execution_count": null,
   "id": "670df39d-b431-4759-915f-f81be653cc5d",
   "metadata": {},
   "outputs": [],
   "source": []
  }
 ],
 "metadata": {
  "kernelspec": {
   "display_name": "Python 3 (ipykernel)",
   "language": "python",
   "name": "python3"
  },
  "language_info": {
   "codemirror_mode": {
    "name": "ipython",
    "version": 3
   },
   "file_extension": ".py",
   "mimetype": "text/x-python",
   "name": "python",
   "nbconvert_exporter": "python",
   "pygments_lexer": "ipython3",
   "version": "3.12.4"
  }
 },
 "nbformat": 4,
 "nbformat_minor": 5
}
