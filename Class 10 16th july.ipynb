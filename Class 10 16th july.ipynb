{
 "cells": [
  {
   "cell_type": "markdown",
   "id": "bb8b9f85-5da9-4705-8992-a28b769c9f0a",
   "metadata": {},
   "source": [
    "# Class 10th July 16 - Topic LIST\n",
    "- list constructor\n",
    "- accesing\n",
    "- updatation\n",
    "- slice operation\n",
    "- delete element (del | pop | remove)"
   ]
  },
  {
   "cell_type": "markdown",
   "id": "f76d4c80-f8a5-4174-95c3-f9a55cd495d9",
   "metadata": {},
   "source": [
    "LIST\n",
    "---------\n",
    "- Sequence Data Structure\n",
    "- Hetreogenous----\n",
    "- ordered or indexed\n",
    "- \"Mutable\"\n",
    "- enclosed in [](\"Sqaure\" bracket)"
   ]
  },
  {
   "cell_type": "code",
   "execution_count": 6,
   "id": "c9240621-cbdc-48a8-b9c2-97def74c3c67",
   "metadata": {},
   "outputs": [
    {
     "name": "stdout",
     "output_type": "stream",
     "text": [
      "[12, 23, 34, 45, 56]\n",
      "['a', 'e', 'i', 'o', 'u']\n",
      "[12.23, 56.76]\n",
      "[12, 23, 34, 65.56, 'hello']\n"
     ]
    }
   ],
   "source": [
    "ls=[12,23,34,45,56]  #list of integers\n",
    "print(ls)\n",
    "ls=['a','e','i','o','u']  #List of chars or string\n",
    "print(ls)\n",
    "ls=[12.23,56.76]  #List of float\n",
    "print(ls)\n",
    "ls=[12,23,34,65.56,\"hello\"]   #mixed type\n",
    "print(ls)"
   ]
  },
  {
   "cell_type": "code",
   "execution_count": 8,
   "id": "5f52dbd7-d966-4afe-8bb3-0b64c5d8f37f",
   "metadata": {},
   "outputs": [
    {
     "name": "stdout",
     "output_type": "stream",
     "text": [
      "['h', 'e', 'l', 'l', 'o']\n",
      "[12, 23, 3, 4]\n"
     ]
    }
   ],
   "source": [
    "#by using list constructor\n",
    "#-------------------\n",
    "ls=list(\"hello\")\n",
    "print(ls)\n",
    "#['h','e','l','l','o']\n",
    "ls=list((12,23,3,4))\n",
    "print(ls)\n",
    "#[12,23,3,4]"
   ]
  },
  {
   "cell_type": "code",
   "execution_count": 16,
   "id": "7645fd95-2a06-4c0b-8d92-098f791d1173",
   "metadata": {},
   "outputs": [
    {
     "name": "stdout",
     "output_type": "stream",
     "text": [
      "11\n",
      "44\n",
      "\n",
      "\n",
      "77\n"
     ]
    }
   ],
   "source": [
    "# Accesing of List Elemments\n",
    "# --------------------------\n",
    "ls=[11,22,33,44,55,66,77,88,99]\n",
    "print(ls[0])   #11\n",
    "print(ls[3])   #44\n",
    "\n",
    "#When we move left to right index are 0----onwards\n",
    "#but if we move from right to left then index will start from -1\n",
    "print(\"\\n\")\n",
    "print(ls[-3])   #77"
   ]
  },
  {
   "cell_type": "code",
   "execution_count": 34,
   "id": "fa2ad221-ac07-4dd8-9a14-dd20d533bf71",
   "metadata": {},
   "outputs": [
    {
     "name": "stdout",
     "output_type": "stream",
     "text": [
      "45\n",
      "[67, 78, 89, 98, [98, 867, 76]]\n",
      "89\n",
      "[98, 867, 76]\n",
      "76\n"
     ]
    }
   ],
   "source": [
    "# Accesing in nested list\n",
    "ls=[12,23,34,45,[67,78,89,98,[98,867,76]],56,[87]]\n",
    "print(ls[3])       #45\n",
    "print(ls[4])       #[67,78,89,98,[98,867,76]]\n",
    "print(ls[4][2])    #89\n",
    "print(ls[4][4])    #[98, 867, 76]\n",
    "print(ls[4][4][2]) #76"
   ]
  },
  {
   "cell_type": "code",
   "execution_count": 41,
   "id": "f3952982-f1cf-49b1-8a60-994fd1d819b8",
   "metadata": {},
   "outputs": [
    {
     "name": "stdout",
     "output_type": "stream",
     "text": [
      "[12, 23, 34, 45, 56, 67]\n",
      "[12, 23, 'hello', 45, 56, 67]\n",
      "[12, 23, 'hello', 'how', 'are', 'you']\n",
      "6\n"
     ]
    }
   ],
   "source": [
    "# Updation\n",
    "# ---------\n",
    "ls=[12,23,34,45,56,67]\n",
    "print(ls)\n",
    "ls[2]=\"hello\"\n",
    "print(ls)\n",
    "ls[3:6]=[\"how\",\"are\",\"you\"]\n",
    "print(ls)\n",
    "print(len(ls))"
   ]
  },
  {
   "cell_type": "code",
   "execution_count": 52,
   "id": "9f07689c-b1dc-4c01-9275-cafaf853f516",
   "metadata": {},
   "outputs": [
    {
     "data": {
      "text/plain": [
       "[12, 23, 34, 45, 56, 67, 78, 89, 98, 87]"
      ]
     },
     "execution_count": 52,
     "metadata": {},
     "output_type": "execute_result"
    }
   ],
   "source": [
    "#slice operation\n",
    "\":\"\n",
    "ls[3:8]    # 3 4 5 6 7----index\n",
    "ls[:8]     # from the begining ----7\n",
    "ls[3:]     # start from 3 end to the last\n",
    "ls[:]      # from the begining to last"
   ]
  },
  {
   "cell_type": "code",
   "execution_count": 47,
   "id": "6eeb23aa-6013-4416-b7e6-8408bc77242c",
   "metadata": {},
   "outputs": [
    {
     "name": "stdout",
     "output_type": "stream",
     "text": [
      "[45, 56, 67, 78, 89]\n",
      "[12, 23, 34, 45, 56, 67, 78, 89]\n",
      "[45, 56, 67, 78, 89, 98, 87]\n",
      "[12, 23, 34, 45, 56, 67, 78, 89, 98, 87]\n",
      "[87, 98, 89, 78, 67, 56, 45, 34, 23, 12]\n",
      "10\n"
     ]
    }
   ],
   "source": [
    "ls=[12,23,34,45,56,67,78,89,98,87]\n",
    "print(ls[3:8])\n",
    "print(ls[:8])\n",
    "print(ls[3:])\n",
    "print(ls[:])\n",
    "print(ls[::-1]) # reverse\n",
    "print(len(ls))"
   ]
  },
  {
   "cell_type": "code",
   "execution_count": 66,
   "id": "cf763c74-403b-4271-82ea-b4e3b20c69fe",
   "metadata": {},
   "outputs": [
    {
     "name": "stdout",
     "output_type": "stream",
     "text": [
      "[12, 23, 34, 45, 56, 67, 78, 89, 98, 87]\n",
      "[12, 23, 34, 56, 67, 78, 89, 98, 87]\n"
     ]
    }
   ],
   "source": [
    "# delete an element from the list\n",
    "# ------------------------------\n",
    "# del\n",
    "# pop\n",
    "# remove\n",
    "\n",
    "ls=[12,23,34,45,56,67,78,89,98,87]\n",
    "print(ls)\n",
    "del ls[3]\n",
    "print(ls)"
   ]
  },
  {
   "cell_type": "code",
   "execution_count": 100,
   "id": "a7482a4c-f257-4750-aca7-753cab344686",
   "metadata": {},
   "outputs": [
    {
     "name": "stdout",
     "output_type": "stream",
     "text": [
      "[12, 23, 34, 45, 56, 67, 78, 89, 98, 87]\n",
      "[12, 23, 34, 56, 67, 78, 89, 98, 87]\n",
      "[12, 23, 34, 45, 56, 67, 78, 89, 98, 87]\n",
      "[12, 23, 34, 45, 56, 67, 78, 89, 98]\n",
      "[12, 23, 34, 45, 56, 67, 78, 89]\n",
      "[12, 23, 34, 45, 56, 67, 78]\n",
      "[12, 23, 34, 45, 56, 67]\n"
     ]
    },
    {
     "data": {
      "text/plain": [
       "67"
      ]
     },
     "execution_count": 100,
     "metadata": {},
     "output_type": "execute_result"
    }
   ],
   "source": [
    "# pop()         (del is a keyword and pop is a method)\n",
    "# -----\n",
    "ls=[12,23,34,45,56,67,78,89,98,87]\n",
    "print(ls)\n",
    "ls.pop(3)\n",
    "print(ls)\n",
    "\n",
    "ls=[12,23,34,45,56,67,78,89,98,87]\n",
    "print(ls)\n",
    "ls.pop()    #it will print last\n",
    "print(ls)\n",
    "ls.pop() \n",
    "print(ls)\n",
    "ls.pop() \n",
    "print(ls)\n",
    "ls.pop() \n",
    "print(ls)\n",
    "ls.pop()"
   ]
  },
  {
   "cell_type": "code",
   "execution_count": 94,
   "id": "e7a1e223-092b-47df-a016-f63954bdd145",
   "metadata": {},
   "outputs": [
    {
     "name": "stdout",
     "output_type": "stream",
     "text": [
      "[12, 23, 34, 45, 56, 67, 78, 89, 98, 87]\n",
      "[12, 34, 45, 56, 67, 78, 89, 98, 87]\n"
     ]
    }
   ],
   "source": [
    "ls=[12,23,34,45,56,67,78,89,98,87]\n",
    "print(ls)\n",
    "ls.remove(23)\n",
    "print(ls)\n",
    "\n",
    "\n",
    "\n",
    "del ls\n",
    "#print(ls)   #this will delete list and give error of undefined"
   ]
  },
  {
   "cell_type": "code",
   "execution_count": null,
   "id": "56081e13-9738-4947-b5e4-654003be5052",
   "metadata": {},
   "outputs": [],
   "source": []
  }
 ],
 "metadata": {
  "kernelspec": {
   "display_name": "Python 3 (ipykernel)",
   "language": "python",
   "name": "python3"
  },
  "language_info": {
   "codemirror_mode": {
    "name": "ipython",
    "version": 3
   },
   "file_extension": ".py",
   "mimetype": "text/x-python",
   "name": "python",
   "nbconvert_exporter": "python",
   "pygments_lexer": "ipython3",
   "version": "3.12.4"
  }
 },
 "nbformat": 4,
 "nbformat_minor": 5
}
