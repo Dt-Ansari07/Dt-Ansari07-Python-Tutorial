{
 "cells": [
  {
   "cell_type": "markdown",
   "id": "aa48701e-2a3c-4ed7-b04c-69ff02b5e808",
   "metadata": {},
   "source": [
    "# CLass 7th July 10\n",
    "While loop based Questions\n",
    " - print name 10 times\n",
    " - print 1 - 10\n",
    " - print sum of 10 natural number\n",
    " - print sum of even and odd number separately\n",
    " - table of a given number\n",
    " - factors of a numbers"
   ]
  },
  {
   "cell_type": "code",
   "execution_count": 7,
   "id": "64614d86-8b89-4462-b25c-5b0bb23baa16",
   "metadata": {},
   "outputs": [
    {
     "name": "stdout",
     "output_type": "stream",
     "text": [
      "5 x 1 = 5\n",
      "5 x 2 = 10\n",
      "5 x 3 = 15\n",
      "5 x 4 = 20\n",
      "5 x 5 = 25\n",
      "5 x 6 = 30\n",
      "5 x 7 = 35\n",
      "5 x 8 = 40\n",
      "5 x 9 = 45\n",
      "5 x 10 = 50\n"
     ]
    }
   ],
   "source": [
    "#Done by (Classmate) Sahil\n",
    "def printTable(num, limit=10):\n",
    "    for i in range(1, limit+1):\n",
    "        print(num, \"x\", i, \"=\", num*i)\n",
    "\n",
    "printTable(5)"
   ]
  },
  {
   "cell_type": "code",
   "execution_count": 9,
   "id": "f831ec7f-0ab9-474f-9215-84340b0aeb6a",
   "metadata": {},
   "outputs": [
    {
     "name": "stdout",
     "output_type": "stream",
     "text": [
      "ANsari\n",
      "ANsari\n",
      "ANsari\n",
      "ANsari\n",
      "ANsari\n",
      "ANsari\n",
      "ANsari\n",
      "ANsari\n",
      "ANsari\n",
      "ANsari\n"
     ]
    }
   ],
   "source": [
    "#print your name 10 times\n",
    "i=1\n",
    "while i<=10:\n",
    "    print(\"ANsari\")\n",
    "    i=i+1"
   ]
  },
  {
   "cell_type": "code",
   "execution_count": 11,
   "id": "e96d8b84-d833-4d74-9a67-7a2eb88f3518",
   "metadata": {},
   "outputs": [
    {
     "name": "stdout",
     "output_type": "stream",
     "text": [
      "1\n",
      "2\n",
      "3\n",
      "4\n",
      "5\n",
      "6\n",
      "7\n",
      "8\n",
      "9\n",
      "10\n"
     ]
    }
   ],
   "source": [
    "# print 1 - 10 \n",
    "i=1\n",
    "while i<=10:\n",
    "    print(i)\n",
    "    i=i+1"
   ]
  },
  {
   "cell_type": "code",
   "execution_count": 15,
   "id": "4e4b9e86-87c6-4241-88b2-965db64c1c5d",
   "metadata": {},
   "outputs": [
    {
     "name": "stdout",
     "output_type": "stream",
     "text": [
      "1 2 3 4 5 6 7 8 9 10 "
     ]
    }
   ],
   "source": [
    " #print 1 - 10 \n",
    "i=1\n",
    "while i<=10:\n",
    "    print(i,end=\" \")\n",
    "    i=i+1"
   ]
  },
  {
   "cell_type": "code",
   "execution_count": 17,
   "id": "23c2c13c-2577-4f5d-8b21-94ed310de034",
   "metadata": {},
   "outputs": [
    {
     "name": "stdout",
     "output_type": "stream",
     "text": [
      "the sum is  55\n"
     ]
    }
   ],
   "source": [
    "#print sum of 10 natural numbers\n",
    "i=1\n",
    "s=0\n",
    "while i<=10:\n",
    "    s=s+i\n",
    "    i=i+1\n",
    "print(\"the sum is \",s)"
   ]
  },
  {
   "cell_type": "code",
   "execution_count": 19,
   "id": "5c7d3b16-859d-4b5c-b093-f540cb4b2b2a",
   "metadata": {},
   "outputs": [
    {
     "name": "stdout",
     "output_type": "stream",
     "text": [
      "2 4 6 8 10 12 14 16 18 20 22 24 26 28 30 32 34 36 38 40 42 44 46 48 50 52 54 56 58 60 62 64 66 68 70 72 74 76 78 80 82 84 86 88 90 92 94 96 98 100 102 104 106 108 110 112 114 116 118 120 122 124 126 128 130 132 134 136 138 140 142 144 146 148 150 152 154 156 158 160 162 164 166 168 170 172 174 176 178 180 182 184 186 188 190 192 194 196 198 200 "
     ]
    }
   ],
   "source": [
    "#print only even number\n",
    "i=1\n",
    "while i<=200:\n",
    "    if i%2==0:\n",
    "        print(i,end=\" \")\n",
    "    i=i+1"
   ]
  },
  {
   "cell_type": "code",
   "execution_count": 21,
   "id": "14b26231-98ac-4ccb-bf74-4dfb51eb418b",
   "metadata": {},
   "outputs": [
    {
     "name": "stdout",
     "output_type": "stream",
     "text": [
      "1 3 5 7 9 11 13 15 17 19 21 23 25 27 29 31 33 35 37 39 41 43 45 47 49 51 53 55 57 59 61 63 65 67 69 71 73 75 77 79 81 83 85 87 89 91 93 95 97 99 101 103 105 107 109 111 113 115 117 119 121 123 125 127 129 131 133 135 137 139 141 143 145 147 149 151 153 155 157 159 161 163 165 167 169 171 173 175 177 179 181 183 185 187 189 191 193 195 197 199 "
     ]
    }
   ],
   "source": [
    "#print only odd number\n",
    "i=1\n",
    "while i<=200:\n",
    "    if i%2==1:\n",
    "        print(i,end=\" \")\n",
    "    i=i+1"
   ]
  },
  {
   "cell_type": "code",
   "execution_count": 23,
   "id": "281e458e-dfbc-479d-a943-95463c2bbef0",
   "metadata": {},
   "outputs": [
    {
     "name": "stdout",
     "output_type": "stream",
     "text": [
      "1 3 5 7 9 11 13 15 17 19 21 23 25 27 29 31 33 35 37 39 41 43 45 47 49 51 53 55 57 59 61 63 65 67 69 71 73 75 77 79 81 83 85 87 89 91 93 95 97 99 101 103 105 107 109 111 113 115 117 119 121 123 125 127 129 131 133 135 137 139 141 143 145 147 149 151 153 155 157 159 161 163 165 167 169 171 173 175 177 179 181 183 185 187 189 191 193 195 197 199 "
     ]
    }
   ],
   "source": [
    "#print only odd number\n",
    "i=1\n",
    "while i<=200:\n",
    "    if i%2!=0:\n",
    "        print(i,end=\" \")\n",
    "    i=i+1"
   ]
  },
  {
   "cell_type": "code",
   "execution_count": 33,
   "id": "cd56da0b-4679-4c37-bf60-c83428eae96e",
   "metadata": {},
   "outputs": [
    {
     "name": "stdin",
     "output_type": "stream",
     "text": [
      "Start range 1\n",
      "End range 100\n"
     ]
    },
    {
     "name": "stdout",
     "output_type": "stream",
     "text": [
      "the sum of even number is  2550\n",
      "the sum of odd number is  2500\n"
     ]
    }
   ],
   "source": [
    "#Sum of even and odd number separately\n",
    "start_range=int(input(\"Start range\"))\n",
    "end_range=int(input(\"End range\"))\n",
    "i=1\n",
    "se=0\n",
    "so=0\n",
    "while i<=end_range:\n",
    "    if i%2==0:\n",
    "        se=se+i\n",
    "    else:\n",
    "        so=so+i\n",
    "    i=i+1\n",
    "print(\"the sum of even number is \",se)\n",
    "print(\"the sum of odd number is \",so)\n"
   ]
  },
  {
   "cell_type": "code",
   "execution_count": 37,
   "id": "55bb3085-0b16-4031-a0d5-0ec850c323f2",
   "metadata": {},
   "outputs": [
    {
     "name": "stdin",
     "output_type": "stream",
     "text": [
      "enter the number 8\n"
     ]
    },
    {
     "name": "stdout",
     "output_type": "stream",
     "text": [
      "8\n",
      "16\n",
      "24\n",
      "32\n",
      "40\n",
      "48\n",
      "56\n",
      "64\n",
      "72\n",
      "80\n"
     ]
    }
   ],
   "source": [
    "#table of a given number\n",
    "\n",
    "#2*1=2\n",
    "#2*2=4\n",
    "#2*3=6\n",
    "\n",
    "i=1\n",
    "n=int(input(\"enter the number\"))\n",
    "while i<=10:\n",
    "    print(n*i)\n",
    "    i=i+1"
   ]
  },
  {
   "cell_type": "code",
   "execution_count": 41,
   "id": "556401f1-b215-40e5-949e-899ff62a9ce0",
   "metadata": {},
   "outputs": [
    {
     "name": "stdin",
     "output_type": "stream",
     "text": [
      "enter the number 45\n"
     ]
    },
    {
     "name": "stdout",
     "output_type": "stream",
     "text": [
      "45 x 1 = 45\n",
      "45 x 2 = 90\n",
      "45 x 3 = 135\n",
      "45 x 4 = 180\n",
      "45 x 5 = 225\n",
      "45 x 6 = 270\n",
      "45 x 7 = 315\n",
      "45 x 8 = 360\n",
      "45 x 9 = 405\n",
      "45 x 10 = 450\n"
     ]
    }
   ],
   "source": [
    "#table of a given number\n",
    "i=1\n",
    "n=int(input(\"enter the number\"))\n",
    "while i<=10:\n",
    "    print(n, \"x\", i, \"=\", n*i)\n",
    "    i=i+1"
   ]
  },
  {
   "cell_type": "code",
   "execution_count": 3,
   "id": "aa04268e-8a68-42bd-ab54-1098d4284662",
   "metadata": {},
   "outputs": [
    {
     "name": "stdin",
     "output_type": "stream",
     "text": [
      "enter the number 17\n"
     ]
    },
    {
     "name": "stdout",
     "output_type": "stream",
     "text": [
      "Factors are\n",
      "1 17 "
     ]
    }
   ],
   "source": [
    "#divisors or factors of a given number\n",
    "\n",
    "n=int(input(\"enter the number\"))\n",
    "i=1\n",
    "print(\"Factors are\")\n",
    "while i<=n:\n",
    "    if n%i==0:\n",
    "        print(i, end=\" \")\n",
    "    i=i+1"
   ]
  },
  {
   "cell_type": "code",
   "execution_count": null,
   "id": "85c9750a-495d-413a-8888-e549560541ba",
   "metadata": {},
   "outputs": [],
   "source": []
  }
 ],
 "metadata": {
  "kernelspec": {
   "display_name": "Python 3 (ipykernel)",
   "language": "python",
   "name": "python3"
  },
  "language_info": {
   "codemirror_mode": {
    "name": "ipython",
    "version": 3
   },
   "file_extension": ".py",
   "mimetype": "text/x-python",
   "name": "python",
   "nbconvert_exporter": "python",
   "pygments_lexer": "ipython3",
   "version": "3.12.4"
  }
 },
 "nbformat": 4,
 "nbformat_minor": 5
}
