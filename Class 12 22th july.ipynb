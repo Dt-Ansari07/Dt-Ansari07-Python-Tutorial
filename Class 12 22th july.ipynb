{
 "cells": [
  {
   "cell_type": "code",
   "execution_count": 67,
   "id": "145e7493-c31a-456a-a708-0b108654b479",
   "metadata": {},
   "outputs": [
    {
     "data": {
      "text/plain": [
       "'Zulfiqar Ansari was here! Class 12th 22th July'"
      ]
     },
     "execution_count": 67,
     "metadata": {},
     "output_type": "execute_result"
    }
   ],
   "source": [
    "\"Zulfiqar Ansari was here! Class 12th 22th July\""
   ]
  },
  {
   "cell_type": "code",
   "execution_count": 7,
   "id": "39260caf-68d8-43de-806e-fbe558499640",
   "metadata": {},
   "outputs": [
    {
     "name": "stdout",
     "output_type": "stream",
     "text": [
      "[12, 23, 34, 45, 56, 67]\n",
      "[12, 23, 34, 45, 56, 67]\n",
      "[12, 23, 34, 'ayush', 56, 67]\n",
      "[12, 23, 34, 'ayush', 56, 67]\n"
     ]
    }
   ],
   "source": [
    "# Copy()\n",
    "# -----\n",
    "# It is also called a shallow copy\n",
    "\n",
    "ls=[12,23,34,45,56,67]\n",
    "ls2=ls\n",
    "print(ls)\n",
    "print(ls2)\n",
    "ls[3]=\"ayush\"\n",
    "print(ls)\n",
    "print(ls2)\n"
   ]
  },
  {
   "cell_type": "code",
   "execution_count": 11,
   "id": "86d762a8-0704-44c4-8699-6263c0b507b7",
   "metadata": {},
   "outputs": [
    {
     "name": "stdout",
     "output_type": "stream",
     "text": [
      "[12, 23, 34, 45, 56, 67]\n",
      "[12, 23, 34, 45, 56, 67]\n",
      "[12, 23, 34, 'ayush', 56, 67]\n",
      "[12, 23, 34, 45, 56, 67]\n"
     ]
    }
   ],
   "source": [
    "ls=[12,23,34,45,56,67]\n",
    "ls2=ls.copy()\n",
    "print(ls)\n",
    "print(ls2)\n",
    "ls[3]=\"ayush\"\n",
    "print(ls)\n",
    "print(ls2)"
   ]
  },
  {
   "cell_type": "code",
   "execution_count": 19,
   "id": "47e26eb2-2aee-4399-8485-9a84b965827e",
   "metadata": {},
   "outputs": [
    {
     "name": "stdout",
     "output_type": "stream",
     "text": [
      "[12, 23, 34, 45, 56, 67]\n",
      "[67, 56, 45, 34, 23, 12]\n",
      "[12, 23, 34, 45, 56, 67]\n"
     ]
    }
   ],
   "source": [
    "# reverse()\n",
    "# ----------\n",
    "\n",
    "ls=[12,23,34,45,56,67]\n",
    "print(ls)\n",
    "ls.reverse()\n",
    "print(ls)\n",
    "\n",
    "#slice operator\n",
    "print(ls[::-1])"
   ]
  },
  {
   "cell_type": "code",
   "execution_count": 31,
   "id": "c2a9d95c-8063-4857-aa79-8bbe9909f348",
   "metadata": {},
   "outputs": [
    {
     "name": "stdout",
     "output_type": "stream",
     "text": [
      "[12, 404, 45, 16, 67]\n",
      "[12, 16, 45, 67, 404]\n",
      "[404, 67, 45, 16, 12]\n"
     ]
    }
   ],
   "source": [
    "# sort()\n",
    "# ------\n",
    "# it arranges all the elements of the list in ascending order.\n",
    "# if you want to arrange elements in descending order then write reverse=True\n",
    "\n",
    "ls=[12,404,45,16,67]\n",
    "print(ls)\n",
    "ls.sort()\n",
    "print(ls)\n",
    "ls.sort(reverse=True)\n",
    "print(ls)"
   ]
  },
  {
   "cell_type": "code",
   "execution_count": 49,
   "id": "f317b8f6-a281-4494-afe9-a70d3eed8b61",
   "metadata": {},
   "outputs": [
    {
     "name": "stdout",
     "output_type": "stream",
     "text": [
      "[12, 23, 34, 45, 56, 67, 23, 45, 56, 23]\n",
      "3\n",
      "[12, 23, 34, 45, 56, 67]\n",
      "[12, 23, 34, 45, 56, 67, 23, 45, 56, 23]\n",
      "12 is found 1 times\n",
      "23 is found 3 times\n",
      "34 is found 1 times\n",
      "45 is found 2 times\n",
      "56 is found 2 times\n",
      "67 is found 1 times\n"
     ]
    }
   ],
   "source": [
    "# count()\n",
    "# --------\n",
    "\n",
    "# return the frequency of the element in the list.\n",
    "\n",
    "ls=[12,23,34,45,56,67,23,45,56,23]\n",
    "print(ls)\n",
    "x=ls.count(23)\n",
    "print(x)\n",
    "\n",
    "# to create a unique list\n",
    "x=[]\n",
    "for i in ls:\n",
    "    if i not in x:\n",
    "        x.append(i)\n",
    "print(x)\n",
    "print(ls)\n",
    "\n",
    "\n",
    "# count all\n",
    "for i in x:\n",
    "    print(i,\"is found\",ls.count(i),\"times\")"
   ]
  },
  {
   "cell_type": "code",
   "execution_count": 53,
   "id": "3fb2b2dd-3919-49ec-b017-65a62bbf0ba7",
   "metadata": {},
   "outputs": [],
   "source": [
    "# USING in build Counter \n",
    "from collections import Counter"
   ]
  },
  {
   "cell_type": "code",
   "execution_count": 63,
   "id": "3152ba19-e777-4a3f-a4b8-4bdb729373d6",
   "metadata": {},
   "outputs": [
    {
     "name": "stdout",
     "output_type": "stream",
     "text": [
      "Counter({1: 1, 2: 1, 3: 1, 4: 1, 5: 1, 6: 1})\n",
      "Counter({3: 1, 4: 1, 5: 1, 6: 1, 7: 1, 8: 1})\n"
     ]
    }
   ],
   "source": [
    "ls=[1,2,3,4,5,6]\n",
    "ls1=[3,4,5,6,7,8]\n",
    "co=Counter(ls)\n",
    "co2=Counter([3,4,5,6,7,8])\n",
    "print(co)\n",
    "print(co2)"
   ]
  },
  {
   "cell_type": "code",
   "execution_count": 71,
   "id": "50ca2493-8b9c-4fbb-8208-33236dad7e2f",
   "metadata": {},
   "outputs": [
    {
     "data": {
      "text/plain": [
       "'shivaji'"
      ]
     },
     "execution_count": 71,
     "metadata": {},
     "output_type": "execute_result"
    }
   ],
   "source": [
    "max([\"sahil\",\"shivaji\",\"avantika\",\"mansi\",\"dhruv\"])"
   ]
  },
  {
   "cell_type": "code",
   "execution_count": 75,
   "id": "cd9350b1-3fea-4a8e-b332-b315a27f958f",
   "metadata": {},
   "outputs": [
    {
     "data": {
      "text/plain": [
       "'y'"
      ]
     },
     "execution_count": 75,
     "metadata": {},
     "output_type": "execute_result"
    }
   ],
   "source": [
    "max([\"x\",\"X\",\"y\",\"Y\"])\n",
    "\n",
    "# a-z-------95\n",
    "# A-Z ------65"
   ]
  },
  {
   "cell_type": "code",
   "execution_count": 7,
   "id": "d56f71fa-6415-44c8-a533-5d805477bb10",
   "metadata": {},
   "outputs": [
    {
     "name": "stdout",
     "output_type": "stream",
     "text": [
      "65 = A\n",
      "66 = B\n",
      "67 = C\n",
      "68 = D\n",
      "69 = E\n",
      "70 = F\n",
      "71 = G\n",
      "72 = H\n",
      "73 = I\n",
      "74 = J\n",
      "75 = K\n",
      "76 = L\n",
      "77 = M\n",
      "78 = N\n",
      "79 = O\n",
      "80 = P\n",
      "81 = Q\n",
      "82 = R\n",
      "83 = S\n",
      "84 = T\n",
      "85 = U\n",
      "86 = V\n",
      "87 = W\n",
      "88 = X\n",
      "89 = Y\n",
      "90 = Z\n",
      "91 = [\n",
      "92 = \\\n",
      "93 = ]\n",
      "94 = ^\n",
      "95 = _\n",
      "96 = `\n"
     ]
    }
   ],
   "source": [
    "for i in range(65,97):\n",
    "    print(i,\"=\",chr(i))"
   ]
  },
  {
   "cell_type": "code",
   "execution_count": 11,
   "id": "5720aeee-c149-493d-8a4e-a91e28c148b4",
   "metadata": {},
   "outputs": [
    {
     "name": "stdout",
     "output_type": "stream",
     "text": [
      "100\n"
     ]
    },
    {
     "data": {
      "text/plain": [
       "4"
      ]
     },
     "execution_count": 11,
     "metadata": {},
     "output_type": "execute_result"
    }
   ],
   "source": [
    "list=['Asif',25,[50,100],[150,90]]   \n",
    "print(list[2][1])\n",
    "len(list)"
   ]
  },
  {
   "cell_type": "code",
   "execution_count": 91,
   "id": "55e460f4-bf68-46e1-81df-7d8a620b0878",
   "metadata": {},
   "outputs": [
    {
     "name": "stdout",
     "output_type": "stream",
     "text": [
      "[12, 404, 45, 16, 67]\n"
     ]
    },
    {
     "data": {
      "text/plain": [
       "[12, 16, 45, 67, 404]"
      ]
     },
     "execution_count": 91,
     "metadata": {},
     "output_type": "execute_result"
    }
   ],
   "source": [
    "# sorted(mylist)\n",
    "ls=[12,404,45,16,67]\n",
    "print(ls)\n",
    "sorted(ls) # return a new sorted list and does not change original list.\n"
   ]
  },
  {
   "cell_type": "code",
   "execution_count": 97,
   "id": "83c85cf5-4e66-47d6-b6b2-15b4f45c404f",
   "metadata": {},
   "outputs": [
    {
     "data": {
      "text/plain": [
       "False"
      ]
     },
     "execution_count": 97,
     "metadata": {},
     "output_type": "execute_result"
    }
   ],
   "source": [
    "# # All/Any\n",
    "# the all() method returns:\n",
    "# True - If all elements in a list are true\n",
    "# False - If any element in a list is false\n",
    "\n",
    "# The any() function returns true if any element in the list is True. If not, any() returns False.\n",
    "\n",
    "L1 = [1,2,3,4,0]\n",
    "all(L1) # Will return false as one value is false (Value 0)"
   ]
  },
  {
   "cell_type": "code",
   "execution_count": 101,
   "id": "db69db61-71dc-41b4-98a8-42a6770375fb",
   "metadata": {},
   "outputs": [
    {
     "data": {
      "text/plain": [
       "True"
      ]
     },
     "execution_count": 101,
     "metadata": {},
     "output_type": "execute_result"
    }
   ],
   "source": [
    "any(L1) # Will return True as we have items in the list with True value)"
   ]
  },
  {
   "cell_type": "code",
   "execution_count": 107,
   "id": "cc45b1c3-d5ab-4cda-ba38-1f8207ff8814",
   "metadata": {},
   "outputs": [
    {
     "data": {
      "text/plain": [
       "True"
      ]
     },
     "execution_count": 107,
     "metadata": {},
     "output_type": "execute_result"
    }
   ],
   "source": [
    "ls=[]\n",
    "all(ls)"
   ]
  },
  {
   "cell_type": "code",
   "execution_count": 109,
   "id": "bfb613d4-eb61-4c14-b3c3-b2f8dd41618c",
   "metadata": {},
   "outputs": [
    {
     "data": {
      "text/plain": [
       "False"
      ]
     },
     "execution_count": 109,
     "metadata": {},
     "output_type": "execute_result"
    }
   ],
   "source": [
    "any(ls)"
   ]
  },
  {
   "cell_type": "code",
   "execution_count": 111,
   "id": "bec7de2d-1189-44b9-ad49-8b706730693a",
   "metadata": {},
   "outputs": [
    {
     "name": "stdout",
     "output_type": "stream",
     "text": [
      "['Sumit']\n"
     ]
    }
   ],
   "source": [
    "L = ['Amit','Sumit','Naina']\n",
    "print(L[1:-1])"
   ]
  },
  {
   "cell_type": "code",
   "execution_count": 113,
   "id": "ad49d0db-ed26-4986-864e-df2cda53a4a1",
   "metadata": {},
   "outputs": [
    {
     "name": "stdout",
     "output_type": "stream",
     "text": [
      "['Amit', 'Sumit', 'Naina', 'Amit', 'Sumit', 'Naina']\n"
     ]
    }
   ],
   "source": [
    "print(L*2) # When ever we multiply any list or string witth any number it will repeat n times\n",
    "# * is repeatition operator"
   ]
  },
  {
   "cell_type": "code",
   "execution_count": null,
   "id": "f714c90d-5bd6-4e3d-8aba-7a786c054e79",
   "metadata": {},
   "outputs": [],
   "source": []
  }
 ],
 "metadata": {
  "kernelspec": {
   "display_name": "Python 3 (ipykernel)",
   "language": "python",
   "name": "python3"
  },
  "language_info": {
   "codemirror_mode": {
    "name": "ipython",
    "version": 3
   },
   "file_extension": ".py",
   "mimetype": "text/x-python",
   "name": "python",
   "nbconvert_exporter": "python",
   "pygments_lexer": "ipython3",
   "version": "3.12.4"
  }
 },
 "nbformat": 4,
 "nbformat_minor": 5
}
