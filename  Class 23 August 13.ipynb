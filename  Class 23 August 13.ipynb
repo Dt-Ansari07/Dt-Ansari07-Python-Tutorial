{
 "cells": [
  {
   "cell_type": "markdown",
   "id": "81f330d1-9583-4af4-8a2d-73de977e87b4",
   "metadata": {},
   "source": [
    "# Class 23th August 13 - Functions "
   ]
  },
  {
   "cell_type": "markdown",
   "id": "dd708d0b-4688-41ee-a27f-0c6b324ee77a",
   "metadata": {},
   "source": [
    "# FILTER"
   ]
  },
  {
   "cell_type": "raw",
   "id": "b70bb2f1-b9a2-461b-a6dd-406730547581",
   "metadata": {},
   "source": [
    "Syntax:\n",
    "    filter(function, iterable)\n",
    "filter() method returns an iterator that passed the function check for each element in iterable."
   ]
  },
  {
   "cell_type": "code",
   "execution_count": 11,
   "id": "9d15ca4a-83da-47fb-9a73-6d35130f0730",
   "metadata": {},
   "outputs": [
    {
     "name": "stdout",
     "output_type": "stream",
     "text": [
      "[4, 6, 8, 12]\n",
      "[5, 7, 97, 77, 23, 73, 61]\n"
     ]
    }
   ],
   "source": [
    "my_list = [1,5,4,6,8,11,3,12]\n",
    "new_list = list(filter(lambda x: (x%2 == 0), my_list))\n",
    "print(new_list)\n",
    "\n",
    "li = [5,7,22,97,54,62,77,23,73,61]\n",
    "final_list = list(filter(lambda x: (x%2 != 0), li))\n",
    "print(final_list)"
   ]
  },
  {
   "cell_type": "markdown",
   "id": "22010612-3630-4235-a381-4fc908350229",
   "metadata": {},
   "source": [
    "# Filter with LAMBDA"
   ]
  },
  {
   "cell_type": "code",
   "execution_count": 14,
   "id": "99ef9f86-b277-4311-bd31-ce344f31ef74",
   "metadata": {},
   "outputs": [
    {
     "data": {
      "text/plain": [
       "['madam', 'anutforajaroftuna']"
      ]
     },
     "execution_count": 14,
     "metadata": {},
     "output_type": "execute_result"
    }
   ],
   "source": [
    "dromes = (\"demigod\", \"rewire\" , \"madam\", \"freer\", \"anutforajaroftuna\", \"kiosk\")\n",
    "\n",
    "palindromes = list(filter(lambda a: a == a[::-1], dromes))\n",
    "palindromes"
   ]
  },
  {
   "cell_type": "code",
   "execution_count": 16,
   "id": "0fa63652-4e82-4c61-b28d-916b64b0143c",
   "metadata": {},
   "outputs": [
    {
     "data": {
      "text/plain": [
       "'hsukna'"
      ]
     },
     "execution_count": 16,
     "metadata": {},
     "output_type": "execute_result"
    }
   ],
   "source": [
    "a = \"ankush\"\n",
    "a[::-1]"
   ]
  },
  {
   "cell_type": "code",
   "execution_count": 18,
   "id": "91d70470-33ef-4b7c-8e22-12a1fca1d2d7",
   "metadata": {},
   "outputs": [
    {
     "name": "stdout",
     "output_type": "stream",
     "text": [
      "--------------------\n",
      "[2, 4, 6, 8, 10]\n",
      "[1, 3, 5, 7, 9]\n",
      "--------------------\n"
     ]
    }
   ],
   "source": [
    "list1 = [1,2,3,4,5,6,7,8,9,10]\n",
    "\n",
    "even = list(filter(lambda n: n%2 ==0, list1))\n",
    "odd = list(filter(lambda n: n%2 !=0, list1))\n",
    "\n",
    "print('--------------------')\n",
    "print(even)\n",
    "print(odd)\n",
    "print('--------------------')\n"
   ]
  },
  {
   "cell_type": "code",
   "execution_count": 20,
   "id": "3ada64bb-130b-4a79-8c15-7bada52f6c5c",
   "metadata": {},
   "outputs": [
    {
     "name": "stdout",
     "output_type": "stream",
     "text": [
      "['TWO', 'FOUR']\n",
      "['one', 'TWO', 'three', 'FOUR']\n",
      "--------------------\n"
     ]
    }
   ],
   "source": [
    "list2 = ['one', 'TWO', 'three', 'FOUR']\n",
    "\n",
    "upper = list(filter(lambda x: x.isupper(), list2))\n",
    "lower = list(filter(lambda x: x.lower(), list2))\n",
    "\n",
    "print(upper)\n",
    "print(lower)\n",
    "print('--------------------')"
   ]
  },
  {
   "cell_type": "code",
   "execution_count": 22,
   "id": "c8af9e82-cf96-4f3a-85b9-bd73b9225af8",
   "metadata": {},
   "outputs": [
    {
     "name": "stdout",
     "output_type": "stream",
     "text": [
      "['one']\n",
      "['88', '99', '102']\n",
      "['one', 'two2', 'three3', '88', '99', '102']\n"
     ]
    }
   ],
   "source": [
    "list3 = ['one', 'two2', 'three3', '88', '99', '102']\n",
    "\n",
    "numeric = list(filter(lambda x: x.isnumeric(), list3))\n",
    "\n",
    "alpha = list(filter(lambda x: x.isalpha(), list3))\n",
    "\n",
    "alphanum = list(filter(lambda x: x.isalnum(), list3))\n",
    "\n",
    "print(alpha)\n",
    "print(numeric)\n",
    "print(alphanum)\n"
   ]
  },
  {
   "cell_type": "markdown",
   "id": "7ab3ab28-1d5c-415b-9c45-1284498e49fa",
   "metadata": {},
   "source": [
    "# List Comprehension"
   ]
  },
  {
   "cell_type": "code",
   "execution_count": 25,
   "id": "4f3c6ac9-fee9-435f-b110-685ad5b80c22",
   "metadata": {},
   "outputs": [
    {
     "data": {
      "text/plain": [
       "['MM', 'aa', 'dd', 'rr', 'ii', 'dd']"
      ]
     },
     "execution_count": 25,
     "metadata": {},
     "output_type": "execute_result"
    }
   ],
   "source": [
    "w = [i+i for i in \"Madrid\"]\n",
    "w"
   ]
  },
  {
   "cell_type": "code",
   "execution_count": 27,
   "id": "239f61f6-da18-4c88-aed2-b22f4e0e40e9",
   "metadata": {},
   "outputs": [
    {
     "data": {
      "text/plain": [
       "'hassanhassanhassan'"
      ]
     },
     "execution_count": 27,
     "metadata": {},
     "output_type": "execute_result"
    }
   ],
   "source": [
    "\"hassan\"*3"
   ]
  },
  {
   "cell_type": "code",
   "execution_count": 33,
   "id": "94c65069-e0c6-44e2-a675-9f59b5dd3c2b",
   "metadata": {},
   "outputs": [
    {
     "data": {
      "text/plain": [
       "[1, 4, 9, 16, 25, 36]"
      ]
     },
     "execution_count": 33,
     "metadata": {},
     "output_type": "execute_result"
    }
   ],
   "source": [
    "A = [i*i for i in [1,2,3,4,5,6]]\n",
    "A"
   ]
  },
  {
   "cell_type": "code",
   "execution_count": 36,
   "id": "27ff74ad-a10e-46ea-9d45-48ffe72d7226",
   "metadata": {},
   "outputs": [
    {
     "data": {
      "text/plain": [
       "[1, 4, 9, 16, 25, 36]"
      ]
     },
     "execution_count": 36,
     "metadata": {},
     "output_type": "execute_result"
    }
   ],
   "source": [
    "res = list(map(lambda x: x*x,[1,2,3,4,5,6]))\n",
    "res"
   ]
  },
  {
   "cell_type": "code",
   "execution_count": 38,
   "id": "7dc84bd6-9e62-49b6-86c0-b23c78f88a75",
   "metadata": {},
   "outputs": [
    {
     "data": {
      "text/plain": [
       "[8, 16, 24, 32, 40]"
      ]
     },
     "execution_count": 38,
     "metadata": {},
     "output_type": "execute_result"
    }
   ],
   "source": [
    "y = [i*4 for i in [2,3,4,5,6,7,8,10] if i%2==0]\n",
    "y"
   ]
  },
  {
   "cell_type": "code",
   "execution_count": 40,
   "id": "24b7dc1e-f76f-4b40-b08d-6c0ee6282f7f",
   "metadata": {},
   "outputs": [
    {
     "data": {
      "text/plain": [
       "[0, 14, 28, 42, 56, 70, 84, 98]"
      ]
     },
     "execution_count": 40,
     "metadata": {},
     "output_type": "execute_result"
    }
   ],
   "source": [
    "num_list = [y for y in range(100) if y % 2 == 0 if y % 7 == 0]\n",
    "num_list"
   ]
  },
  {
   "cell_type": "code",
   "execution_count": 44,
   "id": "cd5cc401-67c4-4200-90a7-aa97b4c62365",
   "metadata": {},
   "outputs": [
    {
     "data": {
      "text/plain": [
       "[0, 'good', 2, 'good', 4, 'good', 6, 'good', 8, 'good']"
      ]
     },
     "execution_count": 44,
     "metadata": {},
     "output_type": "execute_result"
    }
   ],
   "source": [
    "obj = [i if i%2==0 else 'good' for i in range(10)]\n",
    "obj"
   ]
  },
  {
   "cell_type": "code",
   "execution_count": 46,
   "id": "92f45618-abaa-4823-aea0-a95e0905f6c4",
   "metadata": {},
   "outputs": [
    {
     "data": {
      "text/plain": [
       "[0, 2, 4, 6, 8, 10, 12, 14, 16, 18, 20, 22, 24, 26, 28, 30, 32, 34, 36, 38]"
      ]
     },
     "execution_count": 46,
     "metadata": {},
     "output_type": "execute_result"
    }
   ],
   "source": [
    "mylist1 = [i for i in range(40) if i%2==0]  # Display all even numbers between 1-40\n",
    "mylist1"
   ]
  },
  {
   "cell_type": "code",
   "execution_count": 48,
   "id": "6d7562bd-79d7-4b92-bdbf-0ea1677fcf20",
   "metadata": {},
   "outputs": [
    {
     "data": {
      "text/plain": [
       "[1, 3, 5, 7, 9, 11, 13, 15, 17, 19, 21, 23, 25, 27, 29, 31, 33, 35, 37, 39]"
      ]
     },
     "execution_count": 48,
     "metadata": {},
     "output_type": "execute_result"
    }
   ],
   "source": [
    "mylist2 = [i for i in range(40) if i%2==1]  # Display all odd numbers between 1-40\n",
    "mylist2"
   ]
  },
  {
   "cell_type": "code",
   "execution_count": 52,
   "id": "4e3feee5-985d-42ba-89aa-a9ea72b0bec6",
   "metadata": {},
   "outputs": [
    {
     "data": {
      "text/plain": [
       "[0, 1, 4, 9, 16, 25, 36, 49, 64, 81]"
      ]
     },
     "execution_count": 52,
     "metadata": {},
     "output_type": "execute_result"
    }
   ],
   "source": [
    "mylist3 = [num**2 for num in range(10)]\n",
    "mylist3"
   ]
  },
  {
   "cell_type": "code",
   "execution_count": 54,
   "id": "f0f5b9d8-56fa-4018-af0b-90879eb4961d",
   "metadata": {},
   "outputs": [
    {
     "data": {
      "text/plain": [
       "[0, 36, 72, 108, 144, 180]"
      ]
     },
     "execution_count": 54,
     "metadata": {},
     "output_type": "execute_result"
    }
   ],
   "source": [
    "#List all number divisible by 3, 9 & 12 using nested \"if\" with list comprehension\n",
    "mylist4 = [i for i in range(200) if i%3==0 if i%9==0 if i%12==0]\n",
    "mylist4"
   ]
  },
  {
   "cell_type": "code",
   "execution_count": null,
   "id": "c22c575c-c475-4fb3-a6e0-843a460b31e3",
   "metadata": {},
   "outputs": [],
   "source": []
  }
 ],
 "metadata": {
  "kernelspec": {
   "display_name": "Python 3 (ipykernel)",
   "language": "python",
   "name": "python3"
  },
  "language_info": {
   "codemirror_mode": {
    "name": "ipython",
    "version": 3
   },
   "file_extension": ".py",
   "mimetype": "text/x-python",
   "name": "python",
   "nbconvert_exporter": "python",
   "pygments_lexer": "ipython3",
   "version": "3.12.4"
  }
 },
 "nbformat": 4,
 "nbformat_minor": 5
}
