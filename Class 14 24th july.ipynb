{
 "cells": [
  {
   "cell_type": "markdown",
   "id": "31cc2704-0ece-4820-9937-2cea0bddd83e",
   "metadata": {},
   "source": [
    "# Gonna Have fun in learning Today - Class 14th July 24th"
   ]
  },
  {
   "cell_type": "markdown",
   "id": "7332c6cf-1b3c-4dec-b167-562909cec0c5",
   "metadata": {},
   "source": [
    "# Python String islower() Method\n",
    "-------------------------------\n",
    "\n",
    "The islower() method checks whether all the characters of a given string are lowercased or not. It returns True if all characters are lowercased and False even if one character is uppercase.\n",
    "\n",
    " \n",
    "\n",
    "It returns False if a string contains only symbols and numbers, but returns True if symbols or numbers are with lower case string.\n",
    "\n",
    " \n",
    "Syntax:\n",
    "\n",
    "str.islower()"
   ]
  },
  {
   "cell_type": "code",
   "execution_count": 12,
   "id": "e884a957-c730-43aa-8c16-0aa4959333c1",
   "metadata": {},
   "outputs": [
    {
     "data": {
      "text/plain": [
       "True"
      ]
     },
     "execution_count": 12,
     "metadata": {},
     "output_type": "execute_result"
    }
   ],
   "source": [
    "mystr = 'hello world'\n",
    "mystr.islower()"
   ]
  },
  {
   "cell_type": "code",
   "execution_count": 3,
   "id": "8a44c309-fcc0-41f5-9d69-b7e31efca734",
   "metadata": {},
   "outputs": [
    {
     "data": {
      "text/plain": [
       "True"
      ]
     },
     "execution_count": 3,
     "metadata": {},
     "output_type": "execute_result"
    }
   ],
   "source": [
    "mystr = 'hello world'\n",
    "mystr.islower()"
   ]
  },
  {
   "cell_type": "code",
   "execution_count": 16,
   "id": "bf5d7e83-71c4-4be8-97b5-867ef27ddc28",
   "metadata": {},
   "outputs": [
    {
     "data": {
      "text/plain": [
       "True"
      ]
     },
     "execution_count": 16,
     "metadata": {},
     "output_type": "execute_result"
    }
   ],
   "source": [
    "mystr = 'python is #1'\n",
    "mystr.islower()"
   ]
  },
  {
   "cell_type": "markdown",
   "id": "2883f0dc-fd77-45dd-a3fd-3a36702bcef2",
   "metadata": {},
   "source": [
    "# Python String istitle() Method\n",
    "\n",
    "The istitle() method checks whether each word's first character is upper case and the rest are in lower case or not. It returns True if a string is titlecased; otherwise, it returns False. The symbols and numbers are ignored.\n",
    "\n",
    " \n",
    "\n",
    "str.istitle()"
   ]
  },
  {
   "cell_type": "code",
   "execution_count": 11,
   "id": "a7b80dd7-a5ae-406e-beee-4a391a47cf2a",
   "metadata": {},
   "outputs": [
    {
     "data": {
      "text/plain": [
       "True"
      ]
     },
     "execution_count": 11,
     "metadata": {},
     "output_type": "execute_result"
    }
   ],
   "source": [
    "greet = 'Hello World'\n",
    "greet.istitle()"
   ]
  },
  {
   "cell_type": "code",
   "execution_count": 24,
   "id": "b71d3e9b-b612-4584-a80a-e25df7445122",
   "metadata": {},
   "outputs": [
    {
     "data": {
      "text/plain": [
       "False"
      ]
     },
     "execution_count": 24,
     "metadata": {},
     "output_type": "execute_result"
    }
   ],
   "source": [
    "greet = 'Hello WORLD'\n",
    "greet.istitle()"
   ]
  },
  {
   "cell_type": "code",
   "execution_count": 26,
   "id": "90b79333-c0a4-4334-b44e-a7e7d77de9f5",
   "metadata": {},
   "outputs": [
    {
     "data": {
      "text/plain": [
       "False"
      ]
     },
     "execution_count": 26,
     "metadata": {},
     "output_type": "execute_result"
    }
   ],
   "source": [
    "greet = 'hello world'\n",
    "greet.istitle()"
   ]
  },
  {
   "cell_type": "code",
   "execution_count": 28,
   "id": "3ecd4aef-93f5-4bff-a864-fe99153b6c32",
   "metadata": {},
   "outputs": [
    {
     "data": {
      "text/plain": [
       "False"
      ]
     },
     "execution_count": 28,
     "metadata": {},
     "output_type": "execute_result"
    }
   ],
   "source": [
    "greet = 'HelloWorld'\n",
    "greet.istitle()"
   ]
  },
  {
   "cell_type": "code",
   "execution_count": 30,
   "id": "bf58f403-6446-4e0d-ae76-a56c18bfc2c4",
   "metadata": {},
   "outputs": [
    {
     "data": {
      "text/plain": [
       "True"
      ]
     },
     "execution_count": 30,
     "metadata": {},
     "output_type": "execute_result"
    }
   ],
   "source": [
    "s = 'Python Is A Programming Language'\n",
    "s.istitle()"
   ]
  },
  {
   "cell_type": "markdown",
   "id": "6a522177-318f-4d62-b088-8fcc9d0c3850",
   "metadata": {},
   "source": [
    "# Python String isupper() Method\n",
    "\n",
    "The isupper() method checks whether all the characters of a given string are uppercase or not. It returns True if all characters are uppercase and False even if one character is not in uppercase.\n",
    "\n",
    "\n",
    "Symblos and numbers are not affected by this function.\n",
    " \n",
    "\n",
    "Syntax:\n",
    "\n",
    "str.isupper()"
   ]
  },
  {
   "cell_type": "code",
   "execution_count": 34,
   "id": "341626ea-74b1-4205-92b2-9777f34520b6",
   "metadata": {},
   "outputs": [
    {
     "data": {
      "text/plain": [
       "True"
      ]
     },
     "execution_count": 34,
     "metadata": {},
     "output_type": "execute_result"
    }
   ],
   "source": [
    "mystr = 'HELLO WORLD'\n",
    "mystr.isupper()"
   ]
  },
  {
   "cell_type": "code",
   "execution_count": 36,
   "id": "a5dc8f0a-5cfd-42c8-b7bf-68181c6c400c",
   "metadata": {},
   "outputs": [
    {
     "data": {
      "text/plain": [
       "False"
      ]
     },
     "execution_count": 36,
     "metadata": {},
     "output_type": "execute_result"
    }
   ],
   "source": [
    "mystr = 'Hello World'\n",
    "mystr.isupper()"
   ]
  },
  {
   "cell_type": "code",
   "execution_count": 38,
   "id": "5122fbc4-b49f-4723-a8b5-b403fd9c13c9",
   "metadata": {},
   "outputs": [
    {
     "data": {
      "text/plain": [
       "False"
      ]
     },
     "execution_count": 38,
     "metadata": {},
     "output_type": "execute_result"
    }
   ],
   "source": [
    "mystr = 'hello world'\n",
    "mystr.isupper()"
   ]
  },
  {
   "cell_type": "code",
   "execution_count": 40,
   "id": "9f283686-c6c3-42fb-86f2-c0b3f2a1252a",
   "metadata": {},
   "outputs": [
    {
     "data": {
      "text/plain": [
       "True"
      ]
     },
     "execution_count": 40,
     "metadata": {},
     "output_type": "execute_result"
    }
   ],
   "source": [
    "mystr = 'PYTHON IS #1'\n",
    "mystr.isupper()"
   ]
  },
  {
   "cell_type": "markdown",
   "id": "4bfe605c-6b74-47ab-83f2-4bf0a54c8596",
   "metadata": {},
   "source": [
    "# Python String lower() Method\n",
    "\n",
    "The lower() method returns the copy of the original string wherein all the characters are converted to lowercase. If no uppercase characters present, it returns the original string. Symbols and numbers remain unaffected by this function.\n",
    " \n",
    "\n",
    "Syntax:\n",
    "\n",
    "str.lower()"
   ]
  },
  {
   "cell_type": "code",
   "execution_count": 43,
   "id": "2ea21b3e-ba4e-4a6b-802d-cc2942348396",
   "metadata": {},
   "outputs": [
    {
     "name": "stdout",
     "output_type": "stream",
     "text": [
      "hello world\n"
     ]
    }
   ],
   "source": [
    "mystr = 'HELLO WORLD'\n",
    "print(mystr.lower())"
   ]
  },
  {
   "cell_type": "code",
   "execution_count": 45,
   "id": "661fcb97-52ec-4379-91cf-4f6f1d98ea68",
   "metadata": {},
   "outputs": [
    {
     "name": "stdout",
     "output_type": "stream",
     "text": [
      "123abc\n"
     ]
    }
   ],
   "source": [
    "mystr = '123ABC'\n",
    "print(mystr.lower())"
   ]
  },
  {
   "cell_type": "markdown",
   "id": "56962a15-8b97-4017-ae69-d53ec1f05948",
   "metadata": {},
   "source": [
    "# Below is function to find index from start or from last"
   ]
  },
  {
   "cell_type": "code",
   "execution_count": 51,
   "id": "d6a65a4e-b635-400b-b8fa-8e92122a6321",
   "metadata": {},
   "outputs": [
    {
     "data": {
      "text/plain": [
       "10"
      ]
     },
     "execution_count": 51,
     "metadata": {},
     "output_type": "execute_result"
    }
   ],
   "source": [
    "s1 = \"Hello How Are You Hello How Are You Hello How Are You\"\n",
    "s1.find(\"Are\")"
   ]
  },
  {
   "cell_type": "code",
   "execution_count": 49,
   "id": "a0c115d2-08d2-420d-9a93-c8df1e6839a7",
   "metadata": {},
   "outputs": [
    {
     "data": {
      "text/plain": [
       "46"
      ]
     },
     "execution_count": 49,
     "metadata": {},
     "output_type": "execute_result"
    }
   ],
   "source": [
    "s1 = \"Hello How Are You Hello How Are You Hello How Are You\"\n",
    "s1.rfind(\"Are\") # rfind ---- helps to find index of element from last"
   ]
  },
  {
   "cell_type": "markdown",
   "id": "329bc7c0-4802-4b15-b588-ecb078b22b80",
   "metadata": {},
   "source": [
    "# Python String lstrip() Method\r\n",
    "\r\n",
    "The lstrip() method returns a copy of the string by removing leading characters specified as an argument. By default, it removes leading whitespaces if no argument passed.\r\n",
    "\r\n",
    " \r\n",
    "\r\n",
    "Leading characters occur at the start of the string (leftmost part of the string).\r\n",
    "\r\n",
    " \r\n",
    "\r\n",
    "Syntax:\r\n",
    "\r\n",
    "str.lstrip(characters)\r\n",
    "\r\n",
    "\r\n",
    "\r\n",
    "\r\n"
   ]
  },
  {
   "cell_type": "code",
   "execution_count": 67,
   "id": "c242b828-d6d3-41e4-8d63-0429c6c06e7b",
   "metadata": {},
   "outputs": [
    {
     "name": "stdout",
     "output_type": "stream",
     "text": [
      "   Hello World   \n"
     ]
    },
    {
     "data": {
      "text/plain": [
       "'Hello World    '"
      ]
     },
     "execution_count": 67,
     "metadata": {},
     "output_type": "execute_result"
    }
   ],
   "source": [
    "mystr = '   Hello World   '\n",
    "print(mystr)\n",
    "mystr.lstrip()   # removes leading spaces\n",
    "'Hello World    '"
   ]
  },
  {
   "cell_type": "code",
   "execution_count": 73,
   "id": "15916497-8a3b-4d6f-bad1-2d761a53fba1",
   "metadata": {},
   "outputs": [
    {
     "data": {
      "text/plain": [
       "'AYUSH SINGH********'"
      ]
     },
     "execution_count": 73,
     "metadata": {},
     "output_type": "execute_result"
    }
   ],
   "source": [
    "s1 = '********AYUSH SINGH********'\n",
    "s1.lstrip(\"*\")"
   ]
  },
  {
   "cell_type": "code",
   "execution_count": 75,
   "id": "64f5573e-9020-420e-b9db-197e137c1971",
   "metadata": {},
   "outputs": [
    {
     "data": {
      "text/plain": [
       "'********AYUSH SINGH'"
      ]
     },
     "execution_count": 75,
     "metadata": {},
     "output_type": "execute_result"
    }
   ],
   "source": [
    "s1 = '********AYUSH SINGH********'\n",
    "s1.rstrip(\"*\")"
   ]
  },
  {
   "cell_type": "code",
   "execution_count": 77,
   "id": "b835dc16-f669-4a7a-afcc-63ad73625da2",
   "metadata": {},
   "outputs": [
    {
     "data": {
      "text/plain": [
       "'AYUSH SINGH'"
      ]
     },
     "execution_count": 77,
     "metadata": {},
     "output_type": "execute_result"
    }
   ],
   "source": [
    "s1 = '********AYUSH SINGH********'\n",
    "s1.strip(\"*\")"
   ]
  },
  {
   "cell_type": "markdown",
   "id": "dafa9642-7be4-4727-a997-a0469957a68e",
   "metadata": {},
   "source": [
    "# Below is code to remove char or something from string"
   ]
  },
  {
   "cell_type": "code",
   "execution_count": 79,
   "id": "a0642039-3fc8-4653-8812-783c13898090",
   "metadata": {},
   "outputs": [
    {
     "data": {
      "text/plain": [
       "'2000'"
      ]
     },
     "execution_count": 79,
     "metadata": {},
     "output_type": "execute_result"
    }
   ],
   "source": [
    "s1 = \"2000rs\"\n",
    "s1.strip(\"rs\")"
   ]
  },
  {
   "cell_type": "code",
   "execution_count": 81,
   "id": "aed7e6aa-4aaa-4f2d-9867-619b8cb01b71",
   "metadata": {},
   "outputs": [
    {
     "data": {
      "text/plain": [
       "'2000'"
      ]
     },
     "execution_count": 81,
     "metadata": {},
     "output_type": "execute_result"
    }
   ],
   "source": [
    "s1 = \"2000rs\"\n",
    "s1[:-2]"
   ]
  },
  {
   "cell_type": "code",
   "execution_count": 83,
   "id": "a013b85d-21ce-4744-ae9b-6a69b2212ca4",
   "metadata": {},
   "outputs": [
    {
     "name": "stdout",
     "output_type": "stream",
     "text": [
      "2000"
     ]
    }
   ],
   "source": [
    "s1 = \"2000rs\"\n",
    "for i in s1:\n",
    "    if i.isdigit()==True:\n",
    "        print(i,end=\"\")"
   ]
  },
  {
   "cell_type": "markdown",
   "id": "8e119259-db9d-43b3-9714-e18bd1f146d2",
   "metadata": {},
   "source": [
    "# Python String partition() Method\n",
    "\n",
    "The partition() method splits the string at the first occurrence of the specified string separator sep argument and returns a tuple containing three elements, the part before the separator, the separator itself, and the part after the separator.\n",
    "\n",
    " \n",
    "If the matching separator is not found in the string then returns a tuple containing three elements, the string itself as a first element and two empty string elements.\n",
    "\n",
    " \n",
    "Syntax:\n",
    "\n",
    "str.partition(sep)"
   ]
  },
  {
   "cell_type": "code",
   "execution_count": 93,
   "id": "cf79b6bd-0907-412f-8cff-ad76cbb58227",
   "metadata": {},
   "outputs": [
    {
     "name": "stdout",
     "output_type": "stream",
     "text": [
      "('Hello', ' ', 'World')\n",
      "\n",
      "\n",
      "('How ', 'are', ' you?')\n",
      "\n",
      "\n",
      "('Tutorials is the best website', '', '')\n",
      "\n",
      "\n",
      "('', 'Tutorials', ' is the best website')\n"
     ]
    }
   ],
   "source": [
    "mystr = 'Hello World'\n",
    "print(mystr.partition(' '))\n",
    "\n",
    "print(\"\\n\")\n",
    "mystr = 'How are you?'\n",
    "print(mystr.partition('are'))\n",
    "\n",
    "print(\"\\n\")\n",
    "mystr = 'Tutorials is the best website'\n",
    "print(mystr.partition('tutorials'))\n",
    "\n",
    "print(\"\\n\")\n",
    "print(mystr.partition('Tutorials'))"
   ]
  },
  {
   "cell_type": "markdown",
   "id": "f30db22f-c815-46b7-bba5-95296e12f92f",
   "metadata": {},
   "source": [
    "# Python String split() Method\n",
    "\n",
    "The split() method splits the string from the specified separator and returns a list object with string elements. The default separator is any whitespace character such as space, \\t, \\n, etc.\n",
    " \n",
    "\n",
    "Syntax:\n",
    "\n",
    "str.split(separator)"
   ]
  },
  {
   "cell_type": "code",
   "execution_count": 15,
   "id": "fd485765-3bb8-4925-8a33-c6cbcd5a6398",
   "metadata": {},
   "outputs": [
    {
     "name": "stdout",
     "output_type": "stream",
     "text": [
      "['Hello', 'World']\n",
      "\n",
      "\n",
      "['C', 'Python', 'R', 'Java', 'SQL', 'Hadoop']\n",
      "\n",
      "\n",
      "['apple', 'banana', 'fig', 'pear']\n"
     ]
    }
   ],
   "source": [
    "mystr = 'Hello World'\n",
    "print(mystr.split())\n",
    "\n",
    "print(\"\\n\")\n",
    "langs = 'C,Python,R,Java,SQL,Hadoop'\n",
    "print(langs.split(','))\n",
    "\n",
    "print(\"\\n\")\n",
    "fruits = 'apple$banana$fig$pear'\n",
    "print(fruits.split('$'))"
   ]
  },
  {
   "cell_type": "code",
   "execution_count": 102,
   "id": "91449c3e-a404-4876-8bc1-428d271d098e",
   "metadata": {},
   "outputs": [
    {
     "name": "stdout",
     "output_type": "stream",
     "text": [
      "['C', 'Python', 'R', 'Java,SQL,Hadoop']\n",
      "\n",
      "\n",
      "['apple', 'banana', 'fig$pear']\n"
     ]
    }
   ],
   "source": [
    "# The following example limits the split by specifying the maxsplit parameter.\n",
    "\n",
    "langs = 'C,Python,R,Java,SQL,Hadoop'\n",
    "print(langs.split(',', 3))\n",
    "\n",
    "print(\"\\n\")\n",
    "fruits = 'apple$banana$fig$pear'\n",
    "print(fruits.split('$', 2))"
   ]
  },
  {
   "cell_type": "code",
   "execution_count": null,
   "id": "c393e347-51d1-4033-a89c-c0d732bd178d",
   "metadata": {},
   "outputs": [],
   "source": []
  }
 ],
 "metadata": {
  "kernelspec": {
   "display_name": "Python 3 (ipykernel)",
   "language": "python",
   "name": "python3"
  },
  "language_info": {
   "codemirror_mode": {
    "name": "ipython",
    "version": 3
   },
   "file_extension": ".py",
   "mimetype": "text/x-python",
   "name": "python",
   "nbconvert_exporter": "python",
   "pygments_lexer": "ipython3",
   "version": "3.12.4"
  }
 },
 "nbformat": 4,
 "nbformat_minor": 5
}
