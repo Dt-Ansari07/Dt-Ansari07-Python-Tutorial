{
 "cells": [
  {
   "cell_type": "markdown",
   "id": "25dce74a-777d-4511-bc42-292a9601167c",
   "metadata": {},
   "source": [
    "# Class 2nd July 3\n",
    "- Calculate simple interest\n",
    "- Average of three numbers\n",
    "- Calculate percentage\n",
    "- Square root of a number\n",
    "- Power of a rasing b (Exponent)\n",
    "- Greater than | equal to | less than"
   ]
  },
  {
   "cell_type": "markdown",
   "id": "1e6d7cdc-5f40-4b2f-a380-75d167f6ed93",
   "metadata": {},
   "source": [
    "# Calculate simple interest"
   ]
  },
  {
   "cell_type": "code",
   "execution_count": 12,
   "id": "62be7ced-55bc-42ce-9f04-4204a59f6ec5",
   "metadata": {},
   "outputs": [
    {
     "name": "stdout",
     "output_type": "stream",
     "text": [
      "The interest is 896.0\n"
     ]
    }
   ],
   "source": [
    "# Principal amount\n",
    "p = 4000\n",
    "# Annual interest rate (in percentage)\n",
    "r = 5.6\n",
    "# Time period (in years)\n",
    "t = 4\n",
    "# Simple interest formula: SI = P * R * T / 100\n",
    "si = p * r * t / 100\n",
    "# Print the calculated interest\n",
    "print(\"The interest is\", si)"
   ]
  },
  {
   "cell_type": "code",
   "execution_count": 11,
   "id": "a4ff7d13-f2d7-4894-9dc8-a3e199e3866e",
   "metadata": {},
   "outputs": [
    {
     "name": "stdout",
     "output_type": "stream",
     "text": [
      "average is 75.16666666666667\n"
     ]
    }
   ],
   "source": [
    "#average of three numbers\n",
    "\n",
    "a=89.98\n",
    "b=78.87\n",
    "c=56.65\n",
    "avg=(a+b+c)/3\n",
    "print(\"average is\",avg)"
   ]
  },
  {
   "cell_type": "code",
   "execution_count": 13,
   "id": "b3fedab7-d56e-4ad6-a061-f7bb1ad83641",
   "metadata": {},
   "outputs": [
    {
     "name": "stdout",
     "output_type": "stream",
     "text": [
      "the percentage is 72.6\n"
     ]
    }
   ],
   "source": [
    "# Calculate percentage\n",
    "p=56\n",
    "c=76\n",
    "m=86\n",
    "e=67\n",
    "h=78\n",
    "s=p+c+m+e+h\n",
    "# Percentage formula: (Total marks * 100) / Maximum marks\n",
    "per=s*100/500\n",
    "\n",
    "print(\"the percentage is\",per)"
   ]
  },
  {
   "cell_type": "markdown",
   "id": "8ae2f95a-b758-4f93-9759-32b98ec90915",
   "metadata": {},
   "source": [
    "# PEMDAS\n",
    "- Paranthesys (Brackets)\n",
    "- exponent\n",
    "- multiplication\n",
    "- division\n",
    "- addition\n",
    "- substraction"
   ]
  },
  {
   "cell_type": "code",
   "execution_count": 17,
   "id": "98406c95-4cd5-4e9b-bffa-9a803a1e66b5",
   "metadata": {},
   "outputs": [
    {
     "name": "stdout",
     "output_type": "stream",
     "text": [
      "the result is 20151121\n"
     ]
    }
   ],
   "source": [
    "# Calculate the result of raising 'a' to the power of 'b'\n",
    "a=67\n",
    "b=4\n",
    "c=a**b\n",
    "print(\"the result is\",c)"
   ]
  },
  {
   "cell_type": "code",
   "execution_count": 23,
   "id": "0e131984-81b0-44b2-badb-b0d7f7e9034a",
   "metadata": {},
   "outputs": [
    {
     "name": "stdout",
     "output_type": "stream",
     "text": [
      "square root is 5.830951894845301\n"
     ]
    }
   ],
   "source": [
    "# Square root of a number\n",
    "import math\n",
    "n=34\n",
    "c=math.sqrt(n)\n",
    "print(\"square root is\",c)"
   ]
  },
  {
   "cell_type": "code",
   "execution_count": 27,
   "id": "56edeae5-7bd8-4ace-ac43-f07ed3ac5892",
   "metadata": {},
   "outputs": [
    {
     "name": "stdout",
     "output_type": "stream",
     "text": [
      "exponent is  2025.0\n"
     ]
    }
   ],
   "source": [
    "#Exponent (Power)\n",
    "import math\n",
    "a=45\n",
    "b=2\n",
    "c=math.pow(a,b)\n",
    "print(\"exponent is \",c)"
   ]
  },
  {
   "cell_type": "code",
   "execution_count": 33,
   "id": "8c885ccd-1e50-4815-a6f3-e1a8b93d7d1c",
   "metadata": {},
   "outputs": [
    {
     "data": {
      "text/plain": [
       "5"
      ]
     },
     "execution_count": 33,
     "metadata": {},
     "output_type": "execute_result"
    }
   ],
   "source": [
    "a=5\n",
    "a"
   ]
  },
  {
   "cell_type": "code",
   "execution_count": 35,
   "id": "5bda9947-2cb9-4e21-9264-6133834df6fc",
   "metadata": {},
   "outputs": [
    {
     "data": {
      "text/plain": [
       "True"
      ]
     },
     "execution_count": 35,
     "metadata": {},
     "output_type": "execute_result"
    }
   ],
   "source": [
    "a==5"
   ]
  },
  {
   "cell_type": "code",
   "execution_count": 37,
   "id": "e83fec14-5cd5-4ed9-be43-32967a9740c2",
   "metadata": {},
   "outputs": [],
   "source": [
    "a=67\n",
    "b=87"
   ]
  },
  {
   "cell_type": "code",
   "execution_count": 39,
   "id": "48a4b7f0-e5fd-489b-b8f1-3bffa6806730",
   "metadata": {},
   "outputs": [
    {
     "data": {
      "text/plain": [
       "True"
      ]
     },
     "execution_count": 39,
     "metadata": {},
     "output_type": "execute_result"
    }
   ],
   "source": [
    "a<b"
   ]
  },
  {
   "cell_type": "code",
   "execution_count": 41,
   "id": "f3a3b445-948d-4615-a5f1-62db37e9bedf",
   "metadata": {},
   "outputs": [
    {
     "data": {
      "text/plain": [
       "False"
      ]
     },
     "execution_count": 41,
     "metadata": {},
     "output_type": "execute_result"
    }
   ],
   "source": [
    "a>b"
   ]
  },
  {
   "cell_type": "code",
   "execution_count": 43,
   "id": "ec61498d-898f-450a-8e8c-f65a108deb02",
   "metadata": {},
   "outputs": [],
   "source": [
    "a=8\n",
    "b=8"
   ]
  },
  {
   "cell_type": "code",
   "execution_count": 47,
   "id": "37e383f4-3d7e-4efa-94f1-2e2f59cdca16",
   "metadata": {},
   "outputs": [
    {
     "data": {
      "text/plain": [
       "True"
      ]
     },
     "execution_count": 47,
     "metadata": {},
     "output_type": "execute_result"
    }
   ],
   "source": [
    "a<=b #less or Equal"
   ]
  },
  {
   "cell_type": "code",
   "execution_count": 52,
   "id": "dba36c5d-43ee-4cec-8252-7fcaaa3036d9",
   "metadata": {},
   "outputs": [
    {
     "data": {
      "text/plain": [
       "True"
      ]
     },
     "execution_count": 52,
     "metadata": {},
     "output_type": "execute_result"
    }
   ],
   "source": [
    "a>=b #Greater or Equal"
   ]
  },
  {
   "cell_type": "code",
   "execution_count": 54,
   "id": "2f52009d-392f-4ce5-a16e-3b29d251c4d5",
   "metadata": {},
   "outputs": [
    {
     "data": {
      "text/plain": [
       "False"
      ]
     },
     "execution_count": 54,
     "metadata": {},
     "output_type": "execute_result"
    }
   ],
   "source": [
    "a!=b"
   ]
  },
  {
   "cell_type": "code",
   "execution_count": 56,
   "id": "ed9c1bf5-b637-4d91-b75e-882ef3325b93",
   "metadata": {},
   "outputs": [
    {
     "data": {
      "text/plain": [
       "True"
      ]
     },
     "execution_count": 56,
     "metadata": {},
     "output_type": "execute_result"
    }
   ],
   "source": [
    "True and True and True"
   ]
  },
  {
   "cell_type": "code",
   "execution_count": 58,
   "id": "7e543ce4-c341-4288-a5bf-3e575133a7c7",
   "metadata": {},
   "outputs": [
    {
     "data": {
      "text/plain": [
       "False"
      ]
     },
     "execution_count": 58,
     "metadata": {},
     "output_type": "execute_result"
    }
   ],
   "source": [
    "True and True and False"
   ]
  },
  {
   "cell_type": "code",
   "execution_count": 60,
   "id": "f98b5287-825c-4d71-b572-24d254756977",
   "metadata": {},
   "outputs": [
    {
     "data": {
      "text/plain": [
       "False"
      ]
     },
     "execution_count": 60,
     "metadata": {},
     "output_type": "execute_result"
    }
   ],
   "source": [
    "False or False or False"
   ]
  },
  {
   "cell_type": "code",
   "execution_count": 62,
   "id": "ece48bd3-f8a2-4236-864a-9f86624a79c3",
   "metadata": {},
   "outputs": [
    {
     "data": {
      "text/plain": [
       "True"
      ]
     },
     "execution_count": 62,
     "metadata": {},
     "output_type": "execute_result"
    }
   ],
   "source": [
    "False or False or True"
   ]
  },
  {
   "cell_type": "code",
   "execution_count": 2,
   "id": "81e6f149-dc50-4979-bd1a-4f101e9dbc51",
   "metadata": {},
   "outputs": [
    {
     "data": {
      "text/plain": [
       "True"
      ]
     },
     "execution_count": 2,
     "metadata": {},
     "output_type": "execute_result"
    }
   ],
   "source": [
    "False or False or True or False"
   ]
  },
  {
   "cell_type": "code",
   "execution_count": 64,
   "id": "045efd8c-ddc2-4572-ac98-a43539e5ad25",
   "metadata": {},
   "outputs": [
    {
     "data": {
      "text/plain": [
       "False"
      ]
     },
     "execution_count": 64,
     "metadata": {},
     "output_type": "execute_result"
    }
   ],
   "source": [
    "not True"
   ]
  },
  {
   "cell_type": "code",
   "execution_count": 66,
   "id": "c27c2b84-eda8-4cf3-bc08-0e2a793d87c3",
   "metadata": {},
   "outputs": [
    {
     "data": {
      "text/plain": [
       "True"
      ]
     },
     "execution_count": 66,
     "metadata": {},
     "output_type": "execute_result"
    }
   ],
   "source": [
    "not False"
   ]
  },
  {
   "cell_type": "code",
   "execution_count": 68,
   "id": "0df12d10-1852-4198-be80-8a04aa2be0e5",
   "metadata": {},
   "outputs": [
    {
     "data": {
      "text/plain": [
       "True"
      ]
     },
     "execution_count": 68,
     "metadata": {},
     "output_type": "execute_result"
    }
   ],
   "source": [
    "True and True and False or True and False or True"
   ]
  },
  {
   "cell_type": "code",
   "execution_count": 70,
   "id": "7c0bb53d-bacf-404e-9da4-e0b3c9ee3fd1",
   "metadata": {},
   "outputs": [],
   "source": [
    "a=10\n",
    "b=20\n",
    "c=21"
   ]
  },
  {
   "cell_type": "code",
   "execution_count": 72,
   "id": "11386530-7b54-41b6-9077-a6a9d65a470a",
   "metadata": {},
   "outputs": [
    {
     "data": {
      "text/plain": [
       "False"
      ]
     },
     "execution_count": 72,
     "metadata": {},
     "output_type": "execute_result"
    }
   ],
   "source": [
    "a>b and a>c"
   ]
  },
  {
   "cell_type": "code",
   "execution_count": 74,
   "id": "c1268553-255a-48b5-bf89-979dda4ffda8",
   "metadata": {},
   "outputs": [
    {
     "data": {
      "text/plain": [
       "False"
      ]
     },
     "execution_count": 74,
     "metadata": {},
     "output_type": "execute_result"
    }
   ],
   "source": [
    "b>a and b>c"
   ]
  },
  {
   "cell_type": "code",
   "execution_count": 76,
   "id": "c646238f-ab08-4f11-b52a-9cd309d9c32b",
   "metadata": {},
   "outputs": [
    {
     "data": {
      "text/plain": [
       "True"
      ]
     },
     "execution_count": 76,
     "metadata": {},
     "output_type": "execute_result"
    }
   ],
   "source": [
    "c>a and c>b"
   ]
  },
  {
   "cell_type": "code",
   "execution_count": 85,
   "id": "9438ccf5-ddc8-4a93-901b-044f036f3d61",
   "metadata": {},
   "outputs": [
    {
     "name": "stdin",
     "output_type": "stream",
     "text": [
      "enter the number 5\n",
      "enter the number 7\n"
     ]
    },
    {
     "name": "stdout",
     "output_type": "stream",
     "text": [
      "the sum is  12\n"
     ]
    }
   ],
   "source": [
    "#sum of two numbers\n",
    "\n",
    "a=int(input(\"enter the number\"))\n",
    "b=int(input(\"enter the number\"))\n",
    "c=a+b\n",
    "print(\"the sum is \",c)"
   ]
  },
  {
   "cell_type": "code",
   "execution_count": 91,
   "id": "895ba673-01dc-481f-99a1-88c815e0d723",
   "metadata": {},
   "outputs": [
    {
     "name": "stdin",
     "output_type": "stream",
     "text": [
      "enter the value of the principle 4500\n",
      "enter the rate 5.6\n",
      "enter the time 3\n"
     ]
    },
    {
     "name": "stdout",
     "output_type": "stream",
     "text": [
      "Simple interest is 756.0\n"
     ]
    }
   ],
   "source": [
    "#simple interest\n",
    "\n",
    "p=int(input(\"enter the value of the principle\"))\n",
    "r=float(input(\"enter the rate\"))\n",
    "t=int(input(\"enter the time\"))\n",
    "si=p*r*t/100\n",
    "print(\"Simple interest is\",si)"
   ]
  },
  {
   "cell_type": "code",
   "execution_count": 14,
   "id": "92f49fd4-4b14-4bb5-a15d-ec3b28ad26c0",
   "metadata": {},
   "outputs": [
    {
     "name": "stdin",
     "output_type": "stream",
     "text": [
      "Enter the principal amount:  4800\n",
      "Enter the interest rate:  6\n",
      "Enter the time period in years:  5\n"
     ]
    },
    {
     "name": "stdout",
     "output_type": "stream",
     "text": [
      "Simple interest is 1440.0\n"
     ]
    }
   ],
   "source": [
    "# Calculate simple interest with user input\n",
    "\n",
    "# Get the principal amount from the user\n",
    "p = int(input(\"Enter the principal amount: \"))\n",
    "# Get the annual interest rate from the user\n",
    "r = float(input(\"Enter the interest rate: \"))\n",
    "# Get the time period in years from the user\n",
    "t = int(input(\"Enter the time period in years: \"))\n",
    "# Simple interest formula: SI = P * R * T / 100\n",
    "si = p * r * t / 100\n",
    "# Print the calculated interest\n",
    "print(\"Simple interest is\", si)"
   ]
  },
  {
   "cell_type": "code",
   "execution_count": null,
   "id": "1848500b-62ee-44a0-bacc-f726a91de7d3",
   "metadata": {},
   "outputs": [],
   "source": []
  }
 ],
 "metadata": {
  "kernelspec": {
   "display_name": "Python 3 (ipykernel)",
   "language": "python",
   "name": "python3"
  },
  "language_info": {
   "codemirror_mode": {
    "name": "ipython",
    "version": 3
   },
   "file_extension": ".py",
   "mimetype": "text/x-python",
   "name": "python",
   "nbconvert_exporter": "python",
   "pygments_lexer": "ipython3",
   "version": "3.12.4"
  }
 },
 "nbformat": 4,
 "nbformat_minor": 5
}
