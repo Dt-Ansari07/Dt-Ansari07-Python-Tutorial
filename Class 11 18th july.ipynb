{
 "cells": [
  {
   "cell_type": "code",
   "execution_count": 13,
   "id": "86be8599-c8ad-4e2e-ad9c-cd0202087924",
   "metadata": {},
   "outputs": [
    {
     "data": {
      "text/plain": [
       "'Zulfiqar Ansari was here! Class 11th 18th July'"
      ]
     },
     "execution_count": 13,
     "metadata": {},
     "output_type": "execute_result"
    }
   ],
   "source": [
    "\"Zulfiqar Ansari was here! Class 11th 18th July\""
   ]
  },
  {
   "cell_type": "code",
   "execution_count": 17,
   "id": "9165217f-46df-46a6-b124-ba61e080647a",
   "metadata": {},
   "outputs": [
    {
     "name": "stdout",
     "output_type": "stream",
     "text": [
      "[12, 23, 34, 45, 56]\n",
      "[12, 23, 34, 45, 56, 98]\n",
      "[12, 23, 34, 45, 56, 98, [87, 76, 65]]\n"
     ]
    }
   ],
   "source": [
    "# LIST METHODS\n",
    "# -------------\n",
    "\n",
    "# append()\n",
    "# --------\n",
    "# it is used to insert one element in the list a time.\n",
    "# element is always inserted at the end of the list.\n",
    "\n",
    "# ls.append(value)  -----Syntax\n",
    "\n",
    "ls=[12,23,34,45,56]\n",
    "print(ls)\n",
    "ls.append(98)\n",
    "print(ls)\n",
    "ls.append([87,76,65])\n",
    "print(ls)"
   ]
  },
  {
   "cell_type": "code",
   "execution_count": 25,
   "id": "4cca0f83-95a9-43ed-b513-c20e0d646eec",
   "metadata": {},
   "outputs": [
    {
     "name": "stdin",
     "output_type": "stream",
     "text": [
      "Enter the number:  45\n",
      "Enter the number:  56\n",
      "Enter the number:  67\n",
      "Enter the number:  78\n",
      "Enter the number:  90\n",
      "Enter the number:  12\n",
      "Enter the number:  34\n",
      "Enter the number:  56\n",
      "Enter the number:  12\n",
      "Enter the number:  43\n"
     ]
    },
    {
     "name": "stdout",
     "output_type": "stream",
     "text": [
      "[45, 56, 67, 78, 90, 12, 34, 56, 12, 43]\n"
     ]
    }
   ],
   "source": [
    "# make list of 10 elements of your choice\n",
    "ls = []\n",
    "for i in range(10):\n",
    "    n = int(input(\"Enter the number: \"))\n",
    "    ls.append(n)\n",
    "\n",
    "print(ls)"
   ]
  },
  {
   "cell_type": "code",
   "execution_count": 29,
   "id": "7d7d493c-5814-43fe-9187-a160e34979cf",
   "metadata": {},
   "outputs": [
    {
     "name": "stdin",
     "output_type": "stream",
     "text": [
      "Enter the number:  12\n",
      "Enter the number:  21\n",
      "Enter the number:  22\n",
      "Enter the number:  32\n",
      "Enter the number:  34\n",
      "Enter the number:  45\n",
      "Enter the number:  65\n",
      "Enter the number:  67\n",
      "Enter the number:  77\n",
      "Enter the number:  88\n"
     ]
    },
    {
     "name": "stdout",
     "output_type": "stream",
     "text": [
      "[12, 21, 22, 32, 34, 45, 65, 67, 77, 88]\n",
      "[12, 22, 32, 34, 88]\n",
      "[21, 45, 65, 67, 77]\n"
     ]
    }
   ],
   "source": [
    "# make separate list of odd and even numbers\n",
    "ls = []\n",
    "ls_e=[]\n",
    "ls_o=[]\n",
    "for i in range(10):\n",
    "    n = int(input(\"Enter the number: \"))\n",
    "    ls.append(n)\n",
    "\n",
    "for i in ls:\n",
    "    if i%2==0:\n",
    "        ls_e.append(i)\n",
    "    else:\n",
    "        ls_o.append(i)\n",
    "\n",
    "print(ls)\n",
    "print(ls_e)\n",
    "print(ls_o)"
   ]
  },
  {
   "cell_type": "code",
   "execution_count": 45,
   "id": "ddd7fd29-71b1-414d-8c51-3d6d0ffe143d",
   "metadata": {},
   "outputs": [
    {
     "name": "stdin",
     "output_type": "stream",
     "text": [
      "Enter the number:  12\n",
      "Enter the number:  23\n",
      "Enter the number:  34\n",
      "Enter the number:  55\n",
      "Enter the number:  99\n"
     ]
    },
    {
     "name": "stdout",
     "output_type": "stream",
     "text": [
      "The largest element is 99\n",
      "The smallest element is 12\n",
      "\n",
      "\n",
      "Max element is 99\n",
      "Min element is 12\n"
     ]
    }
   ],
   "source": [
    "# Find the maximum element in the list\n",
    "ls = []\n",
    "for i in range(5):\n",
    "    n = int(input(\"Enter the number: \"))\n",
    "    ls.append(n)\n",
    "\n",
    "print(\"The largest element is\", max(ls))\n",
    "print(\"The smallest element is\", min(ls))\n",
    "\n",
    "\n",
    "print(\"\\n\")\n",
    "#Explaination:\n",
    "big=ls[0]\n",
    "for i in ls:\n",
    "    if i>big:\n",
    "        big=i\n",
    "print(\"Max element is\",big)\n",
    "\n",
    "sm=ls[0]\n",
    "for i in ls:\n",
    "    if i<sm:\n",
    "        sm=i\n",
    "print(\"Min element is\",sm)"
   ]
  },
  {
   "cell_type": "code",
   "execution_count": 47,
   "id": "514f7e18-e217-4980-b036-e14bb0ba49f1",
   "metadata": {},
   "outputs": [
    {
     "name": "stdin",
     "output_type": "stream",
     "text": [
      "Enter the number:  34\n",
      "Enter the number:  45\n",
      "Enter the number:  43\n",
      "Enter the number:  12\n",
      "Enter the number:  33\n"
     ]
    },
    {
     "name": "stdout",
     "output_type": "stream",
     "text": [
      "The largest element is 45\n",
      "The smallest element is 12\n"
     ]
    }
   ],
   "source": [
    "# Find maximum and minimum elements in the list\n",
    "ls = []\n",
    "for i in range(5):\n",
    "    n = int(input(\"Enter the number: \"))\n",
    "    ls.append(n)\n",
    "\n",
    "# Initialize the smallest and largest elements\n",
    "sm = ls[0]\n",
    "big = ls[0]\n",
    "\n",
    "# Iterate through the list to find the smallest and largest elements\n",
    "for i in ls:\n",
    "    if i > big:\n",
    "        big = i\n",
    "    if i < sm:\n",
    "        sm = i\n",
    "\n",
    "print(\"The largest element is\", big)\n",
    "print(\"The smallest element is\", sm)"
   ]
  },
  {
   "cell_type": "code",
   "execution_count": 65,
   "id": "bd26660d-6810-402c-ab59-64529f8cc314",
   "metadata": {},
   "outputs": [
    {
     "name": "stdout",
     "output_type": "stream",
     "text": [
      "[12, 23, 34, 45, 56, 67]\n",
      "[12, 23, 34, 45, 56, 67, 98, 87, 65]\n"
     ]
    },
    {
     "data": {
      "text/plain": [
       "[1, 3, 5, 7, 2, 4, 6, 8]"
      ]
     },
     "execution_count": 65,
     "metadata": {},
     "output_type": "execute_result"
    }
   ],
   "source": [
    "# extend()\n",
    "# -------\n",
    "\n",
    "# it is used to insert more than one element at a time in the list.\n",
    "# elements are always inserted at the end of the list.\n",
    "ls=[12,23,34,45,56,67]\n",
    "print(ls)\n",
    "ls.extend([98,87,65])\n",
    "print(ls)\n",
    "\n",
    "#Concatenation:\n",
    "A = [1,3,5,7]\n",
    "B = [2,4,6,8]\n",
    "A.extend(B)\n",
    "A"
   ]
  },
  {
   "cell_type": "code",
   "execution_count": 67,
   "id": "3e1c6d19-74a5-4e8c-bad4-b1a7b1aba509",
   "metadata": {},
   "outputs": [
    {
     "name": "stdout",
     "output_type": "stream",
     "text": [
      "[12, 23, 34, 45, 56, 67, 78]\n",
      "[12, 23, 34, 'Shivaji', 45, 56, 67, 78]\n"
     ]
    }
   ],
   "source": [
    "# insert()\n",
    "# --------\n",
    "# it is also used to insert an element in the list.\n",
    "# but by this method you can insert element at desired location.\n",
    "\n",
    "ls=[12,23,34,45,56,67,78]\n",
    "print(ls)\n",
    "ls.insert(3,\"Shivaji\")\n",
    "print(ls)"
   ]
  },
  {
   "cell_type": "code",
   "execution_count": null,
   "id": "8a2a4722-62f8-4f8f-9867-43bbcf042632",
   "metadata": {},
   "outputs": [],
   "source": []
  }
 ],
 "metadata": {
  "kernelspec": {
   "display_name": "Python 3 (ipykernel)",
   "language": "python",
   "name": "python3"
  },
  "language_info": {
   "codemirror_mode": {
    "name": "ipython",
    "version": 3
   },
   "file_extension": ".py",
   "mimetype": "text/x-python",
   "name": "python",
   "nbconvert_exporter": "python",
   "pygments_lexer": "ipython3",
   "version": "3.12.4"
  }
 },
 "nbformat": 4,
 "nbformat_minor": 5
}
