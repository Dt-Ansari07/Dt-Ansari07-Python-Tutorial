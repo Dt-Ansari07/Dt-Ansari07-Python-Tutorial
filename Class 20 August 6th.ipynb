{
 "cells": [
  {
   "cell_type": "markdown",
   "id": "aaa4a8d4-01be-4e01-9194-9e2fdd42c3fc",
   "metadata": {},
   "source": [
    "# Class 20th August 6 - Functions "
   ]
  },
  {
   "cell_type": "markdown",
   "id": "2ea8ac4a-e21b-4d8d-8215-94376ccdd421",
   "metadata": {},
   "source": [
    "# Return Type function"
   ]
  },
  {
   "cell_type": "raw",
   "id": "9f3f6783-df41-4773-b4b3-c4dbb45eecd2",
   "metadata": {},
   "source": [
    "def function_name(arg1,arg2,...):\n",
    "    statement / logic\n",
    "    return value / values\n",
    "\n",
    "var = fucntion_name(arg1,arg2)\n",
    "print(var)\n",
    "\n",
    "print(function_name(arg1,arg2))"
   ]
  },
  {
   "cell_type": "code",
   "execution_count": 8,
   "id": "0fd5c6b4-3fb5-495b-a74f-b410e1ed6b70",
   "metadata": {},
   "outputs": [
    {
     "name": "stdout",
     "output_type": "stream",
     "text": [
      "the sum is  57\n",
      "the sum is  57\n"
     ]
    }
   ],
   "source": [
    "def sums(a,b):\n",
    "    return a+b\n",
    "\n",
    "# 1st way\n",
    "c = sums(23,34)\n",
    "    print(\"the sum is \",c)\n",
    "\n",
    "# 2nd way\n",
    "print(\"the sum is \",sums(23,34))"
   ]
  },
  {
   "cell_type": "code",
   "execution_count": 3,
   "id": "066cf0a5-e603-4f88-bfa2-4fe194514436",
   "metadata": {},
   "outputs": [
    {
     "name": "stdout",
     "output_type": "stream",
     "text": [
      "(66, 42, 648, 4.5)\n"
     ]
    }
   ],
   "source": [
    "def mathop(a,b):\n",
    "    return a+b, a-b, a*b, a/b\n",
    "\n",
    "x = mathop(54,12)\n",
    "print(x)"
   ]
  },
  {
   "cell_type": "code",
   "execution_count": 12,
   "id": "f866bc84-1d49-4141-a5d2-8ada40e88a5c",
   "metadata": {},
   "outputs": [
    {
     "data": {
      "text/plain": [
       "tuple"
      ]
     },
     "execution_count": 12,
     "metadata": {},
     "output_type": "execute_result"
    }
   ],
   "source": [
    "type(x)"
   ]
  },
  {
   "cell_type": "code",
   "execution_count": 5,
   "id": "eebf671e-29b6-42f6-8ebb-d964c284cc7c",
   "metadata": {},
   "outputs": [
    {
     "name": "stdout",
     "output_type": "stream",
     "text": [
      "the sum is  66\n",
      "the sub is  42\n",
      "the mul is  648\n",
      "the div is  4.5\n"
     ]
    }
   ],
   "source": [
    "s, sb, m, d = mathop(54,12)\n",
    "print(\"the sum is \",s)\n",
    "print(\"the sub is \",sb)\n",
    "print(\"the mul is \",m)\n",
    "print(\"the div is \",d)"
   ]
  },
  {
   "cell_type": "code",
   "execution_count": 7,
   "id": "652424a5-eada-4a3d-8cf6-a2e2538f67ae",
   "metadata": {},
   "outputs": [],
   "source": [
    "def fact(n):\n",
    "    f=1\n",
    "    for i in range(1,n+1):\n",
    "        f = f*i\n",
    "    return f"
   ]
  },
  {
   "cell_type": "code",
   "execution_count": 9,
   "id": "45d13c89-32ee-4502-a254-3950c967de15",
   "metadata": {},
   "outputs": [
    {
     "name": "stdout",
     "output_type": "stream",
     "text": [
      "the factorial is  5040\n",
      "the factorial is  40320\n"
     ]
    }
   ],
   "source": [
    "res = fact(7)\n",
    "print(\"the factorial is \",res)\n",
    "print(\"the factorial is \", fact(8) )"
   ]
  },
  {
   "cell_type": "markdown",
   "id": "e82ed48e-1c4a-4300-bebe-a4e4d1dbe582",
   "metadata": {},
   "source": [
    "# Placeholder argument"
   ]
  },
  {
   "cell_type": "code",
   "execution_count": 18,
   "id": "407e02cd-1854-4524-b71c-fe8e56effe43",
   "metadata": {},
   "outputs": [
    {
     "name": "stdout",
     "output_type": "stream",
     "text": [
      "1400\n",
      "1300\n",
      "69\n"
     ]
    }
   ],
   "source": [
    "def sums(a, b=600, c=700):\n",
    "    return a+b+c\n",
    "\n",
    "print(sums(100))   #1400\n",
    "print(sums(200,400))  #1300\n",
    "print(sums(12,23,34)) #69"
   ]
  },
  {
   "cell_type": "code",
   "execution_count": 24,
   "id": "e3489f3c-2182-4152-b268-238af9afb36d",
   "metadata": {},
   "outputs": [],
   "source": [
    "def datascience(a,b,c,d,e):\n",
    "    return (a+b,a*b)"
   ]
  },
  {
   "cell_type": "code",
   "execution_count": 22,
   "id": "95fc81f0-5cba-4d87-8279-8cb292c5c04d",
   "metadata": {},
   "outputs": [
    {
     "data": {
      "text/plain": [
       "(6, 8)"
      ]
     },
     "execution_count": 22,
     "metadata": {},
     "output_type": "execute_result"
    }
   ],
   "source": [
    "datascience(2,4,6,7,5)"
   ]
  },
  {
   "cell_type": "code",
   "execution_count": 26,
   "id": "2556e5cd-9337-4ee1-bc1e-e145a8c88bdc",
   "metadata": {},
   "outputs": [],
   "source": [
    "def hello(a,b):\n",
    "    return(\"my name is {} and gender is {}\".format(a,b))"
   ]
  },
  {
   "cell_type": "code",
   "execution_count": 34,
   "id": "df1bbc0a-839f-467a-b0f5-5e7550ba86c3",
   "metadata": {},
   "outputs": [
    {
     "data": {
      "text/plain": [
       "'my name is Sahil and gender is male'"
      ]
     },
     "execution_count": 34,
     "metadata": {},
     "output_type": "execute_result"
    }
   ],
   "source": [
    "hello(\"Sahil\",\"male\")"
   ]
  },
  {
   "cell_type": "code",
   "execution_count": 36,
   "id": "00ee56c0-e9f8-4cdd-b4ec-c5857fca3d32",
   "metadata": {},
   "outputs": [],
   "source": [
    "def add(a,b=100):\n",
    "    return(a+b)"
   ]
  },
  {
   "cell_type": "code",
   "execution_count": 38,
   "id": "3c61a9e0-68ac-413a-b288-4515dbbe4b07",
   "metadata": {},
   "outputs": [
    {
     "data": {
      "text/plain": [
       "1100"
      ]
     },
     "execution_count": 38,
     "metadata": {},
     "output_type": "execute_result"
    }
   ],
   "source": [
    "add(1000)"
   ]
  },
  {
   "cell_type": "code",
   "execution_count": 44,
   "id": "a6ce3624-e021-46eb-a598-a037a9084803",
   "metadata": {},
   "outputs": [
    {
     "name": "stdout",
     "output_type": "stream",
     "text": [
      "1600\n",
      "1600\n",
      "5100\n"
     ]
    }
   ],
   "source": [
    "def addition(a,b=700,c=600):\n",
    "    return a+b+c\n",
    "print(addition(300))\n",
    "print(addition(a=400,c=500))\n",
    "print(addition(100,2000,3000))"
   ]
  },
  {
   "cell_type": "code",
   "execution_count": 48,
   "id": "a1b022d9-5cee-469d-b243-2de0f7aee5ea",
   "metadata": {},
   "outputs": [],
   "source": [
    "def hello(name, age=29, gender=\"male\"):\n",
    "    return(\"my name is {} and age is {} and my gender is {}\".format(name,age,gender))"
   ]
  },
  {
   "cell_type": "code",
   "execution_count": 50,
   "id": "85781a12-b39e-47fa-8cfe-11e9a644c5f6",
   "metadata": {},
   "outputs": [
    {
     "data": {
      "text/plain": [
       "'my name is eshank and age is 29 and my gender is male'"
      ]
     },
     "execution_count": 50,
     "metadata": {},
     "output_type": "execute_result"
    }
   ],
   "source": [
    "hello(\"eshank\")"
   ]
  },
  {
   "cell_type": "markdown",
   "id": "6af6549b-eb29-4495-83b2-0d8b92ff8ce1",
   "metadata": {},
   "source": [
    "# FORMAT OF args,kwargs\n",
    "1. unpacking operators are operators that unpack the value from iterable objects in python.\n",
    "2. The single asterisk operator* can be used on any iterable that Python provides,\n",
    "3. while the double asterisk operator** can only be used on dictionaries."
   ]
  },
  {
   "cell_type": "code",
   "execution_count": 53,
   "id": "9c1e0822-1700-43ee-a906-4ed43cdf2493",
   "metadata": {},
   "outputs": [],
   "source": [
    "u =[1,2,3]"
   ]
  },
  {
   "cell_type": "code",
   "execution_count": 55,
   "id": "996c9c54-4841-4d27-a90d-f4c155cb7457",
   "metadata": {},
   "outputs": [
    {
     "data": {
      "text/plain": [
       "[1, 2, 3]"
      ]
     },
     "execution_count": 55,
     "metadata": {},
     "output_type": "execute_result"
    }
   ],
   "source": [
    "u"
   ]
  },
  {
   "cell_type": "code",
   "execution_count": 57,
   "id": "15622453-12c4-49bf-ada2-9dbfac0f1a3a",
   "metadata": {},
   "outputs": [
    {
     "name": "stdout",
     "output_type": "stream",
     "text": [
      "1 2 3\n"
     ]
    }
   ],
   "source": [
    "print(*u)"
   ]
  },
  {
   "cell_type": "code",
   "execution_count": 59,
   "id": "128c509e-2b8b-4c33-b81a-25c2230f6ec6",
   "metadata": {},
   "outputs": [],
   "source": [
    "a, *b, c = [1,2,3,2,3,4,5,6,78,63,4]"
   ]
  },
  {
   "cell_type": "code",
   "execution_count": 61,
   "id": "f64a0da2-59b5-4eb0-b011-bf79a2c71474",
   "metadata": {},
   "outputs": [
    {
     "data": {
      "text/plain": [
       "1"
      ]
     },
     "execution_count": 61,
     "metadata": {},
     "output_type": "execute_result"
    }
   ],
   "source": [
    "a"
   ]
  },
  {
   "cell_type": "code",
   "execution_count": 63,
   "id": "40f88b9c-856e-4e1a-8755-cd772a6dd2fd",
   "metadata": {},
   "outputs": [
    {
     "data": {
      "text/plain": [
       "4"
      ]
     },
     "execution_count": 63,
     "metadata": {},
     "output_type": "execute_result"
    }
   ],
   "source": [
    "c"
   ]
  },
  {
   "cell_type": "code",
   "execution_count": 67,
   "id": "c1aba00b-cb92-431d-8d36-139b880c0e66",
   "metadata": {},
   "outputs": [
    {
     "name": "stdout",
     "output_type": "stream",
     "text": [
      "2 3 2 3 4 5 6 78 63\n"
     ]
    }
   ],
   "source": [
    "print(*b)"
   ]
  },
  {
   "cell_type": "code",
   "execution_count": 71,
   "id": "77c21db0-1853-4ff6-bd0b-f9b2e6885ed4",
   "metadata": {},
   "outputs": [],
   "source": [
    "*a, b, c = [1,2,3,2,3,4,5,6,78,63,4]"
   ]
  },
  {
   "cell_type": "code",
   "execution_count": 73,
   "id": "6f85f8e5-ec8e-4ebb-8a56-9f49f60e8cd1",
   "metadata": {},
   "outputs": [
    {
     "data": {
      "text/plain": [
       "[1, 2, 3, 2, 3, 4, 5, 6, 78]"
      ]
     },
     "execution_count": 73,
     "metadata": {},
     "output_type": "execute_result"
    }
   ],
   "source": [
    "a"
   ]
  },
  {
   "cell_type": "code",
   "execution_count": 75,
   "id": "022291eb-c16c-4ef8-99aa-a97ef40c11f9",
   "metadata": {},
   "outputs": [],
   "source": [
    "a, b, *c = [1,2,3,2,3,4,5,6,78,63,4]"
   ]
  },
  {
   "cell_type": "code",
   "execution_count": 77,
   "id": "a13e49b0-5d4e-41fb-8419-fc378dcad54c",
   "metadata": {},
   "outputs": [
    {
     "data": {
      "text/plain": [
       "[3, 2, 3, 4, 5, 6, 78, 63, 4]"
      ]
     },
     "execution_count": 77,
     "metadata": {},
     "output_type": "execute_result"
    }
   ],
   "source": [
    "c"
   ]
  },
  {
   "cell_type": "code",
   "execution_count": 79,
   "id": "2b5bfbbc-26ed-4ca1-8bcd-b727e907d95f",
   "metadata": {},
   "outputs": [
    {
     "name": "stdout",
     "output_type": "stream",
     "text": [
      "3 2 3 4 5 6 78 63 4\n"
     ]
    }
   ],
   "source": [
    "print(*c)"
   ]
  },
  {
   "cell_type": "code",
   "execution_count": 93,
   "id": "2863811f-03ec-4254-aaa5-e6f4ffca34f4",
   "metadata": {},
   "outputs": [
    {
     "data": {
      "text/plain": [
       "[[1, 2, 3], [4, 5, 6]]"
      ]
     },
     "execution_count": 93,
     "metadata": {},
     "output_type": "execute_result"
    }
   ],
   "source": [
    "A = [1,2,3]\n",
    "B = [4,5,6]\n",
    "C = [A,B]\n",
    "C"
   ]
  },
  {
   "cell_type": "code",
   "execution_count": 97,
   "id": "6f7b13e8-7244-4d39-b293-a70e92e34f6a",
   "metadata": {},
   "outputs": [
    {
     "data": {
      "text/plain": [
       "[1, 2, 3, 4, 5, 6]"
      ]
     },
     "execution_count": 97,
     "metadata": {},
     "output_type": "execute_result"
    }
   ],
   "source": [
    "D = [*A,*B]\n",
    "D"
   ]
  },
  {
   "cell_type": "code",
   "execution_count": 99,
   "id": "504d7270-53b9-4bd1-8919-13214990a58a",
   "metadata": {},
   "outputs": [
    {
     "data": {
      "text/plain": [
       "['r', 'e', 'a', 'l', 'p', 'y', 't', 'h', 'o', 'n']"
      ]
     },
     "execution_count": 99,
     "metadata": {},
     "output_type": "execute_result"
    }
   ],
   "source": [
    "a = [*\"realpython\"]\n",
    "a\n",
    "\n",
    "# b=list(\"realpython\")\n",
    "# b"
   ]
  },
  {
   "cell_type": "code",
   "execution_count": 107,
   "id": "49a9548d-ced6-411d-abb1-878ff34cb4f0",
   "metadata": {},
   "outputs": [],
   "source": [
    "d1 = {\"A\":1,\"B\":2}\n",
    "d2 = {\"C\":3,\"D\":4,\"F\":6}"
   ]
  },
  {
   "cell_type": "code",
   "execution_count": 109,
   "id": "2284b817-ebd4-44a6-b799-d1affa589d89",
   "metadata": {},
   "outputs": [],
   "source": [
    "d1.update(d2)"
   ]
  },
  {
   "cell_type": "code",
   "execution_count": 111,
   "id": "f9b14d1f-af1c-4e18-9a2f-d035d50139a7",
   "metadata": {},
   "outputs": [
    {
     "data": {
      "text/plain": [
       "{'A': 1, 'B': 2, 'C': 3, 'D': 4, 'F': 6}"
      ]
     },
     "execution_count": 111,
     "metadata": {},
     "output_type": "execute_result"
    }
   ],
   "source": [
    "d1"
   ]
  },
  {
   "cell_type": "code",
   "execution_count": 117,
   "id": "bc2040c3-37c7-4fee-ab8b-09554172582c",
   "metadata": {},
   "outputs": [
    {
     "data": {
      "text/plain": [
       "{'A': 1, 'B': 2, 'C': 3, 'D': 4, 'E': 5}"
      ]
     },
     "execution_count": 117,
     "metadata": {},
     "output_type": "execute_result"
    }
   ],
   "source": [
    "d1 = {\"A\":1,\"B\":2}\n",
    "d2 = {\"C\":3,\"D\":4,\"E\":5}\n",
    "d3 = {**d1,**d2}\n",
    "d3"
   ]
  },
  {
   "cell_type": "code",
   "execution_count": 5,
   "id": "a5529110-a64a-46eb-a0d6-06fc3c3020dc",
   "metadata": {},
   "outputs": [
    {
     "data": {
      "text/plain": [
       "{'A': 1, 'B': 2, 'C': 3, 'D': 4, 'E': 5}"
      ]
     },
     "execution_count": 5,
     "metadata": {},
     "output_type": "execute_result"
    }
   ],
   "source": [
    "d1 = {\"A\":1,\"B\":2}\n",
    "d2 = {\"C\":3,\"D\":4,\"E\":5}\n",
    "d3 = {**d1,**d2}\n",
    "d3"
   ]
  },
  {
   "cell_type": "code",
   "execution_count": 137,
   "id": "fdfeeb2e-7a8a-49af-9ef3-68ac0e91acff",
   "metadata": {},
   "outputs": [],
   "source": [
    "def my_sum(*a):\n",
    "    result = 0\n",
    "    for i in a:\n",
    "        result += i\n",
    "    return result"
   ]
  },
  {
   "cell_type": "code",
   "execution_count": 139,
   "id": "ca8e2a17-7cb4-4467-938c-b1c74bd263e2",
   "metadata": {},
   "outputs": [
    {
     "data": {
      "text/plain": [
       "45"
      ]
     },
     "execution_count": 139,
     "metadata": {},
     "output_type": "execute_result"
    }
   ],
   "source": [
    "list1 = [1,2,3]\n",
    "list2 = [4,5]\n",
    "list3 = [6,7,8,9]\n",
    "\n",
    "my_sum(*list1,*list2,*list3)"
   ]
  },
  {
   "cell_type": "code",
   "execution_count": 141,
   "id": "655a004e-e853-44be-a2c2-6c49f9f205ed",
   "metadata": {},
   "outputs": [
    {
     "data": {
      "text/plain": [
       "23"
      ]
     },
     "execution_count": 141,
     "metadata": {},
     "output_type": "execute_result"
    }
   ],
   "source": [
    "mylist = [1,2,3,4,6,7]\n",
    "my_sum(*mylist)"
   ]
  },
  {
   "cell_type": "code",
   "execution_count": null,
   "id": "4d9482b4-8f05-4029-8e80-68663dc046ed",
   "metadata": {},
   "outputs": [],
   "source": []
  }
 ],
 "metadata": {
  "kernelspec": {
   "display_name": "Python 3 (ipykernel)",
   "language": "python",
   "name": "python3"
  },
  "language_info": {
   "codemirror_mode": {
    "name": "ipython",
    "version": 3
   },
   "file_extension": ".py",
   "mimetype": "text/x-python",
   "name": "python",
   "nbconvert_exporter": "python",
   "pygments_lexer": "ipython3",
   "version": "3.12.4"
  }
 },
 "nbformat": 4,
 "nbformat_minor": 5
}
