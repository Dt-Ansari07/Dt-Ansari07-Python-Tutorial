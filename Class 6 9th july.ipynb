{
 "cells": [
  {
   "cell_type": "markdown",
   "id": "fb898694-4154-478a-a13b-a000f4baa0b7",
   "metadata": {},
   "source": [
    "# Class 6th July 9\n",
    "- Mini Calculator\n",
    "- Greatest among (USing #Nested IF)\n",
    "- if, nested if, if else "
   ]
  },
  {
   "cell_type": "code",
   "execution_count": 7,
   "id": "b5b8ad17-b8c3-486d-8dc4-2ef1fd5cbe06",
   "metadata": {},
   "outputs": [
    {
     "name": "stdin",
     "output_type": "stream",
     "text": [
      "enter the number 44\n",
      "enter the number 23\n"
     ]
    },
    {
     "name": "stdout",
     "output_type": "stream",
     "text": [
      "1.ADD\n",
      "2.SUB\n",
      "3.MUL\n",
      "4.DIV\n"
     ]
    },
    {
     "name": "stdin",
     "output_type": "stream",
     "text": [
      "enter the choice from above 3\n"
     ]
    },
    {
     "name": "stdout",
     "output_type": "stream",
     "text": [
      "the mul is 1012\n"
     ]
    }
   ],
   "source": [
    "#mini calculator\n",
    "a=int(input(\"enter the number\"))\n",
    "b=int(input(\"enter the number\"))\n",
    "print(\"1.ADD\")\n",
    "print(\"2.SUB\")\n",
    "print(\"3.MUL\")\n",
    "print(\"4.DIV\")\n",
    "choice=int(input(\"enter the choice from above\"))\n",
    "if choice==1:\n",
    "    print(\"the sum is\",a+b)\n",
    "elif choice==2:\n",
    "    print(\"the sub is\",a-b)\n",
    "elif choice==3:\n",
    "    print(\"the mul is\",a*b)\n",
    "elif choice==4:\n",
    "    print(\"the div is\",a/b)\n",
    "else:\n",
    "    print(\"invalid choice\")"
   ]
  },
  {
   "cell_type": "code",
   "execution_count": 19,
   "id": "fa2d9f8d-7bc5-4143-854d-5041175ed1dd",
   "metadata": {},
   "outputs": [
    {
     "name": "stdin",
     "output_type": "stream",
     "text": [
      "enter the number 88\n",
      "enter the number 34\n",
      "enter the number 98\n"
     ]
    },
    {
     "name": "stdout",
     "output_type": "stream",
     "text": [
      "98 is greatest\n"
     ]
    }
   ],
   "source": [
    "#greatest among three numbers (Nested if)(if ke andar if)\n",
    "a=int(input(\"enter the number\"))\n",
    "b=int(input(\"enter the number\"))\n",
    "c=int(input(\"enter the number\"))\n",
    "\n",
    "if a>b:\n",
    "    if a>c:\n",
    "        print(a,\"is greatest\")\n",
    "    else:\n",
    "        print(c,\"is greatest\")\n",
    "else:\n",
    "    if b>c:\n",
    "        print(b,\"is greatest\")\n",
    "    else:\n",
    "        print(c,\"is greatest\")"
   ]
  },
  {
   "cell_type": "code",
   "execution_count": 35,
   "id": "e11f5112-b12f-48a3-bebd-8f314117bc7e",
   "metadata": {},
   "outputs": [
    {
     "name": "stdin",
     "output_type": "stream",
     "text": [
      "enter the number of units 450\n"
     ]
    },
    {
     "name": "stdout",
     "output_type": "stream",
     "text": [
      "amount to pay 3000\n"
     ]
    }
   ],
   "source": [
    "#check electricity bill by following criteria\n",
    "amt=0\n",
    "nu=int(input(\"enter the number of units\"))\n",
    "if nu<=100:\n",
    "    amt=0\n",
    "if nu>100:\n",
    "    amt=(nu-100)*5\n",
    "if nu>200:\n",
    "    amt=0+500+(nu-200)*10        #500 is amt=(nu-100)*5\n",
    "print(\"amount to pay\",amt)       #100-0      100-----500      150*10=1500"
   ]
  },
  {
   "cell_type": "code",
   "execution_count": 41,
   "id": "ce2bac7a-b23a-4769-9561-d163c69b04f4",
   "metadata": {},
   "outputs": [
    {
     "name": "stdin",
     "output_type": "stream",
     "text": [
      "enter a number -2\n"
     ]
    },
    {
     "name": "stdout",
     "output_type": "stream",
     "text": [
      "2\n"
     ]
    }
   ],
   "source": [
    "#absolute number \n",
    "number=int(input(\"enter a number\"))\n",
    "if number<0:\n",
    "    print(number*-1)\n",
    "else:\n",
    "    print(number)"
   ]
  },
  {
   "cell_type": "markdown",
   "id": "bff1b6ed-edde-47fc-a4af-b813f979dc4d",
   "metadata": {},
   "source": [
    "# Key Differences:\n",
    "\n",
    "#if Statement: Executes a block of code only if the condition is true. If the condition is false, nothing happens.\n",
    "\n",
    "#Nested if Statement: An if statement inside another if statement. The inner if is only evaluated if the outer if is true, allowing for hierarchical condition checking.\n",
    "\n",
    "#if-else Statement: Executes one block of code if the condition is true and another block if the condition is false, providing an alternative path of execution.\n",
    "\n",
    "#if-elif-else Statement: Allows checking multiple conditions. Executes the block corresponding to the first true condition. If none of the conditions are true, the else block executes."
   ]
  },
  {
   "cell_type": "code",
   "execution_count": 47,
   "id": "2d1c7ba2-a89d-4f0a-9a77-a798bbd600ac",
   "metadata": {},
   "outputs": [
    {
     "name": "stdin",
     "output_type": "stream",
     "text": [
      "enter a number -4\n"
     ]
    },
    {
     "name": "stdout",
     "output_type": "stream",
     "text": [
      "4\n"
     ]
    }
   ],
   "source": [
    "#built-in function to find absolute number\n",
    "\n",
    "number=int(input(\"enter a number\"))\n",
    "r=abs(number)\n",
    "print(r)"
   ]
  },
  {
   "cell_type": "code",
   "execution_count": 5,
   "id": "31e061f7-db59-4c3b-99fd-4c064c75b133",
   "metadata": {},
   "outputs": [
    {
     "name": "stdin",
     "output_type": "stream",
     "text": [
      "enter length 45\n",
      "enter breadth 5\n"
     ]
    },
    {
     "name": "stdout",
     "output_type": "stream",
     "text": [
      "No,it is a rectangle\n",
      "the area of rectangle is 225\n"
     ]
    }
   ],
   "source": [
    "length=int(input(\"enter length\"))\n",
    "breadth=int(input(\"enter breadth\"))\n",
    "if length==breadth:\n",
    "    print(\"it is a sqaure\")\n",
    "    print(\"the area of square is\",length**2)\n",
    "else:\n",
    "    print(\"No,it is a rectangle\")\n",
    "    print(\"the area of rectangle is\",length*breadth)"
   ]
  },
  {
   "cell_type": "code",
   "execution_count": null,
   "id": "16f7e8cb-900f-4f56-ba2f-590592243a04",
   "metadata": {},
   "outputs": [],
   "source": []
  }
 ],
 "metadata": {
  "kernelspec": {
   "display_name": "Python 3 (ipykernel)",
   "language": "python",
   "name": "python3"
  },
  "language_info": {
   "codemirror_mode": {
    "name": "ipython",
    "version": 3
   },
   "file_extension": ".py",
   "mimetype": "text/x-python",
   "name": "python",
   "nbconvert_exporter": "python",
   "pygments_lexer": "ipython3",
   "version": "3.12.4"
  }
 },
 "nbformat": 4,
 "nbformat_minor": 5
}
