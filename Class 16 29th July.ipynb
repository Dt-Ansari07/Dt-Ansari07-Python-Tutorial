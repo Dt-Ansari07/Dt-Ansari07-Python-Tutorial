{
 "cells": [
  {
   "cell_type": "markdown",
   "id": "4031fca7-bab2-4cd9-96d2-ec2222c81092",
   "metadata": {},
   "source": [
    "# Gonna have Fun in Learnig today 29 July Class 16"
   ]
  },
  {
   "cell_type": "markdown",
   "id": "2d3baed8-4d0b-47b3-a41e-8e34f01b6b88",
   "metadata": {},
   "source": [
    "# DICTIONARY - Python"
   ]
  },
  {
   "cell_type": "markdown",
   "id": "906dbad2-cb14-4254-8492-0872aa97f733",
   "metadata": {},
   "source": [
    "The dictionary is an unordered collection that contains key:value pairs separated by commas inside curly brackets. Dictionaries are optimized to retrieve values when the key is known.\n",
    "\n",
    "The following declares a dictionary object."
   ]
  },
  {
   "cell_type": "code",
   "execution_count": 3,
   "id": "d03fb287-69a4-426d-acb6-b3c919a21aa5",
   "metadata": {},
   "outputs": [
    {
     "name": "stdout",
     "output_type": "stream",
     "text": [
      "<class 'dict'>\n"
     ]
    }
   ],
   "source": [
    "capitals = {\"USA\":\"Washington D.C.\",\"France\":\"Paris\",\"India\":\"New Delhi\"}\n",
    "print(type(capitals))    #output: <Class 'dict'>"
   ]
  },
  {
   "cell_type": "code",
   "execution_count": 12,
   "id": "3a1d83e0-d426-43f8-958e-e2e4120f8035",
   "metadata": {},
   "outputs": [
    {
     "name": "stdout",
     "output_type": "stream",
     "text": [
      "{}\n",
      "{1: 'One', 2: 'Two', 3: 'Three'}\n",
      "{1.5: 'One and Half', 2.5: 'Two and Half', 3.5: 'Three and Half'}\n",
      "{('Parker', 'Reynolds', 'Camlin'): 'pen', ('LG', 'Whirlpool', 'Samsung'): 'Refrigerator'}\n",
      "{'I': 1, 'II': 2, 'III': 3, 'IV': 4, 'V': 5}\n"
     ]
    }
   ],
   "source": [
    "d = {}   # empty dictionary\n",
    "\n",
    "numNames = {1:\"One\", 2:\"Two\", 3:\"Three\"}  # int key, string value\n",
    "\n",
    "decNames = {1.5:\"One and Half\", 2.5:\"Two and Half\", 3.5:\"Three and Half\"}  # float key, string value\n",
    "\n",
    "items = {(\"Parker\",\"Reynolds\",\"Camlin\"):\"pen\",(\"LG\",\"Whirlpool\",\"Samsung\"):\"Refrigerator\"}   # tuple key, string value\n",
    "\n",
    "romanNums = {\"I\":1, \"II\":2, \"III\":3, \"IV\":4, \"V\":5}  # string key, int value\n",
    "\n",
    "print(d)\n",
    "print(numNames)\n",
    "print(decNames)\n",
    "print(items)\n",
    "print(romanNums)"
   ]
  },
  {
   "cell_type": "markdown",
   "id": "1c35bca9-a961-439d-aeca-8abb0e97d1e3",
   "metadata": {},
   "source": [
    "The same key cannot appear more than once in a collection. If the key appears more than once, only the last will be retained. The value can be of any data type. One value can be assigned to more than one key."
   ]
  },
  {
   "cell_type": "code",
   "execution_count": 17,
   "id": "63f47739-260a-42f8-aaa3-3f5388b60d29",
   "metadata": {},
   "outputs": [
    {
     "name": "stdout",
     "output_type": "stream",
     "text": [
      "{1: 'one', 2: 'two', 3: 'Three'}\n"
     ]
    }
   ],
   "source": [
    "numNames = {1:\"One\", 2:\"Two\", 3:\"Three\", 2:\"two\", 1:\"one\"}\n",
    "print(numNames)  # the output retained only the last values"
   ]
  },
  {
   "cell_type": "markdown",
   "id": "b35e89ed-da19-47c1-a7f3-ecb2cc808288",
   "metadata": {},
   "source": [
    "A dictionary can also be created using the dict() constructor method.\n",
    "\n",
    "Example: dict() Constructor Method\n"
   ]
  },
  {
   "cell_type": "code",
   "execution_count": 20,
   "id": "cd35d448-ad58-495a-8c06-b0c7960dc7c3",
   "metadata": {},
   "outputs": [
    {
     "name": "stdout",
     "output_type": "stream",
     "text": [
      "{}\n"
     ]
    }
   ],
   "source": [
    "emptydict = dict()\n",
    "print(emptydict)"
   ]
  },
  {
   "cell_type": "code",
   "execution_count": 22,
   "id": "ac1d6f93-236e-4e25-9a55-17c8f5bbc69e",
   "metadata": {},
   "outputs": [
    {
     "name": "stdout",
     "output_type": "stream",
     "text": [
      "{'I': 'One', 'II': 'Two', 'III': 'Three'}\n"
     ]
    }
   ],
   "source": [
    "numdict = dict(I=\"One\", II=\"Two\" , III=\"Three\")\n",
    "print(numdict)"
   ]
  },
  {
   "cell_type": "code",
   "execution_count": 24,
   "id": "60113ddd-5708-4cbd-8ed9-683455833321",
   "metadata": {},
   "outputs": [
    {
     "name": "stdout",
     "output_type": "stream",
     "text": [
      "{'I': 'one', 'II': 'Two', 'III': 'three'}\n"
     ]
    }
   ],
   "source": [
    "numdict = dict([('I','one'),('II','Two'),('III','three')])\n",
    "print(numdict)"
   ]
  },
  {
   "cell_type": "markdown",
   "id": "7f9c17a8-92ee-4805-8b7a-ce2726dd5564",
   "metadata": {},
   "source": [
    "# Accessing Dictionary"
   ]
  },
  {
   "cell_type": "markdown",
   "id": "60e43099-31c8-49da-afb1-d3fec681f7c6",
   "metadata": {},
   "source": [
    "\n",
    "Dictionary is an unordered collection, so a value cannot be accessed using an index; instead, a key must be specified in the square brackets, as shown below."
   ]
  },
  {
   "cell_type": "code",
   "execution_count": 33,
   "id": "b84a4a56-d872-41f9-8b3c-508a6e4dca1b",
   "metadata": {},
   "outputs": [
    {
     "name": "stdout",
     "output_type": "stream",
     "text": [
      "{'Name': 'Ayush', 'Age': 25, 'Salary': 3000000}\n",
      "Ayush\n",
      "25\n",
      "3000000\n"
     ]
    },
    {
     "ename": "KeyError",
     "evalue": "'Address'",
     "output_type": "error",
     "traceback": [
      "\u001b[1;31m---------------------------------------------------------------------------\u001b[0m",
      "\u001b[1;31mKeyError\u001b[0m                                  Traceback (most recent call last)",
      "Cell \u001b[1;32mIn[33], line 6\u001b[0m\n\u001b[0;32m      4\u001b[0m \u001b[38;5;28mprint\u001b[39m(x[\u001b[38;5;124m\"\u001b[39m\u001b[38;5;124mAge\u001b[39m\u001b[38;5;124m\"\u001b[39m])\n\u001b[0;32m      5\u001b[0m \u001b[38;5;28mprint\u001b[39m(x[\u001b[38;5;124m\"\u001b[39m\u001b[38;5;124mSalary\u001b[39m\u001b[38;5;124m\"\u001b[39m])\n\u001b[1;32m----> 6\u001b[0m \u001b[38;5;28mprint\u001b[39m(x[\u001b[38;5;124m\"\u001b[39m\u001b[38;5;124mAddress\u001b[39m\u001b[38;5;124m\"\u001b[39m])\n",
      "\u001b[1;31mKeyError\u001b[0m: 'Address'"
     ]
    }
   ],
   "source": [
    "x = {\"Name\":\"Ayush\", \"Age\":25, \"Salary\":3000000}\n",
    "print(x)\n",
    "print(x[\"Name\"])\n",
    "print(x[\"Age\"])\n",
    "print(x[\"Salary\"])\n",
    "print(x[\"Address\"])  # keyError"
   ]
  },
  {
   "cell_type": "markdown",
   "id": "f092a6ed-a62a-4115-a2d7-6b4ddcf47cd9",
   "metadata": {},
   "source": [
    "Use the get() method to retrieve the key's value even if keys are not known. It returns None if the key does not exist instead of raising an error."
   ]
  },
  {
   "cell_type": "code",
   "execution_count": 40,
   "id": "4432f041-9c31-44dc-9bd8-efb9b2ae590c",
   "metadata": {},
   "outputs": [
    {
     "name": "stdout",
     "output_type": "stream",
     "text": [
      "{'Name': 'Ayush', 'Age': 25, 'Salary': 3000000}\n",
      "Ayush\n",
      "25\n",
      "3000000\n",
      "None\n"
     ]
    }
   ],
   "source": [
    "x = {\"Name\":\"Ayush\", \"Age\":25, \"Salary\":3000000}\n",
    "print(x)\n",
    "print(x.get(\"Name\"))\n",
    "print(x.get(\"Age\"))\n",
    "print(x.get(\"Salary\"))\n",
    "print(x.get(\"Address\"))"
   ]
  },
  {
   "cell_type": "markdown",
   "id": "e7aa01f8-a956-48bb-b1bb-516ad092bf25",
   "metadata": {},
   "source": [
    "# Difference B/W accessing and get()\n",
    "\n",
    "get() gives none if key is not found and accessing gives keyError"
   ]
  },
  {
   "cell_type": "markdown",
   "id": "5d0109c0-2b7b-4e05-9c51-fdbd9bdc8d8f",
   "metadata": {},
   "source": [
    "# Access Dictionary using For Loop\n",
    "\n",
    "Use the for loop to iterate a dictionary in the Python script."
   ]
  },
  {
   "cell_type": "code",
   "execution_count": 86,
   "id": "cb01a643-d240-43cb-9728-85391a0ebad8",
   "metadata": {},
   "outputs": [
    {
     "name": "stdout",
     "output_type": "stream",
     "text": [
      "A B C D \n",
      "\n",
      "Adobe , Botson , Chrome , Drone , \n",
      "\n",
      "Adobe Botson Chrome Drone \n",
      "\n",
      "key = A value = Adobe\n",
      "key = B value = Botson\n",
      "key = C value = Chrome\n",
      "key = D value = Drone\n"
     ]
    }
   ],
   "source": [
    "x = {\"A\":\"Adobe\",\"B\":\"Botson\",\"C\":\"Chrome\",\"D\":\"Drone\"}\n",
    "for i in x:\n",
    "    print(i,end=\" \")  # print only keys\n",
    "    \n",
    "print(\"\\n\")\n",
    "for i in x:\n",
    "    print(x[i],end=\" , \") # print values \n",
    "\n",
    "print(\"\\n\")\n",
    "for i in x.values():\n",
    "    print(i,end=\" \") # print values\n",
    "\n",
    "print(\"\\n\")\n",
    "for i in x:\n",
    "    print(\"key =\",i,\"value =\",x[i]) # print both keys and  values"
   ]
  },
  {
   "cell_type": "code",
   "execution_count": 89,
   "id": "4ae4a683-ab9d-4ed0-81c5-60f6abbe45d7",
   "metadata": {},
   "outputs": [
    {
     "name": "stdout",
     "output_type": "stream",
     "text": [
      "A : Adobe\n",
      "B : Botson\n",
      "C : Chrome\n",
      "D : Drone\n"
     ]
    }
   ],
   "source": [
    "for i,j in x.items():  # print both keys and  values\n",
    "    print(i,\":\",j)"
   ]
  },
  {
   "cell_type": "markdown",
   "id": "1fc93261-2fda-4e49-a9e1-02143e44f377",
   "metadata": {},
   "source": [
    "# Update Dictionary (Concept)\r\n",
    "\r\n",
    "As mentioned earlier, the key cannot appear more than once. Use the same key and assign a new value to it to update the dictionary object.\r\n",
    "\r\n",
    "\r\n",
    "\r\n",
    "\r\n"
   ]
  },
  {
   "cell_type": "code",
   "execution_count": 91,
   "id": "a70cd7e5-757e-4cda-a38f-3454dd1fdb07",
   "metadata": {},
   "outputs": [
    {
     "name": "stdout",
     "output_type": "stream",
     "text": [
      "{'A': 'Adobe', 'B': 'Botson', 'C': 'Chrome', 'D': 'Drone'}\n",
      "{'A': 'Adobe', 'B': 'Botson', 'C': 'Chrome', 'D': 'Deloitte'}\n",
      "{'A': 'Adobe', 'B': 'Botson', 'C': 'Chrome', 'D': 'Deloitte', 'E': 'EXL'}\n"
     ]
    }
   ],
   "source": [
    "x = {\"A\":\"Adobe\",\"B\":\"Botson\",\"C\":\"Chrome\",\"D\":\"Drone\"}\n",
    "print(x)\n",
    "x[\"D\"] = \"Deloitte\"\n",
    "print(x)\n",
    "x[\"E\"] = \"EXL\"\n",
    "print(x)\n"
   ]
  },
  {
   "cell_type": "markdown",
   "id": "780a2b90-c25e-476a-8ce9-bcadef095417",
   "metadata": {},
   "source": [
    "# Deleting Values from a Dictionary\r\n",
    "\r\n",
    "Use the del keyword, pop(), or popitem() methods to delete a pair from a dictionary or the dictionary object itself\n",
    "\n",
    ". To delete a pair, use its key as a parameter\n",
    "\n",
    ". To delete a dictionary object itself, use del dictionary_name."
   ]
  },
  {
   "cell_type": "code",
   "execution_count": 116,
   "id": "fceae3dc-4d0c-4e3f-9f90-665d6bbce82e",
   "metadata": {},
   "outputs": [
    {
     "name": "stdout",
     "output_type": "stream",
     "text": [
      "{'A': 'Adobe', 'B': 'Botson', 'C': 'Chrome', 'D': 'Drone'}\n",
      "{'A': 'Adobe', 'C': 'Chrome', 'D': 'Drone'}\n"
     ]
    }
   ],
   "source": [
    "# del method\n",
    "x = {\"A\":\"Adobe\",\"B\":\"Botson\",\"C\":\"Chrome\",\"D\":\"Drone\"}\n",
    "print(x)\n",
    "del (x[\"B\"])\n",
    "print(x)"
   ]
  },
  {
   "cell_type": "code",
   "execution_count": 112,
   "id": "7b077b13-df02-4be8-a24b-781f8860d3f8",
   "metadata": {},
   "outputs": [
    {
     "name": "stdout",
     "output_type": "stream",
     "text": [
      "{'A': 'Adobe', 'B': 'Botson', 'C': 'Chrome', 'D': 'Drone'}\n",
      "Botson\n",
      "{'A': 'Adobe', 'C': 'Chrome', 'D': 'Drone'}\n"
     ]
    }
   ],
   "source": [
    "# pop() function\n",
    "x = {\"A\":\"Adobe\",\"B\":\"Botson\",\"C\":\"Chrome\",\"D\":\"Drone\"}\n",
    "print(x)\n",
    "print(x.pop(\"B\"))  # return the value of the key is being deleted\n",
    "print(x)"
   ]
  },
  {
   "cell_type": "code",
   "execution_count": 118,
   "id": "5970376b-5f4a-447d-821b-6ee977e64025",
   "metadata": {},
   "outputs": [
    {
     "name": "stdout",
     "output_type": "stream",
     "text": [
      "{'A': 'Adobe', 'B': 'Botson', 'C': 'Chrome', 'D': 'Drone'}\n",
      "{'A': 'Adobe', 'B': 'Botson', 'C': 'Chrome'}\n",
      "{'A': 'Adobe', 'B': 'Botson'}\n",
      "{'A': 'Adobe'}\n"
     ]
    }
   ],
   "source": [
    "# popitem() function\n",
    "x = {\"A\":\"Adobe\",\"B\":\"Botson\",\"C\":\"Chrome\",\"D\":\"Drone\"}\n",
    "print(x)\n",
    "x.popitem()\n",
    "print(x)\n",
    "x.popitem()\n",
    "print(x)\n",
    "x.popitem()\n",
    "print(x)"
   ]
  },
  {
   "cell_type": "code",
   "execution_count": null,
   "id": "b4b0220b-94b8-454a-8b83-8eed4dc9fc3b",
   "metadata": {},
   "outputs": [],
   "source": []
  }
 ],
 "metadata": {
  "kernelspec": {
   "display_name": "Python 3 (ipykernel)",
   "language": "python",
   "name": "python3"
  },
  "language_info": {
   "codemirror_mode": {
    "name": "ipython",
    "version": 3
   },
   "file_extension": ".py",
   "mimetype": "text/x-python",
   "name": "python",
   "nbconvert_exporter": "python",
   "pygments_lexer": "ipython3",
   "version": "3.12.4"
  }
 },
 "nbformat": 4,
 "nbformat_minor": 5
}
