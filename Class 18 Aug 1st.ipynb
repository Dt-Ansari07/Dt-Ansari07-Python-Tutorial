{
 "cells": [
  {
   "cell_type": "markdown",
   "id": "a5e4a089-020b-46b1-b09a-3acddf24902d",
   "metadata": {},
   "source": [
    "# Gonna have Fun in Learnig today 1 Aug Class 18"
   ]
  },
  {
   "cell_type": "markdown",
   "id": "05326470-2fa3-4bee-b112-f824662bae47",
   "metadata": {},
   "source": [
    "# SETS"
   ]
  },
  {
   "cell_type": "markdown",
   "id": "fccebdcf-2356-43f4-b689-b4dd25f09e27",
   "metadata": {},
   "source": [
    "1. Unordered & Unindexed collection of items.\n",
    "2. Set elements are unique. Duplicate elements are not allowed.\n",
    "3. Set elements are immutable (cannot be changed).\n",
    "4. Set itself is mutable. We can add or remove items from it."
   ]
  },
  {
   "cell_type": "markdown",
   "id": "e60b9eea-e994-45cd-b280-fbb970004334",
   "metadata": {},
   "source": [
    "# Set Creation"
   ]
  },
  {
   "cell_type": "code",
   "execution_count": 10,
   "id": "06c7ecce-5d6a-42c8-977f-4b4ded8eb19e",
   "metadata": {},
   "outputs": [
    {
     "data": {
      "text/plain": [
       "{1, 2, 3, 4, 5}"
      ]
     },
     "execution_count": 10,
     "metadata": {},
     "output_type": "execute_result"
    }
   ],
   "source": [
    "myset = {1,2,3,4,5}  # Set of numbers\n",
    "myset"
   ]
  },
  {
   "cell_type": "code",
   "execution_count": 12,
   "id": "7f88fb27-5946-488f-90a9-ffedf98c55a5",
   "metadata": {},
   "outputs": [
    {
     "data": {
      "text/plain": [
       "5"
      ]
     },
     "execution_count": 12,
     "metadata": {},
     "output_type": "execute_result"
    }
   ],
   "source": [
    "len(myset) #Length of the set"
   ]
  },
  {
   "cell_type": "code",
   "execution_count": 14,
   "id": "91a34db2-4d63-458c-9416-af31b2b23b80",
   "metadata": {},
   "outputs": [
    {
     "data": {
      "text/plain": [
       "{1, 2, 3, 4, 5}"
      ]
     },
     "execution_count": 14,
     "metadata": {},
     "output_type": "execute_result"
    }
   ],
   "source": [
    "myset = {1,1,2,2,3,4,5,5} \n",
    "myset         # Duplicate elements are not allowed"
   ]
  },
  {
   "cell_type": "code",
   "execution_count": 16,
   "id": "038a3846-1604-4d22-ae6a-e8493bd05725",
   "metadata": {},
   "outputs": [
    {
     "data": {
      "text/plain": [
       "{1.78, 2.07, 3.99, 4.45, 5.33}"
      ]
     },
     "execution_count": 16,
     "metadata": {},
     "output_type": "execute_result"
    }
   ],
   "source": [
    "myset1 = {1.78,2.07,3.99,4.45,5.33} # Set of float numbers\n",
    "myset1"
   ]
  },
  {
   "cell_type": "code",
   "execution_count": 18,
   "id": "99c15f6a-edf1-4fcc-a968-a43b2bd03868",
   "metadata": {},
   "outputs": [
    {
     "data": {
      "text/plain": [
       "{'Asif', 'John', 'Tyrion'}"
      ]
     },
     "execution_count": 18,
     "metadata": {},
     "output_type": "execute_result"
    }
   ],
   "source": [
    "myset2 = {'Asif', 'John', 'Tyrion'}  # Set of strings\n",
    "myset2"
   ]
  },
  {
   "cell_type": "code",
   "execution_count": 28,
   "id": "dc65cdc1-8455-420a-a679-fc4e3c7ca71b",
   "metadata": {},
   "outputs": [
    {
     "data": {
      "text/plain": [
       "{(11, 22, 32), 10, 20, 'Hola'}"
      ]
     },
     "execution_count": 28,
     "metadata": {},
     "output_type": "execute_result"
    }
   ],
   "source": [
    "myset3 = {10,20, 'Hola',(11,22,32)}  #mixed datatypes\n",
    "myset3"
   ]
  },
  {
   "cell_type": "code",
   "execution_count": 30,
   "id": "9388dce4-349c-4ecd-b06b-49e1cffb6628",
   "metadata": {},
   "outputs": [
    {
     "ename": "TypeError",
     "evalue": "unhashable type: 'list'",
     "output_type": "error",
     "traceback": [
      "\u001b[1;31m---------------------------------------------------------------------------\u001b[0m",
      "\u001b[1;31mTypeError\u001b[0m                                 Traceback (most recent call last)",
      "Cell \u001b[1;32mIn[30], line 1\u001b[0m\n\u001b[1;32m----> 1\u001b[0m myset3 \u001b[38;5;241m=\u001b[39m {\u001b[38;5;241m10\u001b[39m,\u001b[38;5;241m20\u001b[39m, \u001b[38;5;124m'\u001b[39m\u001b[38;5;124mHola\u001b[39m\u001b[38;5;124m'\u001b[39m,[\u001b[38;5;241m11\u001b[39m,\u001b[38;5;241m22\u001b[39m,\u001b[38;5;241m32\u001b[39m]}  \u001b[38;5;66;03m# set does not allow mutablle items\u001b[39;00m\n\u001b[0;32m      2\u001b[0m myset3\n",
      "\u001b[1;31mTypeError\u001b[0m: unhashable type: 'list'"
     ]
    }
   ],
   "source": [
    "myset3 = {10,20, 'Hola',[11,22,32]}  # set does not allow mutablle items \n",
    "myset3  # [11,22,32] is LIST ---- its mutable so we get error"
   ]
  },
  {
   "cell_type": "code",
   "execution_count": 34,
   "id": "99a7468a-335e-4e38-a1f9-b8010e476765",
   "metadata": {},
   "outputs": [
    {
     "name": "stdout",
     "output_type": "stream",
     "text": [
      "<class 'set'>\n"
     ]
    }
   ],
   "source": [
    "myset4 = set()  # Create an empty set\n",
    "print(type(myset4))"
   ]
  },
  {
   "cell_type": "code",
   "execution_count": 42,
   "id": "cc6dd10a-0ba0-4226-b636-6f379a83f9d8",
   "metadata": {},
   "outputs": [
    {
     "data": {
      "text/plain": [
       "{'four', 'one', 'three', 'two'}"
      ]
     },
     "execution_count": 42,
     "metadata": {},
     "output_type": "execute_result"
    }
   ],
   "source": [
    "my_set1 = set(('one', 'two', 'three', 'four'))\n",
    "my_set1"
   ]
  },
  {
   "cell_type": "markdown",
   "id": "d5fdb55f-b638-4616-a734-0a0d6ff9b632",
   "metadata": {},
   "source": [
    "# loop through set"
   ]
  },
  {
   "cell_type": "code",
   "execution_count": 13,
   "id": "bb33e65c-ac8d-4bd5-803a-84b37cb68dbe",
   "metadata": {},
   "outputs": [
    {
     "name": "stdout",
     "output_type": "stream",
     "text": [
      "{'five', 'four', 'six', 'two', 'seven', 'three', 'one', 'eight'}\n"
     ]
    }
   ],
   "source": [
    "myset = {'one', 'two', 'three', 'four', 'five', 'six', 'seven' , 'eight'}\n",
    "\n",
    "print(myset)"
   ]
  },
  {
   "cell_type": "code",
   "execution_count": 15,
   "id": "ecf2741d-a51f-463e-b132-db8cedc11b27",
   "metadata": {},
   "outputs": [
    {
     "data": {
      "text/plain": [
       "True"
      ]
     },
     "execution_count": 15,
     "metadata": {},
     "output_type": "execute_result"
    }
   ],
   "source": [
    "'one' in myset # Check if 'one' exist in the set"
   ]
  },
  {
   "cell_type": "code",
   "execution_count": 17,
   "id": "dc09af2d-af8b-43cc-90d3-de2bbb5f07ee",
   "metadata": {},
   "outputs": [
    {
     "data": {
      "text/plain": [
       "False"
      ]
     },
     "execution_count": 17,
     "metadata": {},
     "output_type": "execute_result"
    }
   ],
   "source": [
    "'ten' in myset # Check if 'ten' exist in the set"
   ]
  },
  {
   "cell_type": "markdown",
   "id": "c3318674-2791-4555-9c92-eec742ee0d51",
   "metadata": {},
   "source": [
    "# Add & Remove Items"
   ]
  },
  {
   "cell_type": "code",
   "execution_count": 20,
   "id": "f4c622ee-7845-4239-90a0-afd5d0e4d865",
   "metadata": {},
   "outputs": [
    {
     "data": {
      "text/plain": [
       "{'eight', 'five', 'four', 'one', 'seven', 'six', 'three', 'two'}"
      ]
     },
     "execution_count": 20,
     "metadata": {},
     "output_type": "execute_result"
    }
   ],
   "source": [
    "myset"
   ]
  },
  {
   "cell_type": "code",
   "execution_count": 22,
   "id": "1f7a57ea-b7b9-4e75-9ec8-04b6c29f18a9",
   "metadata": {},
   "outputs": [
    {
     "data": {
      "text/plain": [
       "{'NINE', 'eight', 'five', 'four', 'one', 'seven', 'six', 'three', 'two'}"
      ]
     },
     "execution_count": 22,
     "metadata": {},
     "output_type": "execute_result"
    }
   ],
   "source": [
    "myset.add('NINE')   # Add item to a set using add() method\n",
    "myset"
   ]
  },
  {
   "cell_type": "code",
   "execution_count": 24,
   "id": "5bab7269-76a8-4185-801a-d1bf4332eb6c",
   "metadata": {},
   "outputs": [
    {
     "data": {
      "text/plain": [
       "{'ELEVEN',\n",
       " 'NINE',\n",
       " 'TEN',\n",
       " 'TWELVE',\n",
       " 'eight',\n",
       " 'five',\n",
       " 'four',\n",
       " 'one',\n",
       " 'seven',\n",
       " 'six',\n",
       " 'three',\n",
       " 'two'}"
      ]
     },
     "execution_count": 24,
     "metadata": {},
     "output_type": "execute_result"
    }
   ],
   "source": [
    "myset.update(['TEN', 'ELEVEN', 'TWELVE']) # Add multiple item in a set using update() method\n",
    "myset"
   ]
  },
  {
   "cell_type": "code",
   "execution_count": 26,
   "id": "c45e189a-3c84-44d9-a9e8-e1a24bc38fbc",
   "metadata": {},
   "outputs": [
    {
     "data": {
      "text/plain": [
       "{'ELEVEN',\n",
       " 'TEN',\n",
       " 'TWELVE',\n",
       " 'eight',\n",
       " 'five',\n",
       " 'four',\n",
       " 'one',\n",
       " 'seven',\n",
       " 'six',\n",
       " 'three',\n",
       " 'two'}"
      ]
     },
     "execution_count": 26,
     "metadata": {},
     "output_type": "execute_result"
    }
   ],
   "source": [
    "myset.remove('NINE')  # remove item in a set using remove() method\n",
    "myset"
   ]
  },
  {
   "cell_type": "code",
   "execution_count": 70,
   "id": "70380d76-30c7-4ed0-a61b-f058f7f3d144",
   "metadata": {},
   "outputs": [
    {
     "data": {
      "text/plain": [
       "{'ELEVEN',\n",
       " 'TWELVE',\n",
       " 'eight',\n",
       " 'five',\n",
       " 'four',\n",
       " 'one',\n",
       " 'seven',\n",
       " 'six',\n",
       " 'three',\n",
       " 'two'}"
      ]
     },
     "execution_count": 70,
     "metadata": {},
     "output_type": "execute_result"
    }
   ],
   "source": [
    "myset.discard('TEN')  # remove item in a set using discard() method\n",
    "myset"
   ]
  },
  {
   "cell_type": "markdown",
   "id": "ed725ec7-4797-4e15-9e44-d30404d98cdd",
   "metadata": {},
   "source": [
    "# Difference btw remove() and discard()\n",
    "\n",
    "Use remove() if you want to ensure the element is removed and you want to be notified (via an exception) if the element was not present.\n",
    "\n",
    "Use discard() if you want to remove the element if it exists but do not want to deal with an exception if the element is not present."
   ]
  },
  {
   "cell_type": "code",
   "execution_count": 28,
   "id": "53995a47-3510-49a2-8075-6f309d946ddf",
   "metadata": {},
   "outputs": [
    {
     "ename": "KeyError",
     "evalue": "'fifty'",
     "output_type": "error",
     "traceback": [
      "\u001b[1;31m---------------------------------------------------------------------------\u001b[0m",
      "\u001b[1;31mKeyError\u001b[0m                                  Traceback (most recent call last)",
      "Cell \u001b[1;32mIn[28], line 1\u001b[0m\n\u001b[1;32m----> 1\u001b[0m myset\u001b[38;5;241m.\u001b[39mremove(\u001b[38;5;124m'\u001b[39m\u001b[38;5;124mfifty\u001b[39m\u001b[38;5;124m'\u001b[39m)\n\u001b[0;32m      2\u001b[0m myset\n",
      "\u001b[1;31mKeyError\u001b[0m: 'fifty'"
     ]
    }
   ],
   "source": [
    "myset.remove('fifty')\n",
    "myset"
   ]
  },
  {
   "cell_type": "code",
   "execution_count": 30,
   "id": "72ec932a-d38c-4cf4-8828-5c397f5f61b9",
   "metadata": {},
   "outputs": [
    {
     "data": {
      "text/plain": [
       "{'ELEVEN',\n",
       " 'TEN',\n",
       " 'TWELVE',\n",
       " 'eight',\n",
       " 'five',\n",
       " 'four',\n",
       " 'one',\n",
       " 'seven',\n",
       " 'six',\n",
       " 'three',\n",
       " 'two'}"
      ]
     },
     "execution_count": 30,
     "metadata": {},
     "output_type": "execute_result"
    }
   ],
   "source": [
    "myset.discard('fifty')\n",
    "myset"
   ]
  },
  {
   "cell_type": "code",
   "execution_count": 83,
   "id": "70916f67-84a7-41b3-a17c-117054ec86e3",
   "metadata": {},
   "outputs": [
    {
     "data": {
      "text/plain": [
       "set()"
      ]
     },
     "execution_count": 83,
     "metadata": {},
     "output_type": "execute_result"
    }
   ],
   "source": [
    "myset.clear() # Delete all items of set\n",
    "myset"
   ]
  },
  {
   "cell_type": "code",
   "execution_count": 101,
   "id": "117bf130-cad8-4255-a011-d5cf85f7a656",
   "metadata": {},
   "outputs": [
    {
     "ename": "NameError",
     "evalue": "name 'myset' is not defined",
     "output_type": "error",
     "traceback": [
      "\u001b[1;31m---------------------------------------------------------------------------\u001b[0m",
      "\u001b[1;31mNameError\u001b[0m                                 Traceback (most recent call last)",
      "Cell \u001b[1;32mIn[101], line 1\u001b[0m\n\u001b[1;32m----> 1\u001b[0m \u001b[38;5;28;01mdel\u001b[39;00m myset  \u001b[38;5;66;03m# Delete the set object\u001b[39;00m\n\u001b[0;32m      2\u001b[0m myset\n",
      "\u001b[1;31mNameError\u001b[0m: name 'myset' is not defined"
     ]
    }
   ],
   "source": [
    "del myset  # Delete the set object\n",
    "myset"
   ]
  },
  {
   "cell_type": "markdown",
   "id": "e3c20a9b-11a6-4c0c-a5ff-0aaec8e2fd59",
   "metadata": {},
   "source": [
    "# Copy Set\n",
    "\n",
    "check previous copy example in previous classes"
   ]
  },
  {
   "cell_type": "markdown",
   "id": "c8e8635d-f5e8-4601-8202-2de1eb3b8eb8",
   "metadata": {},
   "source": [
    "# Set operation"
   ]
  },
  {
   "cell_type": "markdown",
   "id": "7070a51d-7ddd-4474-a5b8-bdf3d5c757d6",
   "metadata": {},
   "source": [
    "Union"
   ]
  },
  {
   "cell_type": "code",
   "execution_count": 109,
   "id": "6e734a06-21ef-4700-9d7d-30bd96652d4e",
   "metadata": {},
   "outputs": [],
   "source": [
    "A = {1,2,3,4,5}\n",
    "B = {4,5,6,7,8}\n",
    "C = {8,9,10}"
   ]
  },
  {
   "cell_type": "code",
   "execution_count": 113,
   "id": "bdf37853-2cca-418e-a670-8e4a7c8eef3f",
   "metadata": {},
   "outputs": [
    {
     "data": {
      "text/plain": [
       "{1, 2, 3, 4, 5, 6, 7, 8}"
      ]
     },
     "execution_count": 113,
     "metadata": {},
     "output_type": "execute_result"
    }
   ],
   "source": [
    "A|B # Union of A and B (All elements from both sets NO DUPLICATES)"
   ]
  },
  {
   "cell_type": "code",
   "execution_count": 115,
   "id": "77a6bcc4-d4e0-4b52-ba55-f3cfbb941dc0",
   "metadata": {},
   "outputs": [
    {
     "data": {
      "text/plain": [
       "{1, 2, 3, 4, 5, 6, 7, 8}"
      ]
     },
     "execution_count": 115,
     "metadata": {},
     "output_type": "execute_result"
    }
   ],
   "source": [
    "A.union(B) # Union of A and B"
   ]
  },
  {
   "cell_type": "code",
   "execution_count": 117,
   "id": "aa0de29c-c40a-4be4-b7a4-35b77066d35c",
   "metadata": {},
   "outputs": [
    {
     "data": {
      "text/plain": [
       "{1, 2, 3, 4, 5, 6, 7, 8, 9, 10}"
      ]
     },
     "execution_count": 117,
     "metadata": {},
     "output_type": "execute_result"
    }
   ],
   "source": [
    "A.union(B,C)  # Union of A, B and C"
   ]
  },
  {
   "cell_type": "markdown",
   "id": "44ddee37-ae9b-4961-a824-6968d48249d5",
   "metadata": {},
   "source": [
    "Updates the set calling the update() method with union of A, B and C"
   ]
  },
  {
   "cell_type": "code",
   "execution_count": 122,
   "id": "28dce41e-f2af-4403-8c32-bd001099e346",
   "metadata": {},
   "outputs": [
    {
     "data": {
      "text/plain": [
       "{4, 5}"
      ]
     },
     "execution_count": 122,
     "metadata": {},
     "output_type": "execute_result"
    }
   ],
   "source": [
    "A & B # Intersection of A and B (Common items in both sets)"
   ]
  },
  {
   "cell_type": "code",
   "execution_count": 125,
   "id": "97d20bc9-03ef-4192-8fda-6b375fcd7bc7",
   "metadata": {},
   "outputs": [
    {
     "data": {
      "text/plain": [
       "{4, 5}"
      ]
     },
     "execution_count": 125,
     "metadata": {},
     "output_type": "execute_result"
    }
   ],
   "source": [
    "A.intersection(B)    # Intersection of A and B"
   ]
  },
  {
   "cell_type": "markdown",
   "id": "e5d726d6-d194-400c-9e94-b186af065da3",
   "metadata": {},
   "source": [
    "Difference"
   ]
  },
  {
   "cell_type": "code",
   "execution_count": 128,
   "id": "33344b71-042a-45c0-ae8e-4a522f4a8b1a",
   "metadata": {},
   "outputs": [
    {
     "data": {
      "text/plain": [
       "{1, 2, 3}"
      ]
     },
     "execution_count": 128,
     "metadata": {},
     "output_type": "execute_result"
    }
   ],
   "source": [
    "A - B  # set of elements that are only in A but not in B"
   ]
  },
  {
   "cell_type": "code",
   "execution_count": 130,
   "id": "635b2a9d-dded-49f9-b282-3b3a4c09bc20",
   "metadata": {},
   "outputs": [
    {
     "data": {
      "text/plain": [
       "{1, 2, 3}"
      ]
     },
     "execution_count": 130,
     "metadata": {},
     "output_type": "execute_result"
    }
   ],
   "source": [
    "A.difference(B)  # Difference of sets"
   ]
  },
  {
   "cell_type": "code",
   "execution_count": 132,
   "id": "fac26594-0225-4861-b402-d4e3a6cb371c",
   "metadata": {},
   "outputs": [
    {
     "data": {
      "text/plain": [
       "{6, 7, 8}"
      ]
     },
     "execution_count": 132,
     "metadata": {},
     "output_type": "execute_result"
    }
   ],
   "source": [
    "B - A"
   ]
  },
  {
   "cell_type": "code",
   "execution_count": 136,
   "id": "da9da212-a42b-4201-92e5-61354a30a26a",
   "metadata": {},
   "outputs": [
    {
     "data": {
      "text/plain": [
       "{6, 7, 8}"
      ]
     },
     "execution_count": 136,
     "metadata": {},
     "output_type": "execute_result"
    }
   ],
   "source": [
    "B.difference(A)"
   ]
  },
  {
   "cell_type": "markdown",
   "id": "1a6cf7c4-ef46-4e63-8d3b-b6f0b0c21739",
   "metadata": {},
   "source": [
    "# Functions\n",
    "A function is a block of organized code written to carry out a specified task.\n",
    "\n",
    "Functions help break our program into smaller and modular chunks for better readability.\n",
    "\n",
    "Information can be passed into a function as arguments.\n",
    "\n",
    "Parameters are specified after the function name inside the parentheses.\n",
    "\n",
    "We can add as many parameters as we want. Parameters must be separated with a comma.\n",
    "\n",
    "A function may or may not return data.\n",
    "\n",
    "In Python, a function is defined using the 'def' keyword."
   ]
  },
  {
   "cell_type": "markdown",
   "id": "2149e79d-d531-4c5d-96b2-6f77101966cb",
   "metadata": {},
   "source": [
    "# Parameter VS Argument\n",
    "- A parameter is the variable listed inside the parantheses in the fucntion definition.\n",
    "- An argument is the value that is sent to function when it is called."
   ]
  },
  {
   "cell_type": "code",
   "execution_count": null,
   "id": "6c43be7f-b2e3-4139-a9d5-408d441e1a24",
   "metadata": {},
   "outputs": [],
   "source": []
  }
 ],
 "metadata": {
  "kernelspec": {
   "display_name": "Python 3 (ipykernel)",
   "language": "python",
   "name": "python3"
  },
  "language_info": {
   "codemirror_mode": {
    "name": "ipython",
    "version": 3
   },
   "file_extension": ".py",
   "mimetype": "text/x-python",
   "name": "python",
   "nbconvert_exporter": "python",
   "pygments_lexer": "ipython3",
   "version": "3.12.4"
  }
 },
 "nbformat": 4,
 "nbformat_minor": 5
}
