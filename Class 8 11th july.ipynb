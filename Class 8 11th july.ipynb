{
 "cells": [
  {
   "cell_type": "markdown",
   "id": "6c65a81a-292b-4516-9a37-24bf767af69e",
   "metadata": {},
   "source": [
    "# Class 8th July 11\n",
    "- Check prime number\n",
    "- factorial\n",
    "- Starting of #for loop\n",
    "- how range is defined"
   ]
  },
  {
   "cell_type": "code",
   "execution_count": 21,
   "id": "afe5c6bd-900a-4ace-807a-6bff03dd48bf",
   "metadata": {},
   "outputs": [
    {
     "name": "stdin",
     "output_type": "stream",
     "text": [
      "Enter the number 13\n"
     ]
    },
    {
     "name": "stdout",
     "output_type": "stream",
     "text": [
      "Prime Number\n"
     ]
    }
   ],
   "source": [
    "#check prime number\n",
    "#divisors or factors of a given number\n",
    "\n",
    "n=int(input(\"Enter the number\"))\n",
    "i=1\n",
    "co=0       #co is named to count\n",
    "while i<=n:\n",
    "    if n%i==0:\n",
    "        co=co+1\n",
    "    i=i+1\n",
    "if co==2:\n",
    "    print(\"Prime Number\")\n",
    "else:\n",
    "    print(\"Not prime number\")"
   ]
  },
  {
   "cell_type": "code",
   "execution_count": 27,
   "id": "ae2cac10-3eab-4b63-a326-bd61957c84e2",
   "metadata": {},
   "outputs": [
    {
     "name": "stdin",
     "output_type": "stream",
     "text": [
      "enter the number 6\n"
     ]
    },
    {
     "name": "stdout",
     "output_type": "stream",
     "text": [
      "the factorial is  720\n"
     ]
    }
   ],
   "source": [
    "# Factorial\n",
    "\n",
    "# 6--- 6*5*4*2*1\n",
    "\n",
    "n=int(input(\"enter the number\"))\n",
    "f=1\n",
    "while n>0:\n",
    "    f=f*n\n",
    "    n=n-1\n",
    "print(\"the factorial is \",f)\n",
    "\n",
    "#n=6\n",
    "#f=f*n\n",
    "# f=1*6=6\n",
    "# f=6*5=30\n",
    "# f=30*4=120\n",
    "# f=120*3=360\n",
    "# f=360*2=720\n",
    "# f=720*1=720"
   ]
  },
  {
   "cell_type": "code",
   "execution_count": 37,
   "id": "5b7e43a5-a0c0-45b5-8057-d11433f399d1",
   "metadata": {},
   "outputs": [
    {
     "name": "stdin",
     "output_type": "stream",
     "text": [
      "enter the number -8\n"
     ]
    },
    {
     "name": "stdout",
     "output_type": "stream",
     "text": [
      "factorial of -ve number can't be calculated\n"
     ]
    }
   ],
   "source": [
    "n=int(input(\"enter the number\"))\n",
    "f=1\n",
    "if n<0:\n",
    "    print(\"factorial of -ve number can't be calculated\")\n",
    "else:\n",
    "    while n>0:\n",
    "      f=f*n\n",
    "      n=n-1\n",
    "    print(\"the factorial is \",f)"
   ]
  },
  {
   "cell_type": "code",
   "execution_count": 47,
   "id": "232bf59a-6b03-4d4b-84ab-ad280ad0a073",
   "metadata": {},
   "outputs": [
    {
     "name": "stdin",
     "output_type": "stream",
     "text": [
      "enter the number 5674\n"
     ]
    },
    {
     "name": "stdout",
     "output_type": "stream",
     "text": [
      "the sum is 22\n"
     ]
    }
   ],
   "source": [
    "# sum of digits of a number\n",
    "\n",
    "#5674--- 5+6+7+4\n",
    "\n",
    "n=int(input(\"enter the number\"))\n",
    "s=0\n",
    "while n>0:\n",
    "    rem=n%10\n",
    "    s=s+rem\n",
    "    n=n//10\n",
    "\n",
    "print(\"the sum is\",s)\n",
    "\n",
    "\n",
    "# 5674\n",
    "# rem=5674%10---4\n",
    "# s=0+4\n",
    "# n=5674//10---567      # //=double divide (it is used to get integer part of remainder)\n",
    "\n",
    "# rem=567%10---7\n",
    "# s=4+7=11\n",
    "# n=56//10---56\n",
    "\n",
    "# rem=56%10---6\n",
    "# s=11+6=17\n",
    "# n=5//10---0\n",
    "\n",
    "# rem=56%10---5\n",
    "# s=17+5=22     (EXIT) here we got our answer\n",
    "# n=5//10---0\n"
   ]
  },
  {
   "cell_type": "code",
   "execution_count": 51,
   "id": "80cadcd9-e042-4f42-aef6-31ef2cc9778c",
   "metadata": {},
   "outputs": [
    {
     "name": "stdin",
     "output_type": "stream",
     "text": [
      "enter the number 376\n"
     ]
    },
    {
     "name": "stdout",
     "output_type": "stream",
     "text": [
      "the reverse is 673\n"
     ]
    }
   ],
   "source": [
    "# Reverse of a number\n",
    " #6789----9876\n",
    "\n",
    "n=int(input(\"enter the number\"))\n",
    "rev=0\n",
    "while n>0:\n",
    "    rem=n%10\n",
    "    rev=rev*10+rem\n",
    "    n=n//10\n",
    "\n",
    "print(\"the reverse is\",rev)\n",
    "\n",
    "#Execution\n",
    "# n=376\n",
    "# rem=376%10----6\n",
    "# rev=0*10+6=6\n",
    "# n=376//----37\n",
    "\n",
    "# rem=37%10----7\n",
    "# rev=6*10+7=67\n",
    "# n=37//10----3\n",
    "\n",
    "# rem=3%10----3\n",
    "# rev=67*10+3=673  (EXIT) here we got our answer\n",
    "# n=0"
   ]
  },
  {
   "cell_type": "code",
   "execution_count": 53,
   "id": "b48ae459-0e25-4b46-9893-47484fb3d3b8",
   "metadata": {},
   "outputs": [
    {
     "name": "stdin",
     "output_type": "stream",
     "text": [
      "enter the number 121\n"
     ]
    },
    {
     "name": "stdout",
     "output_type": "stream",
     "text": [
      "Palindrome Number\n"
     ]
    }
   ],
   "source": [
    "# palindrome number\n",
    " #1331----1331\n",
    "\n",
    "n=int(input(\"enter the number\"))\n",
    "n1=n\n",
    "rev=0\n",
    "while n>0:\n",
    "    rem=n%10\n",
    "    rev=rev*10+rem\n",
    "    n=n//10\n",
    "if rev==n1:\n",
    "    print(\"Palindrome Number\")\n",
    "else:\n",
    "    print(\"Not palindrome Number\")"
   ]
  },
  {
   "cell_type": "code",
   "execution_count": 55,
   "id": "9f64c19b-2973-4941-b087-00483013bf3a",
   "metadata": {},
   "outputs": [
    {
     "name": "stdin",
     "output_type": "stream",
     "text": [
      "enter the number 153\n"
     ]
    },
    {
     "name": "stdout",
     "output_type": "stream",
     "text": [
      "Armstrong Number\n"
     ]
    }
   ],
   "source": [
    "#Armstrong number\n",
    "\n",
    "n=int(input(\"enter the number\"))\n",
    "s=0\n",
    "n1=n\n",
    "while n>0:\n",
    "    rem=n%10\n",
    "    s=s+rem**3\n",
    "    n=n//10\n",
    "\n",
    "if s==n1:\n",
    "    print(\"Armstrong Number\")\n",
    "else:\n",
    "    print(\"Not Armstrong Number\")"
   ]
  },
  {
   "cell_type": "code",
   "execution_count": 63,
   "id": "f6e3d77a-662d-41e0-a4c3-212740ef8a52",
   "metadata": {},
   "outputs": [
    {
     "name": "stdin",
     "output_type": "stream",
     "text": [
      "Enter the number 1634\n"
     ]
    },
    {
     "name": "stdout",
     "output_type": "stream",
     "text": [
      "Armstrong Number\n"
     ]
    }
   ],
   "source": [
    "#Armstrong number\n",
    "#(1)^3 + (5)^3 + (3)^3 = 153\n",
    "n=int(input(\"Enter the number\"))\n",
    "s=0\n",
    "n1=n\n",
    "while n>0:\n",
    "    rem=n%10\n",
    "    s=s+rem**4\n",
    "    n=n//10\n",
    "\n",
    "if s==n1:\n",
    "    print(\"Armstrong Number\")\n",
    "else:\n",
    "    print(\"Not Armstrong Number\")"
   ]
  },
  {
   "cell_type": "markdown",
   "id": "fe279052-9b82-4924-bc25-db0d5d3d74b2",
   "metadata": {},
   "source": [
    "# FOR LOOP"
   ]
  },
  {
   "cell_type": "code",
   "execution_count": 73,
   "id": "57fc01c0-b977-407c-90d8-264876b00dd1",
   "metadata": {},
   "outputs": [
    {
     "name": "stdout",
     "output_type": "stream",
     "text": [
      "T\n",
      "h\n",
      "i\n",
      "r\n",
      "u\n",
      "v\n",
      "a\n",
      "n\n",
      "t\n",
      "h\n",
      "a\n",
      "m\n",
      "p\n",
      "u\n",
      "r\n",
      "a\n",
      "m\n"
     ]
    }
   ],
   "source": [
    "#container -------String,List,SET,Tuple,Dictionary\n",
    "#below are examples of different data types\n",
    "for i in \"Thiruvanthampuram\":\n",
    "    print(i)"
   ]
  },
  {
   "cell_type": "code",
   "execution_count": 75,
   "id": "0b8b91e3-967a-48e6-b26f-1f5c81a9f610",
   "metadata": {},
   "outputs": [
    {
     "name": "stdout",
     "output_type": "stream",
     "text": [
      "12\n",
      "23\n",
      "34\n",
      "45\n",
      "56\n",
      "67\n",
      "78\n",
      "89\n"
     ]
    }
   ],
   "source": [
    "for i in [12,23,34,45,56,67,78,89]:\n",
    "    print(i)"
   ]
  },
  {
   "cell_type": "code",
   "execution_count": 79,
   "id": "cdaefb9e-217d-418f-b734-59408a303095",
   "metadata": {},
   "outputs": [
    {
     "name": "stdout",
     "output_type": "stream",
     "text": [
      "12\n",
      "23\n",
      "34\n",
      "45\n",
      "56\n",
      "67\n",
      "778\n"
     ]
    }
   ],
   "source": [
    "for i in (12,23,34,45,56,67,778):\n",
    "    print(i)"
   ]
  },
  {
   "cell_type": "code",
   "execution_count": 81,
   "id": "b99bb266-6a08-4829-920f-41ccfb45b5bc",
   "metadata": {},
   "outputs": [
    {
     "name": "stdout",
     "output_type": "stream",
     "text": [
      "34\n",
      "67\n",
      "677\n",
      "12\n",
      "45\n",
      "23\n",
      "56\n"
     ]
    }
   ],
   "source": [
    "for i in {12,23,34,45,56,67,677}:\n",
    "    print(i)\n",
    "\n",
    "#SET gives random output"
   ]
  },
  {
   "cell_type": "code",
   "execution_count": 83,
   "id": "e8aefd39-61f2-4471-850a-a6ac57eb7054",
   "metadata": {},
   "outputs": [
    {
     "name": "stdout",
     "output_type": "stream",
     "text": [
      "1\n",
      "2\n",
      "3\n",
      "4\n"
     ]
    }
   ],
   "source": [
    "for i in {1:1,2:4,3:9,4:16}:\n",
    "    print(i)"
   ]
  },
  {
   "cell_type": "markdown",
   "id": "3f37a1b3-b8e0-48a6-a340-f920b60b97aa",
   "metadata": {},
   "source": [
    "# NEW Topic"
   ]
  },
  {
   "cell_type": "code",
   "execution_count": null,
   "id": "b73caa60-0177-4b4b-b3ba-00dcc6b9aa09",
   "metadata": {},
   "outputs": [],
   "source": [
    "# #range\n",
    "\n",
    "# range(10)-------- 0 - 9\n",
    "# range(1,10)------ 1 - 9\n",
    "# range(1,100,3)--- 1 4 7 10-----"
   ]
  }
 ],
 "metadata": {
  "kernelspec": {
   "display_name": "Python 3 (ipykernel)",
   "language": "python",
   "name": "python3"
  },
  "language_info": {
   "codemirror_mode": {
    "name": "ipython",
    "version": 3
   },
   "file_extension": ".py",
   "mimetype": "text/x-python",
   "name": "python",
   "nbconvert_exporter": "python",
   "pygments_lexer": "ipython3",
   "version": "3.12.4"
  }
 },
 "nbformat": 4,
 "nbformat_minor": 5
}
