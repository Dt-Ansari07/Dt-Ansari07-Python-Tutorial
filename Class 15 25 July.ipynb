{
 "cells": [
  {
   "cell_type": "markdown",
   "id": "fcb0431f-ed6b-4595-92ff-c32aeae054b0",
   "metadata": {},
   "source": [
    "# Gonna have Fun in Learnig today 25 July Class 15"
   ]
  },
  {
   "cell_type": "code",
   "execution_count": 5,
   "id": "a24c871d-77d6-468d-a8ca-65c0e2500905",
   "metadata": {},
   "outputs": [
    {
     "name": "stdout",
     "output_type": "stream",
     "text": [
      "Happy Monday Everyone \n"
     ]
    }
   ],
   "source": [
    "mystr = ('Happy '\n",
    "        'Monday '\n",
    "        'Everyone ')\n",
    "print(mystr)"
   ]
  },
  {
   "cell_type": "code",
   "execution_count": 11,
   "id": "59cc329a-ea50-4590-ae0b-cf6b1ab9e0d7",
   "metadata": {},
   "outputs": [
    {
     "data": {
      "text/plain": [
       "'Woohoo Woohoo Woohoo Woohoo Woohoo '"
      ]
     },
     "execution_count": 11,
     "metadata": {},
     "output_type": "execute_result"
    }
   ],
   "source": [
    "mystr2 = 'Woohoo '\n",
    "mystr2 = mystr2*5\n",
    "mystr2"
   ]
  },
  {
   "cell_type": "code",
   "execution_count": 13,
   "id": "926e5223-6b74-4265-901b-aafa34ddf4a2",
   "metadata": {},
   "outputs": [
    {
     "data": {
      "text/plain": [
       "35"
      ]
     },
     "execution_count": 13,
     "metadata": {},
     "output_type": "execute_result"
    }
   ],
   "source": [
    "len(mystr2)   #Length of string"
   ]
  },
  {
   "cell_type": "code",
   "execution_count": 23,
   "id": "92cddc13-ccd3-4e60-a26c-04718e39b592",
   "metadata": {},
   "outputs": [
    {
     "name": "stdout",
     "output_type": "stream",
     "text": [
      "Hello Asif\n"
     ]
    }
   ],
   "source": [
    "# String concatenation\n",
    "s1 = \"Hello\"\n",
    "s2 = \"Asif\"\n",
    "s3 = s1 + \" \" + s2\n",
    "print(s3)"
   ]
  },
  {
   "cell_type": "code",
   "execution_count": 27,
   "id": "c61522ee-3b16-4099-8ce8-c1cfa3407050",
   "metadata": {},
   "outputs": [
    {
     "name": "stdout",
     "output_type": "stream",
     "text": [
      "True\n",
      "True\n",
      "False\n"
     ]
    }
   ],
   "source": [
    "# String Membership\n",
    "\n",
    "mystr1 = \"Hello Everyone\"\n",
    "print('Hello' in mystr1) # Check whether substring \"Hello\" is present in string \"mystr1\".\n",
    "print('Everyone' in mystr1) # Check whether substring \"Everyone\" is present in string \"mystr1\".\n",
    "print('Hi' in mystr1) # Check whether substring \"Hi\" is present in string \"mystr1\"."
   ]
  },
  {
   "cell_type": "code",
   "execution_count": 31,
   "id": "693b3b4d-9848-4a98-92e1-1c1c538fbfc0",
   "metadata": {},
   "outputs": [
    {
     "data": {
      "text/plain": [
       "'   Hollo Everyone   '"
      ]
     },
     "execution_count": 31,
     "metadata": {},
     "output_type": "execute_result"
    }
   ],
   "source": [
    "mystr = \"   Hello Everyone   \"\n",
    "mystr.replace(\"He\" , \"Ho\") #Replace substring \"He\" with \"Ho\""
   ]
  },
  {
   "cell_type": "code",
   "execution_count": 1,
   "id": "a87dd3ef-33c0-4e6c-8805-a21c6569c1e1",
   "metadata": {},
   "outputs": [
    {
     "data": {
      "text/plain": [
       "2"
      ]
     },
     "execution_count": 1,
     "metadata": {},
     "output_type": "execute_result"
    }
   ],
   "source": [
    "mystr = \"one two Three one two two three\"\n",
    "mystr.count(\"one\")  # Number of times substring \"one\" occured in string."
   ]
  },
  {
   "cell_type": "code",
   "execution_count": 37,
   "id": "f9926a65-26c3-4566-a67f-addad782142f",
   "metadata": {},
   "outputs": [
    {
     "data": {
      "text/plain": [
       "3"
      ]
     },
     "execution_count": 37,
     "metadata": {},
     "output_type": "execute_result"
    }
   ],
   "source": [
    "mystr.count(\"two\")  # Number of times substring \"one\" occured in string.\n"
   ]
  },
  {
   "cell_type": "code",
   "execution_count": 3,
   "id": "73f92db8-cac6-4a65-9b49-ef988cdc5f64",
   "metadata": {},
   "outputs": [
    {
     "data": {
      "text/plain": [
       "True"
      ]
     },
     "execution_count": 3,
     "metadata": {},
     "output_type": "execute_result"
    }
   ],
   "source": [
    "mystr.startswith(\"one\")  # Return bolean value "
   ]
  },
  {
   "cell_type": "markdown",
   "id": "160fbdcb-ef8c-4ec8-b5a3-3b1cbde650f1",
   "metadata": {},
   "source": [
    "# Combining string and number"
   ]
  },
  {
   "cell_type": "code",
   "execution_count": 45,
   "id": "32172995-a7d6-4214-ab92-8268baa64752",
   "metadata": {},
   "outputs": [
    {
     "name": "stdout",
     "output_type": "stream",
     "text": [
      "Cost of item1 is 45 item2 is 67 item3 is 98\n"
     ]
    }
   ],
   "source": [
    "item1 = 45\n",
    "item2 = 67\n",
    "item3 = 98\n",
    "\n",
    "print(\"Cost of item1 is {} item2 is {} item3 is {}\".format(item1,item2,item3))"
   ]
  },
  {
   "cell_type": "code",
   "execution_count": 49,
   "id": "74d91d7f-effd-4c28-88c3-633930f6fd5e",
   "metadata": {},
   "outputs": [
    {
     "name": "stdout",
     "output_type": "stream",
     "text": [
      "Cost of item3 , item2 and item1 are 98 , 67 and 45\n"
     ]
    }
   ],
   "source": [
    "item1 = 45\n",
    "item2 = 67\n",
    "item3 = 98\n",
    "\n",
    "print(\"Cost of item3 , item2 and item1 are {2} , {1} and {0}\".format(item1,item2,item3))"
   ]
  },
  {
   "cell_type": "code",
   "execution_count": 56,
   "id": "05c51b2f-0f7e-4d09-8a42-e02b1c503a61",
   "metadata": {},
   "outputs": [
    {
     "name": "stdout",
     "output_type": "stream",
     "text": [
      "                                          WELCOME EVERYONE                                          \n"
     ]
    }
   ],
   "source": [
    "str2 = \"WELCOME EVERYONE\"\n",
    "str2 = str2.center(100) \n",
    "print(str2)"
   ]
  },
  {
   "cell_type": "code",
   "execution_count": 58,
   "id": "79a1c865-13b6-4076-b7c6-0e3d58d0023a",
   "metadata": {},
   "outputs": [
    {
     "name": "stdout",
     "output_type": "stream",
     "text": [
      "******************************************WELCOME EVERYONE******************************************\n"
     ]
    }
   ],
   "source": [
    "str2 = \"WELCOME EVERYONE\"\n",
    "str2 = str2.center(100, '*') \n",
    "print(str2)"
   ]
  },
  {
   "cell_type": "code",
   "execution_count": 60,
   "id": "ad023cbd-53ea-4550-8fa6-ccb4a3430942",
   "metadata": {},
   "outputs": [
    {
     "name": "stdout",
     "output_type": "stream",
     "text": [
      "                                         KILER ANS\n"
     ]
    }
   ],
   "source": [
    "str2 = \"KILER ANS\"\n",
    "str2 = str2.rjust(50) \n",
    "print(str2)"
   ]
  },
  {
   "cell_type": "code",
   "execution_count": 70,
   "id": "b3556a28-61ff-41b9-ba4a-79bc10c3cf35",
   "metadata": {},
   "outputs": [
    {
     "name": "stdout",
     "output_type": "stream",
     "text": [
      "$$$$$$$$$$$$$$$$$$$$$$$$$$$$$$$$$$$$$$$$$KILER ANS\n"
     ]
    }
   ],
   "source": [
    "str2 = \"KILER ANS\"\n",
    "str2 = str2.rjust(50, '$') \n",
    "print(str2)"
   ]
  },
  {
   "cell_type": "code",
   "execution_count": 88,
   "id": "5f5d6561-7c1f-45db-8488-3bfe3c383cd8",
   "metadata": {},
   "outputs": [
    {
     "name": "stdout",
     "output_type": "stream",
     "text": [
      "False\n",
      "True\n",
      "True\n",
      "True\n"
     ]
    }
   ],
   "source": [
    "mystr6 = \"123456789\"\n",
    "print(mystr6.isalpha())\n",
    "print(mystr6.isalnum())\n",
    "print(mystr6.isdecimal())\n",
    "print(mystr6.isnumeric())"
   ]
  },
  {
   "cell_type": "code",
   "execution_count": 92,
   "id": "9100a89c-7fb6-4f74-82c1-2e5578423026",
   "metadata": {},
   "outputs": [
    {
     "name": "stdout",
     "output_type": "stream",
     "text": [
      "False\n",
      "True\n",
      "False\n",
      "False\n"
     ]
    }
   ],
   "source": [
    "mystr6 = \"abc12309\"\n",
    "print(mystr6.isalpha())\n",
    "print(mystr6.isalnum())\n",
    "print(mystr6.isdecimal())\n",
    "print(mystr6.isnumeric())"
   ]
  },
  {
   "cell_type": "code",
   "execution_count": 96,
   "id": "fbda87a2-c8d3-47cd-8550-1ef15930152b",
   "metadata": {},
   "outputs": [
    {
     "name": "stdout",
     "output_type": "stream",
     "text": [
      "True\n",
      "False\n"
     ]
    }
   ],
   "source": [
    "mystr7 = 'ABCDEF'\n",
    "print(mystr7.isupper())\n",
    "print(mystr7.islower())"
   ]
  },
  {
   "cell_type": "code",
   "execution_count": 7,
   "id": "867bfa8f-42b4-471c-87bb-7f1796f7a4a1",
   "metadata": {},
   "outputs": [
    {
     "name": "stdout",
     "output_type": "stream",
     "text": [
      "42\n"
     ]
    }
   ],
   "source": [
    "str6 = \"one two three four one two three five six one ten eight ten\" \n",
    "loc = str6.rfind(\"one\") # Last occurence of word 'one' in string \"str6\"\n",
    "print(loc)"
   ]
  },
  {
   "cell_type": "code",
   "execution_count": 112,
   "id": "35484bfc-3e2d-41a0-8c0c-e9f769e68ade",
   "metadata": {},
   "outputs": [
    {
     "name": "stdout",
     "output_type": "stream",
     "text": [
      "56\n"
     ]
    }
   ],
   "source": [
    "loc = str6.rindex(\"ten\") # Last occurence of word 'one' in string \"str6\"\n",
    "print(loc)"
   ]
  },
  {
   "cell_type": "code",
   "execution_count": 108,
   "id": "c64e7d88-dbd9-4aed-8438-ab5070919972",
   "metadata": {},
   "outputs": [
    {
     "data": {
      "text/plain": [
       "'  abc  def ghi'"
      ]
     },
     "execution_count": 108,
     "metadata": {},
     "output_type": "execute_result"
    }
   ],
   "source": [
    "txt  = \"  abc  def ghi  \"\n",
    "txt.rstrip()"
   ]
  },
  {
   "cell_type": "markdown",
   "id": "8738c30a-687b-4109-8417-3507f0ad1018",
   "metadata": {},
   "source": [
    "# TUPLE"
   ]
  },
  {
   "cell_type": "markdown",
   "id": "eab1e8fa-2048-479d-b390-4c2d616c7eb9",
   "metadata": {},
   "source": [
    "sequence data Structure\n",
    "\n",
    "enclosed in ()\n",
    "\n",
    "indexed , ordered\n",
    "\n",
    "\"immutable\" ---- can not be changed once created\n",
    "\n",
    "\n",
    "Qns:- what is the difference between list and tuple\n",
    "\n",
    "Ans:- list is mutable and tuple is immutable\n",
    "\n",
    "immutable ---- can not be changed once created"
   ]
  },
  {
   "cell_type": "code",
   "execution_count": 125,
   "id": "95a1176a-c37f-4d81-b843-f239461c9128",
   "metadata": {},
   "outputs": [
    {
     "name": "stdout",
     "output_type": "stream",
     "text": [
      "(12, 23, 34, 45, 56) ('how', 'are', 'you') ((1, 2), (2, 3))\n"
     ]
    }
   ],
   "source": [
    "t1 = (12,23,34,45,56) # tuple of integers\n",
    "t2 = (\"how\",\"are\",\"you\")\n",
    "t3 = ((1,2),(2,3))\n",
    "\n",
    "print(t1,t2,t3)"
   ]
  },
  {
   "cell_type": "code",
   "execution_count": 127,
   "id": "6522546c-bde9-4ccd-bf63-7a5200db3f86",
   "metadata": {},
   "outputs": [
    {
     "data": {
      "text/plain": [
       "('A', 'n', 'k', 'u', 'r')"
      ]
     },
     "execution_count": 127,
     "metadata": {},
     "output_type": "execute_result"
    }
   ],
   "source": [
    "# tuple constructor\n",
    "# ----------------\n",
    "t1 = tuple(\"Ankur\")\n",
    "t1"
   ]
  },
  {
   "cell_type": "code",
   "execution_count": 139,
   "id": "74d86cfa-7e1a-44db-8391-de9525e0a25a",
   "metadata": {},
   "outputs": [
    {
     "name": "stdout",
     "output_type": "stream",
     "text": [
      "12\n",
      "23\n",
      "34\n",
      "45\n",
      "56\n"
     ]
    }
   ],
   "source": [
    "#Important\n",
    "t2 = 12,23,34,45,56  # tuple packing\n",
    "\n",
    "a,b,c,d,e = t2       # unpacking\n",
    "print(a)\n",
    "print(b)\n",
    "print(c)\n",
    "print(d)\n",
    "print(e)"
   ]
  },
  {
   "cell_type": "code",
   "execution_count": 147,
   "id": "6f831173-8905-4a9b-8f21-d38b477f0e1e",
   "metadata": {},
   "outputs": [
    {
     "name": "stdout",
     "output_type": "stream",
     "text": [
      "<class 'int'>\n",
      "<class 'tuple'>\n"
     ]
    }
   ],
   "source": [
    "t3 = (12) # It is an integer\n",
    "t4 = (12,) # single element tuple rule need to add comma after the element)\n",
    "print(type(t3))\n",
    "print(type(t4))"
   ]
  },
  {
   "cell_type": "code",
   "execution_count": 151,
   "id": "81e2fcbb-62d1-4226-adab-2c21947bcbd6",
   "metadata": {},
   "outputs": [
    {
     "name": "stdout",
     "output_type": "stream",
     "text": [
      "12\n",
      "45\n",
      "56\n",
      "45\n"
     ]
    }
   ],
   "source": [
    "# accesing\n",
    "# -------\n",
    "\n",
    "t1 = (12,23,34,45,56)\n",
    "print(t1[0])\n",
    "print(t1[3])\n",
    "print(t1[-1])\n",
    "print(t1[-2])"
   ]
  },
  {
   "cell_type": "code",
   "execution_count": 153,
   "id": "d9b1dd9a-b8bb-4e41-afc4-0c28166c4403",
   "metadata": {},
   "outputs": [
    {
     "name": "stdout",
     "output_type": "stream",
     "text": [
      "(12, 23, 34, 44, 'how', 'are')\n"
     ]
    }
   ],
   "source": [
    "# Updating\n",
    "# --------\n",
    "\n",
    "t1 = (12,23,34,44)\n",
    "t2 = (\"how\" , \"are\")\n",
    "print(t1+t2)"
   ]
  },
  {
   "cell_type": "code",
   "execution_count": 155,
   "id": "93a60b27-293b-4a30-b335-4b1dfc9af453",
   "metadata": {},
   "outputs": [
    {
     "name": "stdout",
     "output_type": "stream",
     "text": [
      "(12, 23, 34, 45, 56)\n",
      "1\n"
     ]
    }
   ],
   "source": [
    "# index() method\n",
    "\n",
    "t1 = (12,23,34,45,56)\n",
    "print(t1)\n",
    "x=t1.index(23)\n",
    "print(x)"
   ]
  },
  {
   "cell_type": "code",
   "execution_count": 159,
   "id": "4a59fbe2-9566-404e-9642-2dab32185dff",
   "metadata": {},
   "outputs": [
    {
     "name": "stdout",
     "output_type": "stream",
     "text": [
      "(1, 2, 3, 4, 5, 6, 77, 98)\n"
     ]
    }
   ],
   "source": [
    "# adding one element in the tuple\n",
    "\n",
    "t1=(1,2,3,4,5,6,77)\n",
    "ls=list(t1)\n",
    "ls.append(98)\n",
    "t1=tuple(ls)\n",
    "print(t1)"
   ]
  },
  {
   "cell_type": "code",
   "execution_count": 163,
   "id": "00bf1802-7142-4a78-9e13-a9d48ce45955",
   "metadata": {},
   "outputs": [
    {
     "name": "stdout",
     "output_type": "stream",
     "text": [
      "(1, 2, 'hello', 4, 5, 6, 77)\n"
     ]
    }
   ],
   "source": [
    "# update an element in the tuple\n",
    "t1=(1,2,3,4,5,6,77)\n",
    "ls=list(t1)\n",
    "ls[2]='hello'\n",
    "t1=tuple(ls)\n",
    "print(t1)"
   ]
  },
  {
   "cell_type": "code",
   "execution_count": null,
   "id": "1e597770-e4bf-4888-8e19-e740bcd87f54",
   "metadata": {},
   "outputs": [],
   "source": []
  }
 ],
 "metadata": {
  "kernelspec": {
   "display_name": "Python 3 (ipykernel)",
   "language": "python",
   "name": "python3"
  },
  "language_info": {
   "codemirror_mode": {
    "name": "ipython",
    "version": 3
   },
   "file_extension": ".py",
   "mimetype": "text/x-python",
   "name": "python",
   "nbconvert_exporter": "python",
   "pygments_lexer": "ipython3",
   "version": "3.12.4"
  }
 },
 "nbformat": 4,
 "nbformat_minor": 5
}
