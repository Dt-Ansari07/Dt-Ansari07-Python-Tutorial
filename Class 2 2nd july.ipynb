{
 "cells": [
  {
   "cell_type": "markdown",
   "id": "d9a82b7d-cd65-40ca-98ec-ce176ecc00e3",
   "metadata": {},
   "source": [
    "# \"Data Analysis with Python: Journey Begins Here\" - Class 1st July 10\n",
    "- Naming Conventions\n",
    "- Printing msg\n",
    "- Operators"
   ]
  },
  {
   "cell_type": "code",
   "execution_count": 3,
   "id": "b7c18dbe-d8db-4f40-9722-f2613be1c06c",
   "metadata": {},
   "outputs": [
    {
     "data": {
      "text/plain": [
       "10"
      ]
     },
     "execution_count": 3,
     "metadata": {},
     "output_type": "execute_result"
    }
   ],
   "source": [
    "# Assign the value 10 to variable 'a'\n",
    "a = 10\n",
    "# Display the value of 'a'\n",
    "a"
   ]
  },
  {
   "cell_type": "code",
   "execution_count": 5,
   "id": "804e540d-caa9-478a-9c16-a8dbdcdaeea2",
   "metadata": {},
   "outputs": [
    {
     "data": {
      "text/plain": [
       "10"
      ]
     },
     "execution_count": 5,
     "metadata": {},
     "output_type": "execute_result"
    }
   ],
   "source": [
    "a1=10\n",
    "a1"
   ]
  },
  {
   "cell_type": "code",
   "execution_count": 7,
   "id": "f503c02f-825e-4111-a524-f8462ae87c50",
   "metadata": {},
   "outputs": [
    {
     "data": {
      "text/plain": [
       "10"
      ]
     },
     "execution_count": 7,
     "metadata": {},
     "output_type": "execute_result"
    }
   ],
   "source": [
    "_a=10\n",
    "_a"
   ]
  },
  {
   "cell_type": "code",
   "execution_count": 9,
   "id": "feb72954-d82f-4ec5-b9d8-36879ee9b2bb",
   "metadata": {},
   "outputs": [
    {
     "ename": "SyntaxError",
     "evalue": "invalid decimal literal (604871727.py, line 1)",
     "output_type": "error",
     "traceback": [
      "\u001b[1;36m  Cell \u001b[1;32mIn[9], line 1\u001b[1;36m\u001b[0m\n\u001b[1;33m    1b=10\u001b[0m\n\u001b[1;37m    ^\u001b[0m\n\u001b[1;31mSyntaxError\u001b[0m\u001b[1;31m:\u001b[0m invalid decimal literal\n"
     ]
    }
   ],
   "source": [
    "1b=10 # This cell contains a syntax error. Variables cannot start with a digit.\n",
    "1b"
   ]
  },
  {
   "cell_type": "code",
   "execution_count": 11,
   "id": "cdf64af8-0e1b-44d0-b933-3a93f5504ce6",
   "metadata": {},
   "outputs": [
    {
     "ename": "SyntaxError",
     "evalue": "invalid syntax (2469979238.py, line 2)",
     "output_type": "error",
     "traceback": [
      "\u001b[1;36m  Cell \u001b[1;32mIn[11], line 2\u001b[1;36m\u001b[0m\n\u001b[1;33m    a*\u001b[0m\n\u001b[1;37m      ^\u001b[0m\n\u001b[1;31mSyntaxError\u001b[0m\u001b[1;31m:\u001b[0m invalid syntax\n"
     ]
    }
   ],
   "source": [
    "a*=10 # This cell contains a syntax error. '*' is not a valid character for a variable name.\n",
    "a*"
   ]
  },
  {
   "cell_type": "code",
   "execution_count": 13,
   "id": "5748f73f-a6a6-4d63-a880-e0ec65cb1f8e",
   "metadata": {},
   "outputs": [
    {
     "ename": "SyntaxError",
     "evalue": "cannot assign to expression here. Maybe you meant '==' instead of '='? (368997103.py, line 1)",
     "output_type": "error",
     "traceback": [
      "\u001b[1;36m  Cell \u001b[1;32mIn[13], line 1\u001b[1;36m\u001b[0m\n\u001b[1;33m    a-b=10\u001b[0m\n\u001b[1;37m    ^\u001b[0m\n\u001b[1;31mSyntaxError\u001b[0m\u001b[1;31m:\u001b[0m cannot assign to expression here. Maybe you meant '==' instead of '='?\n"
     ]
    }
   ],
   "source": [
    "a-b=10\n",
    "a-b"
   ]
  },
  {
   "cell_type": "code",
   "execution_count": 15,
   "id": "03f4f691-74e3-41c8-afbd-801a93ad5e25",
   "metadata": {},
   "outputs": [
    {
     "ename": "SyntaxError",
     "evalue": "invalid syntax (201336731.py, line 1)",
     "output_type": "error",
     "traceback": [
      "\u001b[1;36m  Cell \u001b[1;32mIn[15], line 1\u001b[1;36m\u001b[0m\n\u001b[1;33m    stu r=\"kkk\"\u001b[0m\n\u001b[1;37m        ^\u001b[0m\n\u001b[1;31mSyntaxError\u001b[0m\u001b[1;31m:\u001b[0m invalid syntax\n"
     ]
    }
   ],
   "source": [
    "stu r=\"kkk\"\n",
    "stu r"
   ]
  },
  {
   "cell_type": "code",
   "execution_count": 17,
   "id": "bb15e35d-5982-4afa-a39c-f9e5a7e5ac98",
   "metadata": {},
   "outputs": [
    {
     "data": {
      "text/plain": [
       "tuple"
      ]
     },
     "execution_count": 17,
     "metadata": {},
     "output_type": "execute_result"
    }
   ],
   "source": [
    "y=12,23\n",
    "type(y)"
   ]
  },
  {
   "cell_type": "code",
   "execution_count": 19,
   "id": "549e6cef-36ce-4208-afd2-4250597269ee",
   "metadata": {},
   "outputs": [
    {
     "data": {
      "text/plain": [
       "int"
      ]
     },
     "execution_count": 19,
     "metadata": {},
     "output_type": "execute_result"
    }
   ],
   "source": [
    "x=10\n",
    "type(x)"
   ]
  },
  {
   "cell_type": "code",
   "execution_count": 21,
   "id": "d3d62319-bf98-42a9-8bbf-fc3a57037490",
   "metadata": {},
   "outputs": [
    {
     "data": {
      "text/plain": [
       "str"
      ]
     },
     "execution_count": 21,
     "metadata": {},
     "output_type": "execute_result"
    }
   ],
   "source": [
    "z=\"hello\"\n",
    "type(z)"
   ]
  },
  {
   "cell_type": "code",
   "execution_count": 23,
   "id": "818e4421-7662-479e-a234-82b83eef0cdd",
   "metadata": {},
   "outputs": [
    {
     "data": {
      "text/plain": [
       "set"
      ]
     },
     "execution_count": 23,
     "metadata": {},
     "output_type": "execute_result"
    }
   ],
   "source": [
    "d={12,23,4}\n",
    "type(d)"
   ]
  },
  {
   "cell_type": "code",
   "execution_count": 37,
   "id": "a7cb33c3-fe83-49fb-b78b-0978963f800e",
   "metadata": {},
   "outputs": [
    {
     "data": {
      "text/plain": [
       "str"
      ]
     },
     "execution_count": 37,
     "metadata": {},
     "output_type": "execute_result"
    }
   ],
   "source": [
    "df=\"Zulfiqar Ansari\"\n",
    "type(df)"
   ]
  },
  {
   "cell_type": "code",
   "execution_count": 39,
   "id": "fb2dc7ba-430f-45d8-bef9-c4bce14313b4",
   "metadata": {},
   "outputs": [
    {
     "name": "stdout",
     "output_type": "stream",
     "text": [
      "hello world\n"
     ]
    }
   ],
   "source": [
    "print(\"hello world\")"
   ]
  },
  {
   "cell_type": "code",
   "execution_count": 41,
   "id": "192640bf-1c5d-4925-8455-89dee81067d9",
   "metadata": {},
   "outputs": [
    {
     "name": "stdout",
     "output_type": "stream",
     "text": [
      "100\n"
     ]
    }
   ],
   "source": [
    "a=100\n",
    "print(a)"
   ]
  },
  {
   "cell_type": "code",
   "execution_count": 43,
   "id": "14788673-9acc-4be5-abc1-2b815eeecd5b",
   "metadata": {},
   "outputs": [
    {
     "name": "stdout",
     "output_type": "stream",
     "text": [
      "value is  988\n"
     ]
    }
   ],
   "source": [
    "x=988\n",
    "print(\"value is \", x)"
   ]
  },
  {
   "cell_type": "code",
   "execution_count": 45,
   "id": "23828042-4a0c-483c-8ebf-2f0a8a124da1",
   "metadata": {},
   "outputs": [],
   "source": [
    "a=56\n",
    "b=13"
   ]
  },
  {
   "cell_type": "code",
   "execution_count": 47,
   "id": "343de96a-e16f-4a62-8e4e-d519f6007365",
   "metadata": {},
   "outputs": [
    {
     "data": {
      "text/plain": [
       "69"
      ]
     },
     "execution_count": 47,
     "metadata": {},
     "output_type": "execute_result"
    }
   ],
   "source": [
    "a+b"
   ]
  },
  {
   "cell_type": "code",
   "execution_count": 49,
   "id": "37ee6451-0776-41bc-95f4-7578accf5338",
   "metadata": {},
   "outputs": [
    {
     "data": {
      "text/plain": [
       "43"
      ]
     },
     "execution_count": 49,
     "metadata": {},
     "output_type": "execute_result"
    }
   ],
   "source": [
    "a-b"
   ]
  },
  {
   "cell_type": "code",
   "execution_count": 51,
   "id": "9a53c371-da06-492a-bd21-b8e63939e060",
   "metadata": {},
   "outputs": [
    {
     "data": {
      "text/plain": [
       "4.3076923076923075"
      ]
     },
     "execution_count": 51,
     "metadata": {},
     "output_type": "execute_result"
    }
   ],
   "source": [
    "a/b"
   ]
  },
  {
   "cell_type": "code",
   "execution_count": 53,
   "id": "8f4de317-ba62-4605-ad7d-1439dc4b9fd3",
   "metadata": {},
   "outputs": [
    {
     "data": {
      "text/plain": [
       "4"
      ]
     },
     "execution_count": 53,
     "metadata": {},
     "output_type": "execute_result"
    }
   ],
   "source": [
    "a//b"
   ]
  },
  {
   "cell_type": "code",
   "execution_count": 55,
   "id": "05acdf86-0d40-4c65-ab54-7f3f62a73bff",
   "metadata": {},
   "outputs": [
    {
     "data": {
      "text/plain": [
       "4"
      ]
     },
     "execution_count": 55,
     "metadata": {},
     "output_type": "execute_result"
    }
   ],
   "source": [
    "a%b"
   ]
  },
  {
   "cell_type": "code",
   "execution_count": 57,
   "id": "79c6fa26-539f-4d61-8cff-8910771dc364",
   "metadata": {},
   "outputs": [],
   "source": [
    "x=45\n",
    "y=3"
   ]
  },
  {
   "cell_type": "code",
   "execution_count": 59,
   "id": "a1ebe7d7-d9d4-4c0c-82a5-d036d552e19a",
   "metadata": {},
   "outputs": [
    {
     "data": {
      "text/plain": [
       "91125"
      ]
     },
     "execution_count": 59,
     "metadata": {},
     "output_type": "execute_result"
    }
   ],
   "source": [
    "x**y"
   ]
  },
  {
   "cell_type": "markdown",
   "id": "f7f543bd-a5f7-4ba3-8cde-93711e2df0f2",
   "metadata": {},
   "source": [
    "# Arithmetic operations"
   ]
  },
  {
   "cell_type": "code",
   "execution_count": 1,
   "id": "60d4f36b-0e7b-4d90-81b0-70566f0589c2",
   "metadata": {},
   "outputs": [
    {
     "name": "stdout",
     "output_type": "stream",
     "text": [
      "Add 103\n",
      "Sub 97\n",
      "Mul 300\n",
      "Div 33.333333333333336\n",
      "Mod 1\n",
      "Floor Div 33\n",
      "Exponent 1000000\n"
     ]
    }
   ],
   "source": [
    "# Assign values to variables 'a' and 'b'\n",
    "a = 100\n",
    "b = 3\n",
    "# Perform and display various arithmetic operations\n",
    "print(\"Add\", a + b)        # Addition\n",
    "print(\"Sub\", a - b)        # Subtraction\n",
    "print(\"Mul\", a * b)        # Multiplication\n",
    "print(\"Div\", a / b)        # Division\n",
    "print(\"Mod\", a % b)        # Modulo\n",
    "print(\"Floor Div\", a // b) # Floor Division (removes decimal part, making it an integer)\n",
    "print(\"Exponent\", a ** b)  # Exponentiation"
   ]
  },
  {
   "cell_type": "code",
   "execution_count": null,
   "id": "83c78ca7-ddad-4f73-927a-dde7357f6bd2",
   "metadata": {},
   "outputs": [],
   "source": []
  }
 ],
 "metadata": {
  "kernelspec": {
   "display_name": "Python 3 (ipykernel)",
   "language": "python",
   "name": "python3"
  },
  "language_info": {
   "codemirror_mode": {
    "name": "ipython",
    "version": 3
   },
   "file_extension": ".py",
   "mimetype": "text/x-python",
   "name": "python",
   "nbconvert_exporter": "python",
   "pygments_lexer": "ipython3",
   "version": "3.12.4"
  }
 },
 "nbformat": 4,
 "nbformat_minor": 5
}
