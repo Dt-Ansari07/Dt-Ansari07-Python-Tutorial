{
 "cells": [
  {
   "cell_type": "markdown",
   "id": "f9b65378-55db-4300-8f5f-7f9dfed008ba",
   "metadata": {},
   "source": [
    "# Gonna have Fun in Learnig today 31 July Class 17"
   ]
  },
  {
   "cell_type": "markdown",
   "id": "322a2bb5-d41a-4ad1-b933-95f327d7301b",
   "metadata": {},
   "source": [
    "# Multi-dimensional Dictionary\n",
    "Let's assume there are three dictionary objects, as below:"
   ]
  },
  {
   "cell_type": "code",
   "execution_count": 20,
   "id": "0a31dab3-97e9-4d9e-9e89-9b1c6b93787c",
   "metadata": {},
   "outputs": [
    {
     "name": "stdout",
     "output_type": "stream",
     "text": [
      "{'name': 'Steve', 'age': 25, 'marks': 60}\n",
      "{'name': 'Anil', 'age': 23, 'marks': 75}\n",
      "{'name': 'Asha', 'age': 20, 'marks': 70}\n"
     ]
    }
   ],
   "source": [
    "d1={\"name\":\"Steve\",\"age\":25,\"marks\":60}\n",
    "d2={\"name\":\"Anil\",\"age\":23,\"marks\":75}\n",
    "d3={\"name\":\"Asha\",\"age\":20,\"marks\":70}\n",
    "\n",
    "print(d1)\n",
    "print(d2)\n",
    "print(d3)"
   ]
  },
  {
   "cell_type": "code",
   "execution_count": 28,
   "id": "b8755672-e96e-4b83-8802-bfe3465f07d3",
   "metadata": {},
   "outputs": [
    {
     "name": "stdout",
     "output_type": "stream",
     "text": [
      "{1: {'name': 'Steve', 'age': 25, 'marks': 60}, 2: {'name': 'Anil', 'age': 23, 'marks': 75}, 3: {'name': 'Asha', 'age': 20, 'marks': 70}}\n",
      "{'name': 'Steve', 'age': 25, 'marks': 60}\n",
      "{'name': 'Anil', 'age': 23, 'marks': 75}\n",
      "{'name': 'Asha', 'age': 20, 'marks': 70}\n",
      "25\n"
     ]
    }
   ],
   "source": [
    "# Example: Multi-dimensional Dictionary\n",
    "\n",
    "students={1:d1, 2:d2, 3:d3}\n",
    "\n",
    "print(students) \n",
    "\n",
    "print(students[1])\n",
    "\n",
    "print(students[2])\n",
    "\n",
    "print(students[3])\n",
    "\n",
    "print(students[1][\"age\"])"
   ]
  },
  {
   "cell_type": "markdown",
   "id": "2e248f3e-7077-40b3-9135-10dc123dafda",
   "metadata": {},
   "source": [
    "# Python Dictionary clear()\n",
    "The dict.clear() method removes all the key-value pairs from the dictionary.\n",
    "\n",
    "Syntax:\n",
    "\n",
    "dict.clear()"
   ]
  },
  {
   "cell_type": "code",
   "execution_count": 48,
   "id": "f4ae96e6-b443-4a82-8ca3-8ac184658ade",
   "metadata": {},
   "outputs": [
    {
     "name": "stdout",
     "output_type": "stream",
     "text": [
      "Dictionary:  {'I': 1, 'II': 2, 'III': 3, 'IV': 4, 'V': 5}\n",
      "Dictionary:  {}\n"
     ]
    }
   ],
   "source": [
    "romanNums = {'I':1, 'II':2, 'III':3, 'IV':4, 'V':5}\n",
    "print(\"Dictionary: \", romanNums)\n",
    "\n",
    "romanNums.clear()\n",
    "print(\"Dictionary: \", romanNums)"
   ]
  },
  {
   "cell_type": "markdown",
   "id": "cd997b3c-7277-46bb-aa04-1c3176da0808",
   "metadata": {},
   "source": [
    "# Python Dictionary copy()\n",
    "\n",
    "The dict.copy() method returns a shallow copy of the dictionary.\n",
    "\n",
    "The dictionary can also be copied using the = operator, which points to the same object as the original. So if any change is made in the copied dictionary will also reflect in the original dictionary.\n",
    " \n",
    "\n",
    "Syntax:\n",
    "\n",
    "dict.copy()"
   ]
  },
  {
   "cell_type": "code",
   "execution_count": 68,
   "id": "fdaf405e-c7d3-42ed-8595-37f8cfca9120",
   "metadata": {},
   "outputs": [
    {
     "name": "stdout",
     "output_type": "stream",
     "text": [
      "Condition If dict.copy is Not USED\n",
      "{'A': 'Adobe', 'B': 'Botson', 'C': 'Chrome', 'D': 'Drone'}\n",
      "{'A': 'Adobe', 'B': 'Botson', 'C': 'Chrome', 'D': 'Drone'}\n",
      "{}\n",
      "{}\n"
     ]
    }
   ],
   "source": [
    "print(\"Condition If dict.copy is Not USED\")\n",
    "x = {\"A\":\"Adobe\",\"B\":\"Botson\",\"C\":\"Chrome\",\"D\":\"Drone\"}\n",
    "y = x\n",
    "print(x)\n",
    "print(y)\n",
    "y.clear()\n",
    "print(x)\n",
    "print(y)"
   ]
  },
  {
   "cell_type": "code",
   "execution_count": 66,
   "id": "b9ae36c9-796e-4785-a0b8-23b561d66304",
   "metadata": {},
   "outputs": [
    {
     "name": "stdout",
     "output_type": "stream",
     "text": [
      "Condition If dict.copy is  USED\n",
      "{'A': 'Adobe', 'B': 'Botson', 'C': 'Chrome', 'D': 'Drone'}\n",
      "{'A': 'Adobe', 'B': 'Botson', 'C': 'Chrome', 'D': 'Drone'}\n",
      "{'A': 'Adobe', 'B': 'Botson', 'C': 'Chrome', 'D': 'Drone'}\n",
      "{}\n"
     ]
    }
   ],
   "source": [
    "print(\"Condition If dict.copy is  USED\")\n",
    "x = {\"A\":\"Adobe\",\"B\":\"Botson\",\"C\":\"Chrome\",\"D\":\"Drone\"}\n",
    "y = x.copy()\n",
    "print(x)\n",
    "print(y)\n",
    "y.clear()\n",
    "print(x)\n",
    "print(y)"
   ]
  },
  {
   "cell_type": "markdown",
   "id": "59cbca2e-ffc3-405c-ade8-ab165eef0046",
   "metadata": {},
   "source": [
    "# Python Dictionary fromkeys()\r\n",
    "\r\n",
    "The dict.fromkeys() method creates a new dictionary from the given iterable (string, list, set, tuple) as keys and with the specified value.\r\n",
    "\r\n",
    " \r\n",
    "\r\n",
    "Syntax:\r\n",
    "\r\n",
    "dictionary.fromkeys(sequence, value)"
   ]
  },
  {
   "cell_type": "code",
   "execution_count": 71,
   "id": "f51b3c0b-e5f2-4e57-ba85-cdde2bafef2c",
   "metadata": {},
   "outputs": [
    {
     "name": "stdout",
     "output_type": "stream",
     "text": [
      "{'Mumbai': 'city', 'Bangalore': 'city', 'New York': 'city', 'Chicago': 'city'}\n"
     ]
    }
   ],
   "source": [
    "keys = {'Mumbai','Bangalore','Chicago','New York'}\n",
    "value = 'city'\n",
    "dictionary = dict.fromkeys(keys, value)\n",
    "print(dictionary)"
   ]
  },
  {
   "cell_type": "code",
   "execution_count": 7,
   "id": "682c9164-2b5c-45d0-8767-0e87f36220ff",
   "metadata": {},
   "outputs": [
    {
     "name": "stdout",
     "output_type": "stream",
     "text": [
      "{'Mumbai': None, 'New York': None, 'Bangalore': None, 'Chicago': None}\n",
      "#Note If we dont pass value then python will show 'None' as default\n"
     ]
    }
   ],
   "source": [
    "keys = {'Mumbai','Bangalore','Chicago','New York'}\n",
    "dictionary = dict.fromkeys(keys)\n",
    "print(dictionary)\n",
    "\n",
    "print(\"#Note If we dont pass value then python will show 'None' as default\")"
   ]
  },
  {
   "cell_type": "markdown",
   "id": "36b9513c-b390-42ed-8989-6967ac0d124e",
   "metadata": {},
   "source": [
    "# Python Dictionary items()\r\n",
    "\r\n",
    "The dict.items() returns a dictionary view object that provides a dynamic view of dictionary elements as a list of key-value pairs. This view object changes when the dictionary changes.\r\n",
    "\r\n",
    " \r\n",
    "\r\n",
    "Syntax:\r\n",
    "\r\n",
    "dict.items()"
   ]
  },
  {
   "cell_type": "code",
   "execution_count": 88,
   "id": "b2708ba2-d240-4d2f-af29-ef36cf49d769",
   "metadata": {},
   "outputs": [
    {
     "name": "stdout",
     "output_type": "stream",
     "text": [
      "dict_items([('I', 1), ('II', 2), ('III', 3), ('IV', 4), ('V', 5)])\n"
     ]
    }
   ],
   "source": [
    "x = {'I':1, 'II':2, 'III':3, 'IV':4, 'V':5}\n",
    "dictview = x.items()\n",
    "print(dictview)"
   ]
  },
  {
   "cell_type": "markdown",
   "id": "55fea588-008f-454f-8ef4-fc6b6df19915",
   "metadata": {},
   "source": [
    "# Python Dictionary keys()\r\n",
    "\r\n",
    "The dict.keys() method returns a dictionary view object that contains the list of keys of the dictionary\n",
    "\r\n",
    " \r\n",
    "\r\n",
    "Syntax:\r\n",
    "\r\n",
    "dict.keys()"
   ]
  },
  {
   "cell_type": "markdown",
   "id": "5be315b7-bc24-4531-b6b8-647fba2e73b3",
   "metadata": {},
   "source": [
    "#value means row\n",
    "#key means column"
   ]
  },
  {
   "cell_type": "code",
   "execution_count": 94,
   "id": "5c239c3f-e325-4628-861a-9ea6e9147645",
   "metadata": {},
   "outputs": [
    {
     "name": "stdout",
     "output_type": "stream",
     "text": [
      "dict_keys(['I', 'II', 'III', 'IV', 'V'])\n"
     ]
    }
   ],
   "source": [
    "romanNums = {'I':1, 'II':2, 'III':3, 'IV':4, 'V':5}\n",
    "keys = romanNums.keys()\n",
    "print(keys)"
   ]
  },
  {
   "cell_type": "markdown",
   "id": "3a1ba10d-653b-4cfd-9a5f-ec84d43b724b",
   "metadata": {},
   "source": [
    "# Python Dictionary pop()\r\n",
    "\r\n",
    "The dict.pop() method removes the key and returns its value. If a key does not exist in the dictionary, then returns the default value if specified, else throws a KeyError.\r\n",
    "\r\n",
    " \r\n",
    "\r\n",
    "Syntax:\r\n",
    "\r\n",
    "dict.pop(key, \n",
    "\n",
    "#examples in class 16 notebookdefault)"
   ]
  },
  {
   "cell_type": "markdown",
   "id": "211772e3-388b-4e90-aeb8-a225dccb6205",
   "metadata": {},
   "source": [
    "# Python Dictionary update() Method\n",
    "\n",
    "The dict.update() method updates the dictionary with the key-value pairs from another dictionary or another iterable such as tuple having key-value pairs.\n",
    "\n",
    " \n",
    "Syntax:\n",
    "\n",
    "dict.update(iterable)"
   ]
  },
  {
   "cell_type": "code",
   "execution_count": 109,
   "id": "305ebd95-d51d-490c-a18c-aff83d751ab3",
   "metadata": {},
   "outputs": [
    {
     "name": "stdout",
     "output_type": "stream",
     "text": [
      "Dictionary:  {'I': 1, 'III': 3, 'V': 5}\n",
      "Updated Dictionary:  {'I': 1, 'III': 3, 'V': 5, 'II': 2, 'IV': 4}\n"
     ]
    }
   ],
   "source": [
    "x = {'I':1,'III':3,'V':5}\n",
    "print(\"Dictionary: \", x)\n",
    "\n",
    "y = {'II':2,'IV':4}\n",
    "x.update(y)               # We are updating y in x\n",
    "print(\"Updated Dictionary: \", x)"
   ]
  },
  {
   "cell_type": "markdown",
   "id": "9e4d8d7d-e803-470f-8c30-5b45e33b2d09",
   "metadata": {},
   "source": [
    "# Python Dictionary values()\n",
    "\n",
    "The dict.values() method returns the dictionary view object that provides a dynamic view of all the values in the dictionary. This view object changes when the dictionary changes.\n",
    " \n",
    "\n",
    "Syntax:\n",
    "\n",
    "dict.values()"
   ]
  },
  {
   "cell_type": "code",
   "execution_count": 116,
   "id": "64a9bf2c-04f2-4800-ac0e-88be13779a26",
   "metadata": {},
   "outputs": [
    {
     "name": "stdout",
     "output_type": "stream",
     "text": [
      "dict_values([1, 2, 3, 4, 5])\n"
     ]
    }
   ],
   "source": [
    "romanNums = {'I':1, 'II':2, 'III':3, 'IV':4, 'V':5}\n",
    "values = romanNums.values()\n",
    "print(values)"
   ]
  },
  {
   "cell_type": "code",
   "execution_count": 122,
   "id": "ec40670e-030b-4102-8f42-a8ab1533c2dd",
   "metadata": {},
   "outputs": [
    {
     "name": "stdout",
     "output_type": "stream",
     "text": [
      "{'Name': 'Asif', 'ID': 1234, 'DOB': 1991, 'Address': 'Pune'}\n"
     ]
    }
   ],
   "source": [
    "mydict1 = {'Name':'Asif', 'ID':1234, 'DOB': 1991, 'Address':'Pune'}\n",
    "print(mydict1)"
   ]
  },
  {
   "cell_type": "code",
   "execution_count": 124,
   "id": "983bafdf-3b67-4625-ad83-1c037111189d",
   "metadata": {},
   "outputs": [
    {
     "data": {
      "text/plain": [
       "{'Name': 'Asif', 'ID': 1234, 'DOB': 1992, 'Address': 'Delhi'}"
      ]
     },
     "execution_count": 124,
     "metadata": {},
     "output_type": "execute_result"
    }
   ],
   "source": [
    "mydict1['DOB'] = 1992 # Changing Dicytionary Items\n",
    "mydict1['Address'] = 'Delhi'\n",
    "mydict1"
   ]
  },
  {
   "cell_type": "code",
   "execution_count": 126,
   "id": "1d14e24c-6408-4372-bfbf-f91f2a0c9e8a",
   "metadata": {},
   "outputs": [
    {
     "data": {
      "text/plain": [
       "{'Name': 'Asif', 'ID': 1234, 'DOB': 1995, 'Address': 'Delhi'}"
      ]
     },
     "execution_count": 126,
     "metadata": {},
     "output_type": "execute_result"
    }
   ],
   "source": [
    "dict1 = {'DOB': 1995}\n",
    "mydict1.update(dict1)\n",
    "mydict1"
   ]
  },
  {
   "cell_type": "code",
   "execution_count": 128,
   "id": "d608478d-0743-439c-90c5-2f11d45637c4",
   "metadata": {},
   "outputs": [
    {
     "data": {
      "text/plain": [
       "{'Name': 'Asif', 'ID': 1234, 'DOB': 1995, 'Address': 'Delhi', 'JOB': 'Analyst'}"
      ]
     },
     "execution_count": 128,
     "metadata": {},
     "output_type": "execute_result"
    }
   ],
   "source": [
    "mydict1['JOB'] = 'Analyst'   # Adding items in dictionary\n",
    "mydict1"
   ]
  },
  {
   "cell_type": "code",
   "execution_count": 130,
   "id": "94d9b757-082c-4311-a9f2-d69f8dbc99a6",
   "metadata": {},
   "outputs": [
    {
     "data": {
      "text/plain": [
       "{'Name': 'Asif', 'ID': 1234, 'DOB': 1995, 'Address': 'Delhi', 'JOB': 'Analyst'}"
      ]
     },
     "execution_count": 130,
     "metadata": {},
     "output_type": "execute_result"
    }
   ],
   "source": [
    "mydict1 = {'Name': 'Asif', 'ID': 1234, 'DOB': 1995, 'Address': 'Delhi', 'JOB': 'Analyst'}\n",
    "mydict1"
   ]
  },
  {
   "cell_type": "code",
   "execution_count": 132,
   "id": "351c7358-02da-4f7a-89bb-a8b7301dd3e0",
   "metadata": {},
   "outputs": [
    {
     "data": {
      "text/plain": [
       "True"
      ]
     },
     "execution_count": 132,
     "metadata": {},
     "output_type": "execute_result"
    }
   ],
   "source": [
    "'Name' in mydict1   # Test if a key is in a dictionary or not."
   ]
  },
  {
   "cell_type": "code",
   "execution_count": 138,
   "id": "b4ced055-f14c-4b02-86e5-efc96c08edf5",
   "metadata": {},
   "outputs": [
    {
     "data": {
      "text/plain": [
       "False"
      ]
     },
     "execution_count": 138,
     "metadata": {},
     "output_type": "execute_result"
    }
   ],
   "source": [
    "'Asif' in mydict1  # Memership test can be only done for keys\n",
    "                   # 'Asif' is a value"
   ]
  },
  {
   "cell_type": "code",
   "execution_count": 136,
   "id": "5ce2a239-1a8d-4138-868a-dfcf9b0107d0",
   "metadata": {},
   "outputs": [
    {
     "data": {
      "text/plain": [
       "True"
      ]
     },
     "execution_count": 136,
     "metadata": {},
     "output_type": "execute_result"
    }
   ],
   "source": [
    "'ID' in mydict1"
   ]
  },
  {
   "cell_type": "markdown",
   "id": "b69ba0ba-f489-4d99-b569-dceda9699e29",
   "metadata": {},
   "source": [
    "# All / Any \n",
    "\n",
    "The all() method returns: \n",
    "\n",
    "True - If all all keys of the dictionary are true \n",
    "\n",
    "False - If any key of the dictionary is false \n",
    "\n",
    "\n",
    "The any() function returns:\n",
    "\n",
    "True if any key of the dictionary is True. \n",
    "\n",
    "If not, any() returns False\r",
    "\r\n",
    "\r\n",
    "\r\n"
   ]
  },
  {
   "cell_type": "code",
   "execution_count": 145,
   "id": "0e72e53e-7a8f-4671-8545-3f8190e3da17",
   "metadata": {},
   "outputs": [
    {
     "data": {
      "text/plain": [
       "{'Name': 'Asif', 'ID': 1234, 'DOB': 1995, 'Address': 'Delhi', 'JOB': 'Analyst'}"
      ]
     },
     "execution_count": 145,
     "metadata": {},
     "output_type": "execute_result"
    }
   ],
   "source": [
    "mydict1 = {'Name': 'Asif', 'ID': 1234, 'DOB': 1995, 'Address': 'Delhi', 'JOB': 'Analyst'}\n",
    "mydict1"
   ]
  },
  {
   "cell_type": "code",
   "execution_count": 151,
   "id": "663b9186-472e-4472-a3d2-ae6c66814229",
   "metadata": {},
   "outputs": [
    {
     "data": {
      "text/plain": [
       "True"
      ]
     },
     "execution_count": 151,
     "metadata": {},
     "output_type": "execute_result"
    }
   ],
   "source": [
    "all(mydict1) # Will return false as one value is false (Value 0)"
   ]
  },
  {
   "cell_type": "code",
   "execution_count": 155,
   "id": "5a074c9f-9246-42d4-a75b-f1673880c407",
   "metadata": {},
   "outputs": [
    {
     "data": {
      "text/plain": [
       "True"
      ]
     },
     "execution_count": 155,
     "metadata": {},
     "output_type": "execute_result"
    }
   ],
   "source": [
    "any(mydict1) # Will return true as we have items in the dictionary with True value"
   ]
  },
  {
   "cell_type": "code",
   "execution_count": 163,
   "id": "225778bb-9631-4f2a-930d-63ad056454b8",
   "metadata": {},
   "outputs": [
    {
     "data": {
      "text/plain": [
       "{'Name': 'Asif',\n",
       " 'ID': 1234,\n",
       " 'DOB': 1995,\n",
       " 'Address': 'Delhi',\n",
       " 'JOB': 'Analyst',\n",
       " 0: 'test1'}"
      ]
     },
     "execution_count": 163,
     "metadata": {},
     "output_type": "execute_result"
    }
   ],
   "source": [
    "mydict1[0] = 'test1'\n",
    "mydict1"
   ]
  },
  {
   "cell_type": "code",
   "execution_count": 159,
   "id": "ab920003-6369-4859-8899-7bf45cbe6619",
   "metadata": {},
   "outputs": [
    {
     "data": {
      "text/plain": [
       "False"
      ]
     },
     "execution_count": 159,
     "metadata": {},
     "output_type": "execute_result"
    }
   ],
   "source": [
    "all(mydict1)  # Returns false as one value is false"
   ]
  },
  {
   "cell_type": "code",
   "execution_count": 161,
   "id": "867605bc-33bd-41c4-b9df-e4a57f5e62ea",
   "metadata": {},
   "outputs": [
    {
     "data": {
      "text/plain": [
       "True"
      ]
     },
     "execution_count": 161,
     "metadata": {},
     "output_type": "execute_result"
    }
   ],
   "source": [
    "any(mydict1)"
   ]
  },
  {
   "cell_type": "code",
   "execution_count": null,
   "id": "cd37a11e-925f-4b35-8b3b-2566a6f239a7",
   "metadata": {},
   "outputs": [],
   "source": []
  }
 ],
 "metadata": {
  "kernelspec": {
   "display_name": "Python 3 (ipykernel)",
   "language": "python",
   "name": "python3"
  },
  "language_info": {
   "codemirror_mode": {
    "name": "ipython",
    "version": 3
   },
   "file_extension": ".py",
   "mimetype": "text/x-python",
   "name": "python",
   "nbconvert_exporter": "python",
   "pygments_lexer": "ipython3",
   "version": "3.12.4"
  }
 },
 "nbformat": 4,
 "nbformat_minor": 5
}
