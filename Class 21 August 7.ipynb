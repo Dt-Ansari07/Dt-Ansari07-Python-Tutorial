{
 "cells": [
  {
   "cell_type": "markdown",
   "id": "4212a8c7-ffe9-4811-860e-c57fbf5b3bb2",
   "metadata": {},
   "source": [
    "# Class 21th August 7 - Functions \n"
   ]
  },
  {
   "cell_type": "markdown",
   "id": "6c92d3c4-5852-439a-a4eb-cecc32452a11",
   "metadata": {},
   "source": [
    "# Enumerate"
   ]
  },
  {
   "cell_type": "raw",
   "id": "8220ccc7-f16b-4cb0-88e8-974b574156f9",
   "metadata": {},
   "source": [
    "Syntax:\n",
    "\n",
    "enumerate(iterable, start=0)\n",
    "\n",
    "Parameters:\n",
    "Iterable: any obejct that supports iteration\n",
    "Start: the index value from which the counter is to be started, by default it is 0"
   ]
  },
  {
   "cell_type": "code",
   "execution_count": 3,
   "id": "8d6f1a58-a5d5-43e5-9e7c-f7bf7cda4976",
   "metadata": {},
   "outputs": [
    {
     "data": {
      "text/plain": [
       "[(0, 'P'), (1, 'Y'), (2, 'T'), (3, 'H'), (4, 'O'), (5, 'N')]"
      ]
     },
     "execution_count": 3,
     "metadata": {},
     "output_type": "execute_result"
    }
   ],
   "source": [
    "#L1 = [\"DL\",\"ML\",\"NLP\"]\n",
    "s1 = \"PYTHON\"\n",
    "list(enumerate(s1))"
   ]
  },
  {
   "cell_type": "code",
   "execution_count": 5,
   "id": "9ab28af6-4c2c-4143-950d-6d763baa0617",
   "metadata": {},
   "outputs": [
    {
     "data": {
      "text/plain": [
       "[(5, 'P'), (6, 'Y'), (7, 'T'), (8, 'H'), (9, 'O'), (10, 'N')]"
      ]
     },
     "execution_count": 5,
     "metadata": {},
     "output_type": "execute_result"
    }
   ],
   "source": [
    "s1 = \"PYTHON\"\n",
    "list(enumerate(s1,5))"
   ]
  },
  {
   "cell_type": "code",
   "execution_count": 9,
   "id": "fb932e35-91f2-49a6-9fca-ad0b9107d48c",
   "metadata": {},
   "outputs": [
    {
     "data": {
      "text/plain": [
       "[(5, 'DL'), (6, 'ML'), (7, 'NLP')]"
      ]
     },
     "execution_count": 9,
     "metadata": {},
     "output_type": "execute_result"
    }
   ],
   "source": [
    "l1 = [\"DL\",\"ML\",\"NLP\"]\n",
    "ls = list(enumerate(l1,5))\n",
    "ls"
   ]
  },
  {
   "cell_type": "code",
   "execution_count": 11,
   "id": "70c05cea-2b1b-47e9-a839-513994f76be7",
   "metadata": {},
   "outputs": [
    {
     "data": {
      "text/plain": [
       "[(-1, 'DL'), (0, 'ML'), (1, 'NLP')]"
      ]
     },
     "execution_count": 11,
     "metadata": {},
     "output_type": "execute_result"
    }
   ],
   "source": [
    "l1 = [\"DL\",\"ML\",\"NLP\"]\n",
    "ls = list(enumerate(l1,-1))\n",
    "ls"
   ]
  },
  {
   "cell_type": "code",
   "execution_count": 13,
   "id": "6badaeb0-4a9d-4a2d-9b66-ea38a649ae2b",
   "metadata": {},
   "outputs": [
    {
     "name": "stdout",
     "output_type": "stream",
     "text": [
      "DL 0\n",
      "ML 1\n"
     ]
    }
   ],
   "source": [
    "l1 = [\"DL\",\"ML\",\"NLP\"]\n",
    "\n",
    "for i,j in enumerate(l1):\n",
    "    if i<2:\n",
    "        print(j,i)"
   ]
  },
  {
   "cell_type": "markdown",
   "id": "e37c17dd-4600-4c9d-848b-17a548cc3031",
   "metadata": {},
   "source": [
    "# ZIP  Functions"
   ]
  },
  {
   "cell_type": "raw",
   "id": "2cf672ff-8630-4f59-9264-e61ecc923a9f",
   "metadata": {},
   "source": [
    "zip() function returns a zip object, which is an iterator of tuples where the first item in each passed iterator is paired together, and then the second item in each passed iterator are paired together etc.\n",
    "\n",
    "If the passed iterators have different lengths, the iterator with the least items decides the length of the new iterator.\n",
    "\n",
    "SYNTAX:- zip(iterator1, iterator2, iterator3 ...)"
   ]
  },
  {
   "cell_type": "code",
   "execution_count": 18,
   "id": "653cbeeb-f250-41d3-a42f-97a3c4b2214c",
   "metadata": {},
   "outputs": [],
   "source": [
    "a = [\"John\",\"Peter\",\"Nishant\"]\n",
    "b = [\"Jenny\",\"AShwin\"]"
   ]
  },
  {
   "cell_type": "code",
   "execution_count": 20,
   "id": "71089650-b5c6-4be0-b85c-ee484048a3b4",
   "metadata": {},
   "outputs": [
    {
     "data": {
      "text/plain": [
       "[('John', 'Jenny'), ('Peter', 'AShwin')]"
      ]
     },
     "execution_count": 20,
     "metadata": {},
     "output_type": "execute_result"
    }
   ],
   "source": [
    "list(zip(a,b))"
   ]
  },
  {
   "cell_type": "code",
   "execution_count": 22,
   "id": "13521bc5-7d4b-4703-9327-b9bd79383792",
   "metadata": {},
   "outputs": [],
   "source": [
    "a = \"ANSARI\"\n",
    "b = \"ZULFIQAR\""
   ]
  },
  {
   "cell_type": "code",
   "execution_count": 24,
   "id": "2ce55289-3bba-42c4-a686-b0e2407c4087",
   "metadata": {},
   "outputs": [
    {
     "data": {
      "text/plain": [
       "[('A', 'Z'), ('N', 'U'), ('S', 'L'), ('A', 'F'), ('R', 'I'), ('I', 'Q')]"
      ]
     },
     "execution_count": 24,
     "metadata": {},
     "output_type": "execute_result"
    }
   ],
   "source": [
    "list(zip(a,b))"
   ]
  },
  {
   "cell_type": "code",
   "execution_count": 26,
   "id": "76d843bc-cfd6-4536-87e7-d63e36c84ef6",
   "metadata": {},
   "outputs": [
    {
     "name": "stdout",
     "output_type": "stream",
     "text": [
      "[(1, 'one'), (2, 'two'), (3, 'three'), (3, 'three')]\n",
      "{(2, 'two'), (1, 'one'), (3, 'three')}\n"
     ]
    }
   ],
   "source": [
    "number_list = [1,2,3,3]\n",
    "str_list = ['one', 'two', 'three', 'three']\n",
    "\n",
    "result = list(zip(number_list,str_list))\n",
    "print(result)\n",
    "\n",
    "# Converting itertor to set\n",
    "result_set = set(result)\n",
    "print(result_set)"
   ]
  },
  {
   "cell_type": "code",
   "execution_count": 32,
   "id": "f0af43ea-5baa-4100-9bc8-fb44f26ac1c4",
   "metadata": {},
   "outputs": [
    {
     "name": "stdout",
     "output_type": "stream",
     "text": [
      "[(1, 'ONE'), (2, 'TWO'), (3, 'THREE')]\n",
      "[(1, 'one', 'ONE'), (2, 'two', 'TWO')]\n"
     ]
    }
   ],
   "source": [
    "numbersList = [1,2,3]\n",
    "str_list = [\"one\",\"two\"]\n",
    "numbers_tuple = ['ONE','TWO', 'THREE', 'FOUR']\n",
    "\n",
    "result = zip(numbersList, numbers_tuple)\n",
    "print(list(result))\n",
    "\n",
    "result1 = zip(numbersList, str_list, numbers_tuple)\n",
    "print(list(result1))"
   ]
  },
  {
   "cell_type": "markdown",
   "id": "3283a3b2-46c6-4518-9e80-b61351338523",
   "metadata": {},
   "source": [
    "# Lambda Functions"
   ]
  },
  {
   "cell_type": "code",
   "execution_count": 39,
   "id": "180448e3-7d76-49aa-bb0a-42da040d154f",
   "metadata": {},
   "outputs": [],
   "source": [
    "def kevin(a):\n",
    "    return(a+10)"
   ]
  },
  {
   "cell_type": "code",
   "execution_count": 41,
   "id": "92c5975e-b1cd-4141-81dc-c3a0d0c734f7",
   "metadata": {},
   "outputs": [
    {
     "data": {
      "text/plain": [
       "20"
      ]
     },
     "execution_count": 41,
     "metadata": {},
     "output_type": "execute_result"
    }
   ],
   "source": [
    "kevin(10)"
   ]
  },
  {
   "cell_type": "code",
   "execution_count": 43,
   "id": "338c5ad9-f252-4f19-b72e-4eb44fbf359e",
   "metadata": {},
   "outputs": [
    {
     "data": {
      "text/plain": [
       "1010"
      ]
     },
     "execution_count": 43,
     "metadata": {},
     "output_type": "execute_result"
    }
   ],
   "source": [
    "x = lambda a : a+10   # Lambda avr : expression(annonymous)\n",
    "\n",
    "x(1000)"
   ]
  },
  {
   "cell_type": "code",
   "execution_count": 45,
   "id": "093389cd-6837-474a-8b55-988822aa69ad",
   "metadata": {},
   "outputs": [
    {
     "data": {
      "text/plain": [
       "60"
      ]
     },
     "execution_count": 45,
     "metadata": {},
     "output_type": "execute_result"
    }
   ],
   "source": [
    "z = lambda a, b, c : a + b + c\n",
    "\n",
    "z(10,20,30)"
   ]
  },
  {
   "cell_type": "code",
   "execution_count": 47,
   "id": "98b2268b-5a1a-4295-b8e4-bc8c5dddf167",
   "metadata": {},
   "outputs": [
    {
     "data": {
      "text/plain": [
       "12"
      ]
     },
     "execution_count": 47,
     "metadata": {},
     "output_type": "execute_result"
    }
   ],
   "source": [
    "a =lambda x: x+2\n",
    "\n",
    "a(10)"
   ]
  },
  {
   "cell_type": "code",
   "execution_count": 49,
   "id": "c0b2faa7-7427-46d6-a0c7-222d6474814f",
   "metadata": {},
   "outputs": [],
   "source": [
    "hassan = lambda x:x+2"
   ]
  },
  {
   "cell_type": "code",
   "execution_count": 51,
   "id": "40fd6650-83fc-4900-bc45-1ae02ac14463",
   "metadata": {},
   "outputs": [
    {
     "data": {
      "text/plain": [
       "102"
      ]
     },
     "execution_count": 51,
     "metadata": {},
     "output_type": "execute_result"
    }
   ],
   "source": [
    "hassan(100)"
   ]
  },
  {
   "cell_type": "code",
   "execution_count": 53,
   "id": "53bfe4c2-2c4e-4739-b272-2b95717b4245",
   "metadata": {},
   "outputs": [
    {
     "data": {
      "text/plain": [
       "386953"
      ]
     },
     "execution_count": 53,
     "metadata": {},
     "output_type": "execute_result"
    }
   ],
   "source": [
    "#PEMDAS Parenthis, Exponent, Multiplication, Division, Addition, Substraction\n",
    "ismail = lambda a, b, c : a+b*c    # a+(b+c*d)+f(/(a*b))\n",
    "\n",
    "ismail(7339,838,453)"
   ]
  },
  {
   "cell_type": "markdown",
   "id": "f0078a52-9999-4671-aac2-06d85fd5e45b",
   "metadata": {},
   "source": [
    "# IF & ELSE Condition with LAMBDA"
   ]
  },
  {
   "cell_type": "code",
   "execution_count": 56,
   "id": "f1b61815-a7cc-433c-bd1a-018a7079cd0e",
   "metadata": {},
   "outputs": [],
   "source": [
    "a = lambda x : x*2 if x%2==0 else x  # true if false"
   ]
  },
  {
   "cell_type": "code",
   "execution_count": 58,
   "id": "61750aa4-f4ae-488a-beaa-93911f1df6a3",
   "metadata": {},
   "outputs": [
    {
     "data": {
      "text/plain": [
       "64"
      ]
     },
     "execution_count": 58,
     "metadata": {},
     "output_type": "execute_result"
    }
   ],
   "source": [
    "a(32)"
   ]
  },
  {
   "cell_type": "markdown",
   "id": "eb225265-2fb4-47eb-8376-d7d97166f9ac",
   "metadata": {},
   "source": [
    "# MAP Function "
   ]
  },
  {
   "cell_type": "raw",
   "id": "b4059d9f-80a8-4a71-8a60-8520a857ae29",
   "metadata": {},
   "source": [
    "A function that works as an iterator to return a result after applying a function to every item of an iterable (tuple, lists, etc.).\n",
    "\n",
    "\n",
    "Syntax:\n",
    "   map(fun, iter)\n",
    "\n",
    "PARAMETERS:-\n",
    "\n",
    "fun: it is a function to which map passes each element of given iterable.\n",
    "iter: it is a iterable which is to be mapped."
   ]
  },
  {
   "cell_type": "code",
   "execution_count": 61,
   "id": "38c3f5f4-f798-438c-96dc-1eaa0cdd389d",
   "metadata": {},
   "outputs": [
    {
     "data": {
      "text/plain": [
       "[2, 4, 6, 8]"
      ]
     },
     "execution_count": 61,
     "metadata": {},
     "output_type": "execute_result"
    }
   ],
   "source": [
    "number = [1,2,3,4]\n",
    "list(map(lambda x : x+x, number))\n",
    "\n",
    "# output ------ [1+1,2+2,3+3,4+4]"
   ]
  },
  {
   "cell_type": "code",
   "execution_count": 63,
   "id": "58b73313-45ea-4e18-aa69-b0a2bed36557",
   "metadata": {},
   "outputs": [],
   "source": [
    "def addition(n):\n",
    "    return(n*2)"
   ]
  },
  {
   "cell_type": "code",
   "execution_count": 65,
   "id": "bbc7eccd-2f98-434f-be53-f1510d64c694",
   "metadata": {},
   "outputs": [
    {
     "data": {
      "text/plain": [
       "[24, 46, 68, 112]"
      ]
     },
     "execution_count": 65,
     "metadata": {},
     "output_type": "execute_result"
    }
   ],
   "source": [
    "number = [12,23,34,56]\n",
    "list(map(addition, number))   # list(map(lambda x : x*2,number))"
   ]
  },
  {
   "cell_type": "code",
   "execution_count": 67,
   "id": "77073a37-eb27-4a00-a690-f69425658604",
   "metadata": {},
   "outputs": [
    {
     "data": {
      "text/plain": [
       "[6, 10, 13]"
      ]
     },
     "execution_count": 67,
     "metadata": {},
     "output_type": "execute_result"
    }
   ],
   "source": [
    "num1 = [1,2,3]\n",
    "num2 = [4,5,6]\n",
    "num3 = [1,3,4]\n",
    "\n",
    "result = map(lambda x, y, z: x + y + z, num1, num2, num3)\n",
    "list(result)"
   ]
  },
  {
   "cell_type": "code",
   "execution_count": 71,
   "id": "9001394e-e84e-4090-90a3-35e1e47807fa",
   "metadata": {},
   "outputs": [
    {
     "data": {
      "text/plain": [
       "['SAHIL', 'DHRUV', 'SAJID', 'AYUSH']"
      ]
     },
     "execution_count": 71,
     "metadata": {},
     "output_type": "execute_result"
    }
   ],
   "source": [
    "my_mates = ['sahil','dhruv','sajid','ayush']\n",
    "list(map(lambda x : x.upper(),my_mates))"
   ]
  },
  {
   "cell_type": "code",
   "execution_count": null,
   "id": "0865d113-146b-4161-b35b-4ce620d551fb",
   "metadata": {},
   "outputs": [],
   "source": []
  }
 ],
 "metadata": {
  "kernelspec": {
   "display_name": "Python 3 (ipykernel)",
   "language": "python",
   "name": "python3"
  },
  "language_info": {
   "codemirror_mode": {
    "name": "ipython",
    "version": 3
   },
   "file_extension": ".py",
   "mimetype": "text/x-python",
   "name": "python",
   "nbconvert_exporter": "python",
   "pygments_lexer": "ipython3",
   "version": "3.12.4"
  }
 },
 "nbformat": 4,
 "nbformat_minor": 5
}
