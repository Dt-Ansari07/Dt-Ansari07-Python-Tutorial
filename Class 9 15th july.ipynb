{
 "cells": [
  {
   "cell_type": "markdown",
   "id": "dfaef4db-728b-4046-9dc2-ca5a4df54b89",
   "metadata": {},
   "source": [
    "# Class 9 July 15\n",
    "- for loop programmes\n",
    "- Star print\n",
    "- Vowel check\n",
    "- Prime number\n",
    "- Palindrome"
   ]
  },
  {
   "cell_type": "code",
   "execution_count": 28,
   "id": "712d244b-c41c-4562-8317-7402d47e8144",
   "metadata": {},
   "outputs": [
    {
     "name": "stdout",
     "output_type": "stream",
     "text": [
      "0 1 2 3 4 5 6 7 8 9 \n",
      "\n",
      "1 2 3 4 5 6 7 8 9 10 \n",
      "\n",
      "1 5 9 13 17 21 25 29 33 37 41 45 49 53 57 61 65 69 73 77 81 85 89 93 97 "
     ]
    }
   ],
   "source": [
    "for i in range(10):\n",
    "    print(i,end=\" \")\n",
    "print(\"\\n\")\n",
    "for i in range(1,11):\n",
    "    print(i,end=\" \")\n",
    "print(\"\\n\")\n",
    "for i in range(1,100,4):\n",
    "    print(i,end=\" \")\n",
    "\n"
   ]
  },
  {
   "cell_type": "code",
   "execution_count": 30,
   "id": "d4ff3c67-f581-40b5-b93f-3370c2f420b6",
   "metadata": {},
   "outputs": [
    {
     "name": "stdout",
     "output_type": "stream",
     "text": [
      "Ansari\n",
      "Ansari\n",
      "Ansari\n",
      "Ansari\n",
      "Ansari\n",
      "Ansari\n",
      "Ansari\n",
      "Ansari\n",
      "Ansari\n",
      "Ansari\n"
     ]
    }
   ],
   "source": [
    "#print your name 10 times\n",
    "for i in range(10):\n",
    "    print(\"Ansari\")"
   ]
  },
  {
   "cell_type": "code",
   "execution_count": 42,
   "id": "52ed6975-8a8a-4aac-adee-656c9a9582bd",
   "metadata": {},
   "outputs": [
    {
     "name": "stdout",
     "output_type": "stream",
     "text": [
      "1 2 3 4 5 6 7 8 9 10 "
     ]
    }
   ],
   "source": [
    "#print first 10 natural number\n",
    "for i in range(1,11):    #Range----1 to 10 leaving 11\n",
    "    print(i,end=\" \")"
   ]
  },
  {
   "cell_type": "code",
   "execution_count": 48,
   "id": "9b783793-e364-4976-aa89-8db96249f5bf",
   "metadata": {},
   "outputs": [
    {
     "name": "stdout",
     "output_type": "stream",
     "text": [
      "2 4 6 8 10 12 14 16 18 20 22 24 26 28 30 32 34 36 38 40 42 44 46 48 50 52 54 56 58 60 62 64 66 68 70 72 74 76 78 80 82 84 86 88 90 92 94 96 98 "
     ]
    }
   ],
   "source": [
    "#print only even numbers\n",
    "for i in range(2,100,2):\n",
    "    print(i,end=\" \")"
   ]
  },
  {
   "cell_type": "code",
   "execution_count": 50,
   "id": "74057343-8bd6-42cc-bba6-400bbf09d625",
   "metadata": {},
   "outputs": [
    {
     "name": "stdout",
     "output_type": "stream",
     "text": [
      "2 4 6 8 10 12 14 16 18 20 22 24 26 28 30 32 34 36 38 40 42 44 46 48 50 52 54 56 58 60 62 64 66 68 70 72 74 76 78 80 82 84 86 88 90 92 94 96 98 "
     ]
    }
   ],
   "source": [
    "#print only even numbers\n",
    "for i in range(1,100):\n",
    "    if i%2==0:\n",
    "        print(i,end=\" \")"
   ]
  },
  {
   "cell_type": "code",
   "execution_count": 54,
   "id": "ce040e0f-3cf4-440e-9644-62548a0e0f69",
   "metadata": {},
   "outputs": [
    {
     "name": "stdin",
     "output_type": "stream",
     "text": [
      "Start range 1\n",
      "End range 101\n"
     ]
    },
    {
     "name": "stdout",
     "output_type": "stream",
     "text": [
      "the sum of even number is  2550\n",
      "the sum of odd number is  2500\n"
     ]
    }
   ],
   "source": [
    "#Sum of even and odd number separately\n",
    "start_range=int(input(\"Start range\"))\n",
    "end_range=int(input(\"End range\"))\n",
    "\n",
    "se=0\n",
    "so=0\n",
    "for i in range(start_range,end_range):\n",
    "    if i%2==0:\n",
    "        \n",
    "        se=se+i\n",
    "    else:\n",
    "        so=so+i\n",
    "print(\"the sum of even number is \",se)\n",
    "print(\"the sum of odd number is \",so)\n"
   ]
  },
  {
   "cell_type": "code",
   "execution_count": 70,
   "id": "cf37a3c7-9105-4a18-bf5b-62af8c28659b",
   "metadata": {},
   "outputs": [
    {
     "name": "stdin",
     "output_type": "stream",
     "text": [
      "enter the number 6\n"
     ]
    },
    {
     "name": "stdout",
     "output_type": "stream",
     "text": [
      "the factorial is 720\n"
     ]
    }
   ],
   "source": [
    "# Factorial\n",
    "\n",
    "n=int(input(\"enter the number\"))\n",
    "f=1\n",
    "for i in range(1,n+1):\n",
    "    f=f*i\n",
    "print(\"the factorial is\",f)"
   ]
  },
  {
   "cell_type": "code",
   "execution_count": 76,
   "id": "96b9046f-867e-49a8-b9c1-4268e90ea686",
   "metadata": {},
   "outputs": [
    {
     "name": "stdin",
     "output_type": "stream",
     "text": [
      "enter the number 6\n"
     ]
    },
    {
     "name": "stdout",
     "output_type": "stream",
     "text": [
      "the factorial is 720\n"
     ]
    }
   ],
   "source": [
    "# Factorial\n",
    "\n",
    "n=int(input(\"enter the number\"))\n",
    "f=1\n",
    "for i in range(n,0,-1):    #Decrement\n",
    "    f=f*i\n",
    "    \n",
    "print(\"the factorial is\",f)"
   ]
  },
  {
   "cell_type": "code",
   "execution_count": 86,
   "id": "a53ac58f-6378-473b-ad4f-c22ae6f84e5c",
   "metadata": {},
   "outputs": [
    {
     "name": "stdin",
     "output_type": "stream",
     "text": [
      "enter the number 56\n"
     ]
    },
    {
     "name": "stdout",
     "output_type": "stream",
     "text": [
      "1 2 4 7 8 14 28 56 "
     ]
    }
   ],
   "source": [
    "# factors\n",
    "n=int(input(\"enter the number\"))\n",
    "for i in range(1,n+1):\n",
    "    if n%i==0:\n",
    "        print(i,end=\" \")"
   ]
  },
  {
   "cell_type": "code",
   "execution_count": 3,
   "id": "814985f6-da6c-4828-a4db-28d627208448",
   "metadata": {},
   "outputs": [
    {
     "name": "stdout",
     "output_type": "stream",
     "text": [
      "Not Even\n",
      "2\n",
      "Not Even\n",
      "4\n",
      "56\n",
      "Not Even\n"
     ]
    }
   ],
   "source": [
    "a=(1,2,3,4,56,7)\n",
    "\n",
    "for i in a:\n",
    "    if i%2==0:\n",
    "        print(i)\n",
    "    else:\n",
    "        print(\"Not Even\")"
   ]
  },
  {
   "cell_type": "code",
   "execution_count": 102,
   "id": "1bfbf991-9d75-4155-8516-1d2c1b14a73a",
   "metadata": {},
   "outputs": [
    {
     "name": "stdout",
     "output_type": "stream",
     "text": [
      "\n",
      "*\n",
      "**\n",
      "***\n",
      "****\n",
      "*****\n"
     ]
    }
   ],
   "source": [
    "s1='*'\n",
    "for i in range(6): #0 1 2 3 4 5\n",
    "    print(s1*i)"
   ]
  },
  {
   "cell_type": "code",
   "execution_count": 116,
   "id": "d965f23a-117b-4219-b829-ebc8ae719eb3",
   "metadata": {},
   "outputs": [
    {
     "name": "stdout",
     "output_type": "stream",
     "text": [
      "i@i@t@ @m@a@d@a@r@a@s@"
     ]
    }
   ],
   "source": [
    "#spacing lining\n",
    "st=\"iit madaras\"\n",
    "for t in st:\n",
    "    print(t,end=\"@\")   # \\n new line    \\t for tabbed spaces"
   ]
  },
  {
   "cell_type": "code",
   "execution_count": 37,
   "id": "8afed0d6-ed7b-4a73-9cf3-d60b09a8e16d",
   "metadata": {},
   "outputs": [
    {
     "name": "stdout",
     "output_type": "stream",
     "text": [
      "i\n",
      "i\n",
      "t\n",
      " \n",
      "m\n",
      "a\n",
      "d\n",
      "a\n",
      "r\n",
      "a\n",
      "s\n"
     ]
    }
   ],
   "source": [
    "st=\"iit madaras\"\n",
    "for t in st:\n",
    "    print(t,end=\"\\n\")   # \\n new line    \\t for tabbed spaces"
   ]
  },
  {
   "cell_type": "code",
   "execution_count": 120,
   "id": "e7d5beff-3a97-475e-9124-d44f98a0526f",
   "metadata": {},
   "outputs": [
    {
     "name": "stdout",
     "output_type": "stream",
     "text": [
      "i\ti\tt\t \tm\ta\td\ta\tr\ta\ts\t"
     ]
    }
   ],
   "source": [
    "st=\"iit madaras\"\n",
    "for t in st:\n",
    "    print(t,end=\"\\t\")   # \\n new line    \\t for tabbed spaces"
   ]
  },
  {
   "cell_type": "code",
   "execution_count": 132,
   "id": "7000c964-697d-4d5c-9881-75c550ea57fb",
   "metadata": {},
   "outputs": [
    {
     "name": "stdout",
     "output_type": "stream",
     "text": [
      "e o e e o e o a e o u "
     ]
    }
   ],
   "source": [
    "a=\"hello everyone how are you\"\n",
    "vowel=[\"a\",\"i\",\"e\",\"o\",\"u\"]\n",
    "for i in a:\n",
    "    if i in vowel:\n",
    "        print(i,end=\" \")"
   ]
  },
  {
   "cell_type": "code",
   "execution_count": 140,
   "id": "4becda51-f8e1-4cdb-a652-f8babe58d632",
   "metadata": {},
   "outputs": [
    {
     "name": "stdout",
     "output_type": "stream",
     "text": [
      "It's L\n",
      "It's L\n",
      "Not L\n"
     ]
    }
   ],
   "source": [
    "word=\"hello1\"\n",
    "\n",
    "for w in word:\n",
    "    if w==\"l\":\n",
    "        print(\"It's L\")\n",
    "else:\n",
    "        print(\"Not L\")"
   ]
  },
  {
   "cell_type": "code",
   "execution_count": 144,
   "id": "e0ebe903-e382-41e4-af9c-2878ce4b67d1",
   "metadata": {},
   "outputs": [
    {
     "name": "stdout",
     "output_type": "stream",
     "text": [
      "a\n",
      "hello\n",
      "r\n",
      "hello\n",
      "thats great\n",
      "p\n",
      "hello\n",
      "i\n",
      "hello\n",
      "t\n",
      "hello\n",
      "t\n"
     ]
    }
   ],
   "source": [
    "name=\"arpit\"\n",
    "\n",
    "for i in name:\n",
    "    if i==\"p\":\n",
    "        print(\"thats great\")\n",
    "    print(i)\n",
    "    print(\"hello\")\n",
    "\n",
    "\n",
    "print(i)"
   ]
  },
  {
   "cell_type": "code",
   "execution_count": 160,
   "id": "37c37fa1-7ba5-4010-941f-23e1b4b62685",
   "metadata": {},
   "outputs": [
    {
     "name": "stdout",
     "output_type": "stream",
     "text": [
      "2 3 5 7 11 13 17 19 23 29 31 37 41 43 47 53 59 61 67 71 73 79 83 89 97 "
     ]
    }
   ],
   "source": [
    "#Prime number in range\n",
    "for i in range(2,100):\n",
    "    n=i\n",
    "    j=1\n",
    "    co=0\n",
    "    while j<=n:\n",
    "        if n%j==0:\n",
    "            co=co+1\n",
    "        j=j+1\n",
    "    if co==2:\n",
    "        print(i,end=\" \")"
   ]
  },
  {
   "cell_type": "code",
   "execution_count": 3,
   "id": "387ff606-9509-48a3-87e3-1775748e0bce",
   "metadata": {},
   "outputs": [
    {
     "name": "stdout",
     "output_type": "stream",
     "text": [
      "11 22 33 44 55 66 77 88 99 101 111 121 131 141 151 161 171 181 191 202 212 222 232 242 252 262 272 282 292 303 313 323 333 343 353 363 373 383 393 404 414 424 434 444 454 464 474 484 494 505 515 525 535 545 555 565 575 585 595 606 616 626 636 646 656 666 676 686 696 707 717 727 737 747 757 767 777 787 797 808 818 828 838 848 858 868 878 888 898 909 919 929 939 949 959 969 979 989 999 "
     ]
    }
   ],
   "source": [
    "#Palindrome number in range\n",
    "for i in range(11,1000):\n",
    "    n=i\n",
    "    rev=0\n",
    "    while n>0:\n",
    "        rem=n%10\n",
    "        rev=rev*10+rem\n",
    "        n=n//10\n",
    "        \n",
    "    if rev==i:\n",
    "        print(i,end=\" \")"
   ]
  },
  {
   "cell_type": "markdown",
   "id": "44cb14fb-48f5-4a69-a961-deb94d7464c6",
   "metadata": {},
   "source": [
    "# NEXT TOPIC -  LIST"
   ]
  },
  {
   "cell_type": "code",
   "execution_count": null,
   "id": "0274a55b-e0ee-4d77-833b-57120c75840b",
   "metadata": {},
   "outputs": [],
   "source": []
  }
 ],
 "metadata": {
  "kernelspec": {
   "display_name": "Python 3 (ipykernel)",
   "language": "python",
   "name": "python3"
  },
  "language_info": {
   "codemirror_mode": {
    "name": "ipython",
    "version": 3
   },
   "file_extension": ".py",
   "mimetype": "text/x-python",
   "name": "python",
   "nbconvert_exporter": "python",
   "pygments_lexer": "ipython3",
   "version": "3.12.4"
  }
 },
 "nbformat": 4,
 "nbformat_minor": 5
}
